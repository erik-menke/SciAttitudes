{
 "cells": [
  {
   "cell_type": "markdown",
   "metadata": {},
   "source": [
    "Confirmatory factor analysis on survey data given during the Fall, 2019, semester. The CFA uses the model from Jennifer Lewis's J. Chem. Ed. paper developing the ASCI V2 (https://pubs.acs.org/doi/full/10.1021/ed900071q)"
   ]
  },
  {
   "cell_type": "code",
   "execution_count": 1,
   "metadata": {},
   "outputs": [
    {
     "name": "stderr",
     "output_type": "stream",
     "text": [
      "This is lavaan 0.6-6\n",
      "lavaan is BETA software! Please report any bugs.\n",
      "\n",
      "Attaching package: ‘psych’\n",
      "\n",
      "The following object is masked from ‘package:lavaan’:\n",
      "\n",
      "    cor2cov\n",
      "\n"
     ]
    }
   ],
   "source": [
    "library(lavaan)\n",
    "library(readxl)\n",
    "library(psych)\n"
   ]
  },
  {
   "cell_type": "code",
   "execution_count": 2,
   "metadata": {},
   "outputs": [
    {
     "name": "stderr",
     "output_type": "stream",
     "text": [
      "New names:\n",
      "* Q35 -> Q35...1\n",
      "* Q35 -> Q35...96\n",
      "New names:\n",
      "* Q35 -> Q35...1\n",
      "* Q35 -> Q35...96\n"
     ]
    }
   ],
   "source": [
    "path = \"/Users/erikmenke/UC-Merced/Data/2018-2019/NSF HSI/2018-2019StudentData/2019Spring/Survey/\"\n",
    "PreSurveyChemDataFilename = \"Presurvey.xlsx\"\n",
    "PostSurveyChemDataFilename = \"Postsurvey.xlsx\"\n",
    "\n",
    "PreSurveyChemData <- read_excel(paste(path, PreSurveyChemDataFilename, sep=\"\"))\n",
    "PostSurveyChemData <- read_excel(paste(path, PostSurveyChemDataFilename, sep=\"\"))\n"
   ]
  },
  {
   "cell_type": "code",
   "execution_count": 3,
   "metadata": {},
   "outputs": [],
   "source": [
    "ChemAttPreSubset<-PreSurveyChemData[-1,c('Q1_1', 'Q1_4', 'Q1_5', 'Q1_10', 'Q1_7', 'Q1_11', 'Q1_14', 'Q1_17')]\n",
    "ChemAttPreSubset<-na.omit(ChemAttPreSubset)\n",
    "ChemAttPreSubset<-as.data.frame(sapply(ChemAttPreSubset,as.numeric))\n"
   ]
  },
  {
   "cell_type": "code",
   "execution_count": 4,
   "metadata": {},
   "outputs": [],
   "source": [
    "ChemAttPreSubset[\"Q1_1\"]<-(ChemAttPreSubset[\"Q1_1\"] - 8)*-1\n",
    "ChemAttPreSubset[\"Q1_7\"]<-(ChemAttPreSubset[\"Q1_7\"] - 8)*-1\n",
    "ChemAttPreSubset[\"Q1_11\"]<-(ChemAttPreSubset[\"Q1_11\"] - 8)*-1\n",
    "ChemAttPreSubset[\"Q1_14\"]<-(ChemAttPreSubset[\"Q1_14\"] - 8)*-1\n"
   ]
  },
  {
   "cell_type": "code",
   "execution_count": 5,
   "metadata": {},
   "outputs": [],
   "source": [
    "prechemfit.model<-'Cognition =~ Q1_1 + Q1_4 + Q1_5 + Q1_10\n",
    "                Affect =~ Q1_7 + Q1_11 + Q1_14 + Q1_17'\n"
   ]
  },
  {
   "cell_type": "code",
   "execution_count": 6,
   "metadata": {},
   "outputs": [],
   "source": [
    "prechemfit <- cfa(prechemfit.model, data=ChemAttPreSubset, estimator=\"MLR\")\n"
   ]
  },
  {
   "cell_type": "code",
   "execution_count": 7,
   "metadata": {},
   "outputs": [
    {
     "name": "stdout",
     "output_type": "stream",
     "text": [
      "lavaan 0.6-6 ended normally after 33 iterations\n",
      "\n",
      "  Estimator                                         ML\n",
      "  Optimization method                           NLMINB\n",
      "  Number of free parameters                         17\n",
      "                                                      \n",
      "  Number of observations                           699\n",
      "                                                      \n",
      "Model Test User Model:\n",
      "                                               Standard      Robust\n",
      "  Test Statistic                                159.449     133.252\n",
      "  Degrees of freedom                                 19          19\n",
      "  P-value (Chi-square)                            0.000       0.000\n",
      "  Scaling correction factor                                   1.197\n",
      "       Yuan-Bentler correction (Mplus variant)                     \n",
      "\n",
      "Model Test Baseline Model:\n",
      "\n",
      "  Test statistic                              1926.913    1490.569\n",
      "  Degrees of freedom                                28          28\n",
      "  P-value                                        0.000       0.000\n",
      "  Scaling correction factor                                  1.293\n",
      "\n",
      "User Model versus Baseline Model:\n",
      "\n",
      "  Comparative Fit Index (CFI)                    0.926       0.922\n",
      "  Tucker-Lewis Index (TLI)                       0.891       0.885\n",
      "                                                                  \n",
      "  Robust Comparative Fit Index (CFI)                         0.928\n",
      "  Robust Tucker-Lewis Index (TLI)                            0.893\n",
      "\n",
      "Loglikelihood and Information Criteria:\n",
      "\n",
      "  Loglikelihood user model (H0)              -8548.064   -8548.064\n",
      "  Scaling correction factor                                  1.243\n",
      "      for the MLR correction                                      \n",
      "  Loglikelihood unrestricted model (H1)      -8468.339   -8468.339\n",
      "  Scaling correction factor                                  1.219\n",
      "      for the MLR correction                                      \n",
      "                                                                  \n",
      "  Akaike (AIC)                               17130.127   17130.127\n",
      "  Bayesian (BIC)                             17207.471   17207.471\n",
      "  Sample-size adjusted Bayesian (BIC)        17153.493   17153.493\n",
      "\n",
      "Root Mean Square Error of Approximation:\n",
      "\n",
      "  RMSEA                                          0.103       0.093\n",
      "  90 Percent confidence interval - lower         0.088       0.079\n",
      "  90 Percent confidence interval - upper         0.118       0.107\n",
      "  P-value RMSEA <= 0.05                          0.000       0.000\n",
      "                                                                  \n",
      "  Robust RMSEA                                               0.101\n",
      "  90 Percent confidence interval - lower                     0.086\n",
      "  90 Percent confidence interval - upper                     0.118\n",
      "\n",
      "Standardized Root Mean Square Residual:\n",
      "\n",
      "  SRMR                                           0.062       0.062\n",
      "\n",
      "Parameter Estimates:\n",
      "\n",
      "  Standard errors                             Sandwich\n",
      "  Information bread                           Observed\n",
      "  Observed information based on                Hessian\n",
      "\n",
      "Latent Variables:\n",
      "                   Estimate  Std.Err  z-value  P(>|z|)   Std.lv  Std.all\n",
      "  Cognition =~                                                          \n",
      "    Q1_1              1.000                               0.964    0.692\n",
      "    Q1_4              0.918    0.075   12.217    0.000    0.885    0.719\n",
      "    Q1_5              1.080    0.068   15.839    0.000    1.041    0.823\n",
      "    Q1_10             0.575    0.064    9.054    0.000    0.555    0.502\n",
      "  Affect =~                                                             \n",
      "    Q1_7              1.000                               1.168    0.755\n",
      "    Q1_11             0.815    0.047   17.376    0.000    0.951    0.771\n",
      "    Q1_14             0.802    0.051   15.668    0.000    0.937    0.735\n",
      "    Q1_17             0.538    0.060    8.985    0.000    0.628    0.431\n",
      "\n",
      "Covariances:\n",
      "                   Estimate  Std.Err  z-value  P(>|z|)   Std.lv  Std.all\n",
      "  Cognition ~~                                                          \n",
      "    Affect            0.745    0.088    8.448    0.000    0.661    0.661\n",
      "\n",
      "Variances:\n",
      "                   Estimate  Std.Err  z-value  P(>|z|)   Std.lv  Std.all\n",
      "   .Q1_1              1.012    0.086   11.828    0.000    1.012    0.521\n",
      "   .Q1_4              0.734    0.071   10.281    0.000    0.734    0.484\n",
      "   .Q1_5              0.517    0.053    9.836    0.000    0.517    0.323\n",
      "   .Q1_10             0.913    0.060   15.101    0.000    0.913    0.748\n",
      "   .Q1_7              1.031    0.093   11.110    0.000    1.031    0.431\n",
      "   .Q1_11             0.618    0.061   10.075    0.000    0.618    0.406\n",
      "   .Q1_14             0.746    0.067   11.089    0.000    0.746    0.460\n",
      "   .Q1_17             1.731    0.102   16.986    0.000    1.731    0.814\n",
      "    Cognition         0.930    0.111    8.353    0.000    1.000    1.000\n",
      "    Affect            1.364    0.127   10.762    0.000    1.000    1.000\n",
      "\n",
      "R-Square:\n",
      "                   Estimate\n",
      "    Q1_1              0.479\n",
      "    Q1_4              0.516\n",
      "    Q1_5              0.677\n",
      "    Q1_10             0.252\n",
      "    Q1_7              0.569\n",
      "    Q1_11             0.594\n",
      "    Q1_14             0.540\n",
      "    Q1_17             0.186\n",
      "\n"
     ]
    }
   ],
   "source": [
    "summary(prechemfit, fit.measures=TRUE, standardized=TRUE, rsquare=TRUE)\n"
   ]
  },
  {
   "cell_type": "code",
   "execution_count": 8,
   "metadata": {
    "scrolled": true
   },
   "outputs": [
    {
     "data": {
      "text/html": [
       "<dl>\n",
       "\t<dt>$type</dt>\n",
       "\t\t<dd>'raw'</dd>\n",
       "\t<dt>$cov</dt>\n",
       "\t\t<dd><table>\n",
       "<thead><tr><th></th><th scope=col>Q1_1</th><th scope=col>Q1_4</th><th scope=col>Q1_5</th><th scope=col>Q1_10</th><th scope=col>Q1_7</th><th scope=col>Q1_11</th><th scope=col>Q1_14</th><th scope=col>Q1_17</th></tr></thead>\n",
       "<tbody>\n",
       "\t<tr><th scope=row>Q1_1</th><td>-1.579693e-06</td><td>-7.925785e-02</td><td>-1.817091e-02</td><td> 7.924757e-03</td><td> 1.975567e-01</td><td> 7.216945e-02</td><td> 2.153916e-01</td><td> 1.161908e-01</td></tr>\n",
       "\t<tr><th scope=row>Q1_4</th><td>-7.925785e-02</td><td> 6.187231e-07</td><td> 1.630324e-02</td><td> 1.954839e-01</td><td>-8.092434e-02</td><td>-1.778229e-01</td><td>-1.620329e-02</td><td>-2.801289e-03</td></tr>\n",
       "\t<tr><th scope=row>Q1_5</th><td>-1.817091e-02</td><td> 1.630324e-02</td><td> 5.437872e-07</td><td>-5.021422e-02</td><td> 6.541223e-02</td><td>-7.592738e-02</td><td> 1.073018e-01</td><td> 1.410585e-01</td></tr>\n",
       "\t<tr><th scope=row>Q1_10</th><td> 7.924757e-03</td><td> 1.954839e-01</td><td>-5.021422e-02</td><td> 6.641396e-07</td><td>-1.721763e-01</td><td>-2.578211e-01</td><td>-1.141497e-01</td><td> 3.487119e-02</td></tr>\n",
       "\t<tr><th scope=row>Q1_7</th><td> 1.975567e-01</td><td>-8.092434e-02</td><td> 6.541223e-02</td><td>-1.721763e-01</td><td>-4.788071e-07</td><td> 6.367961e-02</td><td>-6.576831e-02</td><td>-1.040467e-01</td></tr>\n",
       "\t<tr><th scope=row>Q1_11</th><td> 7.216945e-02</td><td>-1.778229e-01</td><td>-7.592738e-02</td><td>-2.578211e-01</td><td> 6.367961e-02</td><td> 1.396218e-07</td><td> 5.643262e-03</td><td> 1.949736e-02</td></tr>\n",
       "\t<tr><th scope=row>Q1_14</th><td> 2.153916e-01</td><td>-1.620329e-02</td><td> 1.073018e-01</td><td>-1.141497e-01</td><td>-6.576831e-02</td><td> 5.643262e-03</td><td>-5.505970e-08</td><td> 7.661121e-03</td></tr>\n",
       "\t<tr><th scope=row>Q1_17</th><td> 1.161908e-01</td><td>-2.801289e-03</td><td> 1.410585e-01</td><td> 3.487119e-02</td><td>-1.040467e-01</td><td> 1.949736e-02</td><td> 7.661121e-03</td><td>-6.895877e-07</td></tr>\n",
       "</tbody>\n",
       "</table>\n",
       "</dd>\n",
       "</dl>\n"
      ],
      "text/latex": [
       "\\begin{description}\n",
       "\\item[\\$type] 'raw'\n",
       "\\item[\\$cov] \\begin{tabular}{r|llllllll}\n",
       "  & Q1\\_1 & Q1\\_4 & Q1\\_5 & Q1\\_10 & Q1\\_7 & Q1\\_11 & Q1\\_14 & Q1\\_17\\\\\n",
       "\\hline\n",
       "\tQ1\\_1 & -1.579693e-06 & -7.925785e-02 & -1.817091e-02 &  7.924757e-03 &  1.975567e-01 &  7.216945e-02 &  2.153916e-01 &  1.161908e-01\\\\\n",
       "\tQ1\\_4 & -7.925785e-02 &  6.187231e-07 &  1.630324e-02 &  1.954839e-01 & -8.092434e-02 & -1.778229e-01 & -1.620329e-02 & -2.801289e-03\\\\\n",
       "\tQ1\\_5 & -1.817091e-02 &  1.630324e-02 &  5.437872e-07 & -5.021422e-02 &  6.541223e-02 & -7.592738e-02 &  1.073018e-01 &  1.410585e-01\\\\\n",
       "\tQ1\\_10 &  7.924757e-03 &  1.954839e-01 & -5.021422e-02 &  6.641396e-07 & -1.721763e-01 & -2.578211e-01 & -1.141497e-01 &  3.487119e-02\\\\\n",
       "\tQ1\\_7 &  1.975567e-01 & -8.092434e-02 &  6.541223e-02 & -1.721763e-01 & -4.788071e-07 &  6.367961e-02 & -6.576831e-02 & -1.040467e-01\\\\\n",
       "\tQ1\\_11 &  7.216945e-02 & -1.778229e-01 & -7.592738e-02 & -2.578211e-01 &  6.367961e-02 &  1.396218e-07 &  5.643262e-03 &  1.949736e-02\\\\\n",
       "\tQ1\\_14 &  2.153916e-01 & -1.620329e-02 &  1.073018e-01 & -1.141497e-01 & -6.576831e-02 &  5.643262e-03 & -5.505970e-08 &  7.661121e-03\\\\\n",
       "\tQ1\\_17 &  1.161908e-01 & -2.801289e-03 &  1.410585e-01 &  3.487119e-02 & -1.040467e-01 &  1.949736e-02 &  7.661121e-03 & -6.895877e-07\\\\\n",
       "\\end{tabular}\n",
       "\n",
       "\\end{description}\n"
      ],
      "text/markdown": [
       "$type\n",
       ":   'raw'\n",
       "$cov\n",
       ":   \n",
       "| <!--/--> | Q1_1 | Q1_4 | Q1_5 | Q1_10 | Q1_7 | Q1_11 | Q1_14 | Q1_17 |\n",
       "|---|---|---|---|---|---|---|---|---|\n",
       "| Q1_1 | -1.579693e-06 | -7.925785e-02 | -1.817091e-02 |  7.924757e-03 |  1.975567e-01 |  7.216945e-02 |  2.153916e-01 |  1.161908e-01 |\n",
       "| Q1_4 | -7.925785e-02 |  6.187231e-07 |  1.630324e-02 |  1.954839e-01 | -8.092434e-02 | -1.778229e-01 | -1.620329e-02 | -2.801289e-03 |\n",
       "| Q1_5 | -1.817091e-02 |  1.630324e-02 |  5.437872e-07 | -5.021422e-02 |  6.541223e-02 | -7.592738e-02 |  1.073018e-01 |  1.410585e-01 |\n",
       "| Q1_10 |  7.924757e-03 |  1.954839e-01 | -5.021422e-02 |  6.641396e-07 | -1.721763e-01 | -2.578211e-01 | -1.141497e-01 |  3.487119e-02 |\n",
       "| Q1_7 |  1.975567e-01 | -8.092434e-02 |  6.541223e-02 | -1.721763e-01 | -4.788071e-07 |  6.367961e-02 | -6.576831e-02 | -1.040467e-01 |\n",
       "| Q1_11 |  7.216945e-02 | -1.778229e-01 | -7.592738e-02 | -2.578211e-01 |  6.367961e-02 |  1.396218e-07 |  5.643262e-03 |  1.949736e-02 |\n",
       "| Q1_14 |  2.153916e-01 | -1.620329e-02 |  1.073018e-01 | -1.141497e-01 | -6.576831e-02 |  5.643262e-03 | -5.505970e-08 |  7.661121e-03 |\n",
       "| Q1_17 |  1.161908e-01 | -2.801289e-03 |  1.410585e-01 |  3.487119e-02 | -1.040467e-01 |  1.949736e-02 |  7.661121e-03 | -6.895877e-07 |\n",
       "\n",
       "\n",
       "\n",
       "\n"
      ],
      "text/plain": [
       "$type\n",
       "[1] \"raw\"\n",
       "\n",
       "$cov\n",
       "      Q1_1   Q1_4   Q1_5   Q1_10  Q1_7   Q1_11  Q1_14  Q1_17 \n",
       "Q1_1   0.000                                                 \n",
       "Q1_4  -0.079  0.000                                          \n",
       "Q1_5  -0.018  0.016  0.000                                   \n",
       "Q1_10  0.008  0.195 -0.050  0.000                            \n",
       "Q1_7   0.198 -0.081  0.065 -0.172  0.000                     \n",
       "Q1_11  0.072 -0.178 -0.076 -0.258  0.064  0.000              \n",
       "Q1_14  0.215 -0.016  0.107 -0.114 -0.066  0.006  0.000       \n",
       "Q1_17  0.116 -0.003  0.141  0.035 -0.104  0.019  0.008  0.000\n"
      ]
     },
     "metadata": {},
     "output_type": "display_data"
    }
   ],
   "source": [
    "resid(prechemfit)\n"
   ]
  },
  {
   "cell_type": "code",
   "execution_count": 9,
   "metadata": {},
   "outputs": [
    {
     "data": {
      "text/plain": [
       "\n",
       "Reliability analysis   \n",
       "Call: alpha(x = ChemAttPreSubset[c(\"Q1_1\", \"Q1_4\", \"Q1_5\", \"Q1_10\")])\n",
       "\n",
       "  raw_alpha std.alpha G6(smc) average_r S/N   ase mean   sd median_r\n",
       "      0.78      0.78    0.75      0.47 3.6 0.013  3.2 0.98     0.48\n",
       "\n",
       " lower alpha upper     95% confidence boundaries\n",
       "0.76 0.78 0.81 \n",
       "\n",
       " Reliability if an item is dropped:\n",
       "      raw_alpha std.alpha G6(smc) average_r S/N alpha se  var.r med.r\n",
       "Q1_1       0.75      0.75    0.68      0.49 2.9    0.016 0.0127  0.50\n",
       "Q1_4       0.69      0.69    0.62      0.43 2.3    0.019 0.0127  0.38\n",
       "Q1_5       0.69      0.70    0.62      0.44 2.3    0.020 0.0059  0.45\n",
       "Q1_10      0.77      0.78    0.71      0.54 3.5    0.015 0.0060  0.56\n",
       "\n",
       " Item statistics \n",
       "        n raw.r std.r r.cor r.drop mean  sd\n",
       "Q1_1  699  0.78  0.76  0.63   0.56  3.6 1.4\n",
       "Q1_4  699  0.82  0.82  0.75   0.65  3.1 1.2\n",
       "Q1_5  699  0.82  0.82  0.75   0.66  3.7 1.3\n",
       "Q1_10 699  0.69  0.72  0.56   0.49  2.5 1.1\n",
       "\n",
       "Non missing response frequency for each item\n",
       "         1    2    3    4    5    6    7 miss\n",
       "Q1_1  0.08 0.13 0.29 0.28 0.13 0.07 0.03    0\n",
       "Q1_4  0.10 0.20 0.34 0.24 0.08 0.04 0.00    0\n",
       "Q1_5  0.03 0.15 0.28 0.30 0.17 0.06 0.01    0\n",
       "Q1_10 0.18 0.34 0.30 0.14 0.04 0.01 0.00    0"
      ]
     },
     "metadata": {},
     "output_type": "display_data"
    }
   ],
   "source": [
    "alpha(ChemAttPreSubset[c('Q1_1', 'Q1_4', 'Q1_5', 'Q1_10')])\n"
   ]
  },
  {
   "cell_type": "code",
   "execution_count": 10,
   "metadata": {},
   "outputs": [
    {
     "data": {
      "text/plain": [
       "\n",
       "Reliability analysis   \n",
       "Call: alpha(x = ChemAttPreSubset[c(\"Q1_7\", \"Q1_11\", \"Q1_14\", \"Q1_17\")])\n",
       "\n",
       "  raw_alpha std.alpha G6(smc) average_r S/N   ase mean sd median_r\n",
       "      0.75      0.76    0.72      0.44 3.2 0.016  4.4  1     0.43\n",
       "\n",
       " lower alpha upper     95% confidence boundaries\n",
       "0.72 0.75 0.78 \n",
       "\n",
       " Reliability if an item is dropped:\n",
       "      raw_alpha std.alpha G6(smc) average_r S/N alpha se  var.r med.r\n",
       "Q1_7       0.67      0.68    0.60      0.41 2.1    0.022 0.0190  0.34\n",
       "Q1_11      0.63      0.64    0.56      0.37 1.8    0.024 0.0168  0.32\n",
       "Q1_14      0.67      0.68    0.62      0.41 2.1    0.022 0.0318  0.34\n",
       "Q1_17      0.79      0.80    0.73      0.57 4.0    0.013 0.0022  0.57\n",
       "\n",
       " Item statistics \n",
       "        n raw.r std.r r.cor r.drop mean  sd\n",
       "Q1_7  699  0.81  0.79  0.71   0.59  4.4 1.5\n",
       "Q1_11 699  0.81  0.83  0.77   0.67  4.4 1.2\n",
       "Q1_14 699  0.78  0.79  0.69   0.60  4.4 1.3\n",
       "Q1_17 699  0.65  0.64  0.42   0.37  4.6 1.5\n",
       "\n",
       "Non missing response frequency for each item\n",
       "         1    2    3    4    5    6    7 miss\n",
       "Q1_7  0.04 0.08 0.17 0.25 0.21 0.16 0.10    0\n",
       "Q1_11 0.02 0.04 0.11 0.37 0.28 0.13 0.05    0\n",
       "Q1_14 0.02 0.05 0.14 0.36 0.26 0.11 0.06    0\n",
       "Q1_17 0.03 0.05 0.12 0.27 0.23 0.20 0.09    0"
      ]
     },
     "metadata": {},
     "output_type": "display_data"
    }
   ],
   "source": [
    "alpha(ChemAttPreSubset[c('Q1_7', 'Q1_11', 'Q1_14', 'Q1_17')])\n"
   ]
  },
  {
   "cell_type": "code",
   "execution_count": null,
   "metadata": {},
   "outputs": [],
   "source": []
  },
  {
   "cell_type": "code",
   "execution_count": 11,
   "metadata": {},
   "outputs": [],
   "source": [
    "ChemAttPostSubset<-PostSurveyChemData[-1,c('Q1_1', 'Q1_4', 'Q1_5', 'Q1_10', 'Q1_7', 'Q1_11', 'Q1_14', 'Q1_17')]\n",
    "ChemAttPostSubset<-na.omit(ChemAttPostSubset)\n",
    "ChemAttPostSubset<-as.data.frame(sapply(ChemAttPostSubset,as.numeric))\n"
   ]
  },
  {
   "cell_type": "code",
   "execution_count": 12,
   "metadata": {},
   "outputs": [],
   "source": [
    "ChemAttPostSubset[\"Q1_1\"]<-(ChemAttPostSubset[\"Q1_1\"] - 8)*-1\n",
    "ChemAttPostSubset[\"Q1_7\"]<-(ChemAttPostSubset[\"Q1_7\"] - 8)*-1\n",
    "ChemAttPostSubset[\"Q1_11\"]<-(ChemAttPostSubset[\"Q1_11\"] - 8)*-1\n",
    "ChemAttPostSubset[\"Q1_14\"]<-(ChemAttPostSubset[\"Q1_14\"] - 8)*-1\n"
   ]
  },
  {
   "cell_type": "code",
   "execution_count": 13,
   "metadata": {},
   "outputs": [],
   "source": [
    "postchemfit.model<-'Cognition =~ Q1_1 + Q1_4 + Q1_5 + Q1_10\n",
    "                Affect =~ Q1_7 + Q1_11 + Q1_14 + Q1_17'\n"
   ]
  },
  {
   "cell_type": "code",
   "execution_count": 14,
   "metadata": {},
   "outputs": [],
   "source": [
    "postchemfit <- cfa(postchemfit.model, data=ChemAttPostSubset, estimator=\"MLR\")\n"
   ]
  },
  {
   "cell_type": "code",
   "execution_count": 15,
   "metadata": {},
   "outputs": [
    {
     "name": "stdout",
     "output_type": "stream",
     "text": [
      "lavaan 0.6-6 ended normally after 33 iterations\n",
      "\n",
      "  Estimator                                         ML\n",
      "  Optimization method                           NLMINB\n",
      "  Number of free parameters                         17\n",
      "                                                      \n",
      "  Number of observations                           190\n",
      "                                                      \n",
      "Model Test User Model:\n",
      "                                               Standard      Robust\n",
      "  Test Statistic                                 77.588      68.364\n",
      "  Degrees of freedom                                 19          19\n",
      "  P-value (Chi-square)                            0.000       0.000\n",
      "  Scaling correction factor                                   1.135\n",
      "       Yuan-Bentler correction (Mplus variant)                     \n",
      "\n",
      "Model Test Baseline Model:\n",
      "\n",
      "  Test statistic                               729.274     593.587\n",
      "  Degrees of freedom                                28          28\n",
      "  P-value                                        0.000       0.000\n",
      "  Scaling correction factor                                  1.229\n",
      "\n",
      "User Model versus Baseline Model:\n",
      "\n",
      "  Comparative Fit Index (CFI)                    0.916       0.913\n",
      "  Tucker-Lewis Index (TLI)                       0.877       0.871\n",
      "                                                                  \n",
      "  Robust Comparative Fit Index (CFI)                         0.919\n",
      "  Robust Tucker-Lewis Index (TLI)                            0.881\n",
      "\n",
      "Loglikelihood and Information Criteria:\n",
      "\n",
      "  Loglikelihood user model (H0)              -2341.769   -2341.769\n",
      "  Scaling correction factor                                  1.187\n",
      "      for the MLR correction                                      \n",
      "  Loglikelihood unrestricted model (H1)      -2302.975   -2302.975\n",
      "  Scaling correction factor                                  1.159\n",
      "      for the MLR correction                                      \n",
      "                                                                  \n",
      "  Akaike (AIC)                                4717.537    4717.537\n",
      "  Bayesian (BIC)                              4772.737    4772.737\n",
      "  Sample-size adjusted Bayesian (BIC)         4718.888    4718.888\n",
      "\n",
      "Root Mean Square Error of Approximation:\n",
      "\n",
      "  RMSEA                                          0.127       0.117\n",
      "  90 Percent confidence interval - lower         0.099       0.090\n",
      "  90 Percent confidence interval - upper         0.158       0.146\n",
      "  P-value RMSEA <= 0.05                          0.000       0.000\n",
      "                                                                  \n",
      "  Robust RMSEA                                               0.125\n",
      "  90 Percent confidence interval - lower                     0.094\n",
      "  90 Percent confidence interval - upper                     0.157\n",
      "\n",
      "Standardized Root Mean Square Residual:\n",
      "\n",
      "  SRMR                                           0.061       0.061\n",
      "\n",
      "Parameter Estimates:\n",
      "\n",
      "  Standard errors                             Sandwich\n",
      "  Information bread                           Observed\n",
      "  Observed information based on                Hessian\n",
      "\n",
      "Latent Variables:\n",
      "                   Estimate  Std.Err  z-value  P(>|z|)   Std.lv  Std.all\n",
      "  Cognition =~                                                          \n",
      "    Q1_1              1.000                               1.148    0.762\n",
      "    Q1_4              0.776    0.110    7.046    0.000    0.891    0.738\n",
      "    Q1_5              0.993    0.124    8.032    0.000    1.139    0.857\n",
      "    Q1_10             0.601    0.065    9.287    0.000    0.690    0.548\n",
      "  Affect =~                                                             \n",
      "    Q1_7              1.000                               1.303    0.770\n",
      "    Q1_11             0.936    0.060   15.618    0.000    1.220    0.865\n",
      "    Q1_14             0.784    0.077   10.130    0.000    1.022    0.794\n",
      "    Q1_17             0.631    0.098    6.425    0.000    0.822    0.522\n",
      "\n",
      "Covariances:\n",
      "                   Estimate  Std.Err  z-value  P(>|z|)   Std.lv  Std.all\n",
      "  Cognition ~~                                                          \n",
      "    Affect            1.028    0.189    5.435    0.000    0.687    0.687\n",
      "\n",
      "Variances:\n",
      "                   Estimate  Std.Err  z-value  P(>|z|)   Std.lv  Std.all\n",
      "   .Q1_1              0.950    0.176    5.393    0.000    0.950    0.419\n",
      "   .Q1_4              0.664    0.110    6.065    0.000    0.664    0.456\n",
      "   .Q1_5              0.467    0.108    4.322    0.000    0.467    0.265\n",
      "   .Q1_10             1.110    0.159    6.991    0.000    1.110    0.700\n",
      "   .Q1_7              1.163    0.177    6.574    0.000    1.163    0.406\n",
      "   .Q1_11             0.502    0.103    4.856    0.000    0.502    0.252\n",
      "   .Q1_14             0.614    0.106    5.779    0.000    0.614    0.370\n",
      "   .Q1_17             1.803    0.228    7.903    0.000    1.803    0.727\n",
      "    Cognition         1.317    0.255    5.159    0.000    1.000    1.000\n",
      "    Affect            1.698    0.235    7.213    0.000    1.000    1.000\n",
      "\n",
      "R-Square:\n",
      "                   Estimate\n",
      "    Q1_1              0.581\n",
      "    Q1_4              0.544\n",
      "    Q1_5              0.735\n",
      "    Q1_10             0.300\n",
      "    Q1_7              0.594\n",
      "    Q1_11             0.748\n",
      "    Q1_14             0.630\n",
      "    Q1_17             0.273\n",
      "\n"
     ]
    }
   ],
   "source": [
    "summary(postchemfit, fit.measures=TRUE, standardized=TRUE, rsquare=TRUE)\n"
   ]
  },
  {
   "cell_type": "code",
   "execution_count": 16,
   "metadata": {},
   "outputs": [
    {
     "data": {
      "text/plain": [
       "\n",
       "Reliability analysis   \n",
       "Call: alpha(x = ChemAttPostSubset[c(\"Q1_1\", \"Q1_4\", \"Q1_5\", \"Q1_10\")])\n",
       "\n",
       "  raw_alpha std.alpha G6(smc) average_r S/N   ase mean  sd median_r\n",
       "      0.82      0.82     0.8      0.54 4.6 0.021  3.1 1.1     0.54\n",
       "\n",
       " lower alpha upper     95% confidence boundaries\n",
       "0.78 0.82 0.86 \n",
       "\n",
       " Reliability if an item is dropped:\n",
       "      raw_alpha std.alpha G6(smc) average_r S/N alpha se  var.r med.r\n",
       "Q1_1       0.75      0.75    0.70      0.50 3.0    0.032 0.0231  0.42\n",
       "Q1_4       0.78      0.78    0.72      0.54 3.5    0.027 0.0127  0.57\n",
       "Q1_5       0.75      0.75    0.68      0.50 3.0    0.031 0.0058  0.51\n",
       "Q1_10      0.81      0.82    0.76      0.60 4.6    0.023 0.0074  0.62\n",
       "\n",
       " Item statistics \n",
       "        n raw.r std.r r.cor r.drop mean  sd\n",
       "Q1_1  190  0.86  0.84  0.77   0.70  3.4 1.5\n",
       "Q1_4  190  0.79  0.81  0.73   0.64  3.0 1.2\n",
       "Q1_5  190  0.84  0.84  0.79   0.70  3.5 1.3\n",
       "Q1_10 190  0.74  0.74  0.61   0.55  2.5 1.3\n",
       "\n",
       "Non missing response frequency for each item\n",
       "         1    2    3    4    5    6    7 miss\n",
       "Q1_1  0.12 0.16 0.31 0.19 0.12 0.08 0.03    0\n",
       "Q1_4  0.11 0.26 0.32 0.21 0.08 0.02 0.01    0\n",
       "Q1_5  0.07 0.14 0.31 0.24 0.18 0.06 0.01    0\n",
       "Q1_10 0.24 0.29 0.29 0.11 0.05 0.02 0.01    0"
      ]
     },
     "metadata": {},
     "output_type": "display_data"
    }
   ],
   "source": [
    "alpha(ChemAttPostSubset[c('Q1_1', 'Q1_4', 'Q1_5', 'Q1_10')])\n"
   ]
  },
  {
   "cell_type": "code",
   "execution_count": 17,
   "metadata": {},
   "outputs": [
    {
     "data": {
      "text/plain": [
       "\n",
       "Reliability analysis   \n",
       "Call: alpha(x = ChemAttPostSubset[c(\"Q1_7\", \"Q1_11\", \"Q1_14\", \"Q1_17\")])\n",
       "\n",
       "  raw_alpha std.alpha G6(smc) average_r S/N   ase mean  sd median_r\n",
       "      0.81      0.82     0.8      0.54 4.6 0.022  4.3 1.2      0.5\n",
       "\n",
       " lower alpha upper     95% confidence boundaries\n",
       "0.77 0.81 0.86 \n",
       "\n",
       " Reliability if an item is dropped:\n",
       "      raw_alpha std.alpha G6(smc) average_r S/N alpha se  var.r med.r\n",
       "Q1_7       0.76      0.77    0.71      0.52 3.3    0.032 0.0215  0.46\n",
       "Q1_11      0.72      0.73    0.64      0.47 2.6    0.035 0.0041  0.46\n",
       "Q1_14      0.75      0.76    0.71      0.51 3.2    0.031 0.0286  0.42\n",
       "Q1_17      0.84      0.85    0.80      0.65 5.5    0.020 0.0089  0.69\n",
       "\n",
       " Item statistics \n",
       "        n raw.r std.r r.cor r.drop mean  sd\n",
       "Q1_7  190  0.84  0.82  0.75   0.66  4.3 1.7\n",
       "Q1_11 190  0.86  0.87  0.85   0.75  4.3 1.4\n",
       "Q1_14 190  0.81  0.83  0.76   0.68  4.1 1.3\n",
       "Q1_17 190  0.72  0.71  0.53   0.49  4.4 1.6\n",
       "\n",
       "Non missing response frequency for each item\n",
       "         1    2    3    4    5    6    7 miss\n",
       "Q1_7  0.06 0.11 0.15 0.18 0.21 0.19 0.09    0\n",
       "Q1_11 0.06 0.04 0.12 0.34 0.25 0.14 0.05    0\n",
       "Q1_14 0.05 0.05 0.18 0.36 0.23 0.11 0.02    0\n",
       "Q1_17 0.07 0.05 0.12 0.25 0.25 0.18 0.07    0"
      ]
     },
     "metadata": {},
     "output_type": "display_data"
    }
   ],
   "source": [
    "alpha(ChemAttPostSubset[c('Q1_7', 'Q1_11', 'Q1_14', 'Q1_17')])\n"
   ]
  },
  {
   "cell_type": "code",
   "execution_count": null,
   "metadata": {},
   "outputs": [],
   "source": []
  }
 ],
 "metadata": {
  "kernelspec": {
   "display_name": "R",
   "language": "R",
   "name": "ir"
  },
  "language_info": {
   "codemirror_mode": "r",
   "file_extension": ".r",
   "mimetype": "text/x-r-source",
   "name": "R",
   "pygments_lexer": "r",
   "version": "3.6.1"
  }
 },
 "nbformat": 4,
 "nbformat_minor": 4
}
