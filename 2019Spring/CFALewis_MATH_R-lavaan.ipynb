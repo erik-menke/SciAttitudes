{
 "cells": [
  {
   "cell_type": "markdown",
   "metadata": {},
   "source": [
    "Confirmatory factor analysis on survey data given during the Fall, 2019, semester. The CFA uses the model from Jennifer Lewis's J. Chem. Ed. paper developing the ASCI V2 (https://pubs.acs.org/doi/full/10.1021/ed900071q)"
   ]
  },
  {
   "cell_type": "code",
   "execution_count": 1,
   "metadata": {},
   "outputs": [
    {
     "name": "stderr",
     "output_type": "stream",
     "text": [
      "This is lavaan 0.6-6\n",
      "lavaan is BETA software! Please report any bugs.\n",
      "\n",
      "Attaching package: ‘psych’\n",
      "\n",
      "The following object is masked from ‘package:lavaan’:\n",
      "\n",
      "    cor2cov\n",
      "\n"
     ]
    }
   ],
   "source": [
    "library(lavaan)\n",
    "library(readxl)\n",
    "library(psych)\n"
   ]
  },
  {
   "cell_type": "code",
   "execution_count": 2,
   "metadata": {},
   "outputs": [
    {
     "name": "stderr",
     "output_type": "stream",
     "text": [
      "New names:\n",
      "* Q35 -> Q35...1\n",
      "* Q35 -> Q35...96\n",
      "New names:\n",
      "* Q35 -> Q35...1\n",
      "* Q35 -> Q35...96\n"
     ]
    }
   ],
   "source": [
    "path = \"/Users/erikmenke/UC-Merced/Data/2018-2019/NSF HSI/2018-2019StudentData/2019Spring/Survey/\"\n",
    "PreSurveyChemDataFilename = \"Presurvey.xlsx\"\n",
    "PostSurveyChemDataFilename = \"Postsurvey.xlsx\"\n",
    "\n",
    "PreSurveyChemData <- read_excel(paste(path, PreSurveyChemDataFilename, sep=\"\"))\n",
    "PostSurveyChemData <- read_excel(paste(path, PostSurveyChemDataFilename, sep=\"\"))\n"
   ]
  },
  {
   "cell_type": "code",
   "execution_count": 3,
   "metadata": {},
   "outputs": [],
   "source": [
    "MathAttPreSubset<-PreSurveyChemData[-1,c('Q32_1', 'Q32_4', 'Q32_5', 'Q32_10', 'Q32_7', 'Q32_11', 'Q32_14', 'Q32_17')]\n",
    "MathAttPreSubset<-na.omit(MathAttPreSubset)\n",
    "MathAttPreSubset<-as.data.frame(sapply(MathAttPreSubset,as.numeric))\n"
   ]
  },
  {
   "cell_type": "code",
   "execution_count": 4,
   "metadata": {},
   "outputs": [],
   "source": [
    "MathAttPreSubset[\"Q32_1\"]<-(MathAttPreSubset[\"Q32_1\"] - 8)*-1\n",
    "MathAttPreSubset[\"Q32_7\"]<-(MathAttPreSubset[\"Q32_7\"] - 8)*-1\n",
    "MathAttPreSubset[\"Q32_11\"]<-(MathAttPreSubset[\"Q32_11\"] - 8)*-1\n",
    "MathAttPreSubset[\"Q32_14\"]<-(MathAttPreSubset[\"Q32_14\"] - 8)*-1\n"
   ]
  },
  {
   "cell_type": "code",
   "execution_count": 5,
   "metadata": {},
   "outputs": [],
   "source": [
    "premathfit.model<-'Cognition =~ Q32_1 + Q32_4 + Q32_5 + Q32_10\n",
    "                Affect =~ Q32_7 + Q32_11 + Q32_14 + Q32_17'\n"
   ]
  },
  {
   "cell_type": "code",
   "execution_count": 6,
   "metadata": {},
   "outputs": [],
   "source": [
    "premathfit <- cfa(premathfit.model, data=MathAttPreSubset, estimator=\"MLR\")\n"
   ]
  },
  {
   "cell_type": "code",
   "execution_count": 7,
   "metadata": {},
   "outputs": [
    {
     "name": "stdout",
     "output_type": "stream",
     "text": [
      "lavaan 0.6-6 ended normally after 35 iterations\n",
      "\n",
      "  Estimator                                         ML\n",
      "  Optimization method                           NLMINB\n",
      "  Number of free parameters                         17\n",
      "                                                      \n",
      "  Number of observations                           685\n",
      "                                                      \n",
      "Model Test User Model:\n",
      "                                               Standard      Robust\n",
      "  Test Statistic                                249.539     216.116\n",
      "  Degrees of freedom                                 19          19\n",
      "  P-value (Chi-square)                            0.000       0.000\n",
      "  Scaling correction factor                                   1.155\n",
      "       Yuan-Bentler correction (Mplus variant)                     \n",
      "\n",
      "Model Test Baseline Model:\n",
      "\n",
      "  Test statistic                              2626.554    1837.013\n",
      "  Degrees of freedom                                28          28\n",
      "  P-value                                        0.000       0.000\n",
      "  Scaling correction factor                                  1.430\n",
      "\n",
      "User Model versus Baseline Model:\n",
      "\n",
      "  Comparative Fit Index (CFI)                    0.911       0.891\n",
      "  Tucker-Lewis Index (TLI)                       0.869       0.839\n",
      "                                                                  \n",
      "  Robust Comparative Fit Index (CFI)                         0.912\n",
      "  Robust Tucker-Lewis Index (TLI)                            0.870\n",
      "\n",
      "Loglikelihood and Information Criteria:\n",
      "\n",
      "  Loglikelihood user model (H0)              -9312.303   -9312.303\n",
      "  Scaling correction factor                                  1.445\n",
      "      for the MLR correction                                      \n",
      "  Loglikelihood unrestricted model (H1)      -9187.533   -9187.533\n",
      "  Scaling correction factor                                  1.292\n",
      "      for the MLR correction                                      \n",
      "                                                                  \n",
      "  Akaike (AIC)                               18658.606   18658.606\n",
      "  Bayesian (BIC)                             18735.606   18735.606\n",
      "  Sample-size adjusted Bayesian (BIC)        18681.629   18681.629\n",
      "\n",
      "Root Mean Square Error of Approximation:\n",
      "\n",
      "  RMSEA                                          0.133       0.123\n",
      "  90 Percent confidence interval - lower         0.119       0.110\n",
      "  90 Percent confidence interval - upper         0.148       0.137\n",
      "  P-value RMSEA <= 0.05                          0.000       0.000\n",
      "                                                                  \n",
      "  Robust RMSEA                                               0.132\n",
      "  90 Percent confidence interval - lower                     0.117\n",
      "  90 Percent confidence interval - upper                     0.148\n",
      "\n",
      "Standardized Root Mean Square Residual:\n",
      "\n",
      "  SRMR                                           0.077       0.077\n",
      "\n",
      "Parameter Estimates:\n",
      "\n",
      "  Standard errors                             Sandwich\n",
      "  Information bread                           Observed\n",
      "  Observed information based on                Hessian\n",
      "\n",
      "Latent Variables:\n",
      "                   Estimate  Std.Err  z-value  P(>|z|)   Std.lv  Std.all\n",
      "  Cognition =~                                                          \n",
      "    Q32_1             1.000                               1.445    0.767\n",
      "    Q32_4             0.865    0.051   16.855    0.000    1.250    0.792\n",
      "    Q32_5             0.927    0.048   19.489    0.000    1.339    0.818\n",
      "    Q32_10            0.511    0.053    9.616    0.000    0.739    0.556\n",
      "  Affect =~                                                             \n",
      "    Q32_7             1.000                               1.397    0.744\n",
      "    Q32_11            0.952    0.044   21.488    0.000    1.330    0.827\n",
      "    Q32_14            0.922    0.050   18.276    0.000    1.288    0.853\n",
      "    Q32_17            0.668    0.056   12.035    0.000    0.934    0.516\n",
      "\n",
      "Covariances:\n",
      "                   Estimate  Std.Err  z-value  P(>|z|)   Std.lv  Std.all\n",
      "  Cognition ~~                                                          \n",
      "    Affect            1.411    0.145    9.725    0.000    0.699    0.699\n",
      "\n",
      "Variances:\n",
      "                   Estimate  Std.Err  z-value  P(>|z|)   Std.lv  Std.all\n",
      "   .Q32_1             1.458    0.152    9.605    0.000    1.458    0.411\n",
      "   .Q32_4             0.930    0.113    8.226    0.000    0.930    0.373\n",
      "   .Q32_5             0.885    0.113    7.847    0.000    0.885    0.330\n",
      "   .Q32_10            1.219    0.107   11.429    0.000    1.219    0.691\n",
      "   .Q32_7             1.578    0.142   11.145    0.000    1.578    0.447\n",
      "   .Q32_11            0.820    0.096    8.575    0.000    0.820    0.317\n",
      "   .Q32_14            0.622    0.076    8.219    0.000    0.622    0.273\n",
      "   .Q32_17            2.407    0.148   16.305    0.000    2.407    0.734\n",
      "    Cognition         2.088    0.181   11.566    0.000    1.000    1.000\n",
      "    Affect            1.952    0.178   10.963    0.000    1.000    1.000\n",
      "\n",
      "R-Square:\n",
      "                   Estimate\n",
      "    Q32_1             0.589\n",
      "    Q32_4             0.627\n",
      "    Q32_5             0.670\n",
      "    Q32_10            0.309\n",
      "    Q32_7             0.553\n",
      "    Q32_11            0.683\n",
      "    Q32_14            0.727\n",
      "    Q32_17            0.266\n",
      "\n"
     ]
    }
   ],
   "source": [
    "summary(premathfit, fit.measures=TRUE, standardized=TRUE, rsquare=TRUE)\n"
   ]
  },
  {
   "cell_type": "code",
   "execution_count": 8,
   "metadata": {},
   "outputs": [
    {
     "data": {
      "text/plain": [
       "\n",
       "Reliability analysis   \n",
       "Call: alpha(x = MathAttPreSubset[c(\"Q32_1\", \"Q32_4\", \"Q32_5\", \"Q32_10\")])\n",
       "\n",
       "  raw_alpha std.alpha G6(smc) average_r S/N   ase mean  sd median_r\n",
       "      0.82      0.83    0.79      0.54 4.7 0.011    3 1.3     0.57\n",
       "\n",
       " lower alpha upper     95% confidence boundaries\n",
       "0.8 0.82 0.84 \n",
       "\n",
       " Reliability if an item is dropped:\n",
       "       raw_alpha std.alpha G6(smc) average_r S/N alpha se  var.r med.r\n",
       "Q32_1       0.79      0.79    0.73      0.56 3.8    0.014 0.0104  0.55\n",
       "Q32_4       0.73      0.74    0.66      0.48 2.8    0.017 0.0094  0.46\n",
       "Q32_5       0.75      0.76    0.70      0.51 3.2    0.016 0.0110  0.55\n",
       "Q32_10      0.82      0.83    0.76      0.62 4.8    0.012 0.0016  0.60\n",
       "\n",
       " Item statistics \n",
       "         n raw.r std.r r.cor r.drop mean  sd\n",
       "Q32_1  685  0.83  0.80  0.70   0.64  3.4 1.9\n",
       "Q32_4  685  0.86  0.87  0.82   0.74  2.9 1.6\n",
       "Q32_5  685  0.84  0.84  0.77   0.70  3.4 1.6\n",
       "Q32_10 685  0.71  0.74  0.60   0.54  2.4 1.3\n",
       "\n",
       "Non missing response frequency for each item\n",
       "          1    2    3    4    5    6    7 miss\n",
       "Q32_1  0.18 0.19 0.19 0.15 0.12 0.08 0.09    0\n",
       "Q32_4  0.20 0.24 0.25 0.15 0.07 0.05 0.03    0\n",
       "Q32_5  0.14 0.16 0.26 0.20 0.12 0.07 0.05    0\n",
       "Q32_10 0.31 0.28 0.23 0.11 0.05 0.02 0.01    0"
      ]
     },
     "metadata": {},
     "output_type": "display_data"
    }
   ],
   "source": [
    "alpha(MathAttPreSubset[c('Q32_1', 'Q32_4', 'Q32_5', 'Q32_10')])\n"
   ]
  },
  {
   "cell_type": "code",
   "execution_count": 9,
   "metadata": {},
   "outputs": [
    {
     "data": {
      "text/plain": [
       "\n",
       "Reliability analysis   \n",
       "Call: alpha(x = MathAttPreSubset[c(\"Q32_7\", \"Q32_11\", \"Q32_14\", \"Q32_17\")])\n",
       "\n",
       "  raw_alpha std.alpha G6(smc) average_r S/N   ase mean  sd median_r\n",
       "      0.81      0.82    0.79      0.53 4.5 0.012  4.3 1.4     0.52\n",
       "\n",
       " lower alpha upper     95% confidence boundaries\n",
       "0.79 0.81 0.83 \n",
       "\n",
       " Reliability if an item is dropped:\n",
       "       raw_alpha std.alpha G6(smc) average_r S/N alpha se  var.r med.r\n",
       "Q32_7       0.75      0.76    0.71      0.51 3.1    0.017 0.0304  0.42\n",
       "Q32_11      0.72      0.73    0.66      0.48 2.7    0.018 0.0160  0.42\n",
       "Q32_14      0.73      0.73    0.67      0.48 2.8    0.018 0.0209  0.40\n",
       "Q32_17      0.85      0.85    0.80      0.66 5.8    0.010 0.0021  0.65\n",
       "\n",
       " Item statistics \n",
       "         n raw.r std.r r.cor r.drop mean  sd\n",
       "Q32_7  685  0.84  0.83  0.75   0.67  4.5 1.9\n",
       "Q32_11 685  0.85  0.86  0.81   0.72  4.3 1.6\n",
       "Q32_14 685  0.84  0.85  0.81   0.72  4.3 1.5\n",
       "Q32_17 685  0.70  0.69  0.49   0.46  4.3 1.8\n",
       "\n",
       "Non missing response frequency for each item\n",
       "          1    2    3    4    5    6    7 miss\n",
       "Q32_7  0.09 0.09 0.12 0.20 0.16 0.16 0.18    0\n",
       "Q32_11 0.08 0.05 0.11 0.32 0.23 0.10 0.11    0\n",
       "Q32_14 0.07 0.05 0.13 0.34 0.21 0.13 0.07    0\n",
       "Q32_17 0.10 0.09 0.10 0.26 0.16 0.15 0.14    0"
      ]
     },
     "metadata": {},
     "output_type": "display_data"
    }
   ],
   "source": [
    "alpha(MathAttPreSubset[c('Q32_7', 'Q32_11', 'Q32_14', 'Q32_17')])\n"
   ]
  },
  {
   "cell_type": "code",
   "execution_count": null,
   "metadata": {},
   "outputs": [],
   "source": []
  },
  {
   "cell_type": "code",
   "execution_count": 10,
   "metadata": {},
   "outputs": [],
   "source": [
    "MathAttPostSubset<-PostSurveyChemData[-1,c('Q32_1', 'Q32_4', 'Q32_5', 'Q32_10', 'Q32_7', 'Q32_11', 'Q32_14', 'Q32_17')]\n",
    "MathAttPostSubset<-na.omit(MathAttPostSubset)\n",
    "MathAttPostSubset<-as.data.frame(sapply(MathAttPostSubset,as.numeric))\n"
   ]
  },
  {
   "cell_type": "code",
   "execution_count": 11,
   "metadata": {},
   "outputs": [],
   "source": [
    "MathAttPostSubset[\"Q32_1\"]<-(MathAttPostSubset[\"Q32_1\"] - 8)*-1\n",
    "MathAttPostSubset[\"Q32_7\"]<-(MathAttPostSubset[\"Q32_7\"] - 8)*-1\n",
    "MathAttPostSubset[\"Q32_11\"]<-(MathAttPostSubset[\"Q32_11\"] - 8)*-1\n",
    "MathAttPostSubset[\"Q32_14\"]<-(MathAttPostSubset[\"Q32_14\"] - 8)*-1\n"
   ]
  },
  {
   "cell_type": "code",
   "execution_count": 12,
   "metadata": {},
   "outputs": [],
   "source": [
    "postmathfit.model<-'Cognition =~ Q32_1 + Q32_4 + Q32_5 + Q32_10\n",
    "                Affect =~ Q32_7 + Q32_11 + Q32_14 + Q32_17'\n"
   ]
  },
  {
   "cell_type": "code",
   "execution_count": 13,
   "metadata": {},
   "outputs": [],
   "source": [
    "postmathfit <- cfa(postmathfit.model, data=MathAttPostSubset, estimator=\"MLR\")\n"
   ]
  },
  {
   "cell_type": "code",
   "execution_count": 14,
   "metadata": {},
   "outputs": [
    {
     "name": "stdout",
     "output_type": "stream",
     "text": [
      "lavaan 0.6-6 ended normally after 35 iterations\n",
      "\n",
      "  Estimator                                         ML\n",
      "  Optimization method                           NLMINB\n",
      "  Number of free parameters                         17\n",
      "                                                      \n",
      "  Number of observations                           174\n",
      "                                                      \n",
      "Model Test User Model:\n",
      "                                               Standard      Robust\n",
      "  Test Statistic                                 68.201      54.832\n",
      "  Degrees of freedom                                 19          19\n",
      "  P-value (Chi-square)                            0.000       0.000\n",
      "  Scaling correction factor                                   1.244\n",
      "       Yuan-Bentler correction (Mplus variant)                     \n",
      "\n",
      "Model Test Baseline Model:\n",
      "\n",
      "  Test statistic                               844.317     566.942\n",
      "  Degrees of freedom                                28          28\n",
      "  P-value                                        0.000       0.000\n",
      "  Scaling correction factor                                  1.489\n",
      "\n",
      "User Model versus Baseline Model:\n",
      "\n",
      "  Comparative Fit Index (CFI)                    0.940       0.934\n",
      "  Tucker-Lewis Index (TLI)                       0.911       0.902\n",
      "                                                                  \n",
      "  Robust Comparative Fit Index (CFI)                         0.944\n",
      "  Robust Tucker-Lewis Index (TLI)                            0.918\n",
      "\n",
      "Loglikelihood and Information Criteria:\n",
      "\n",
      "  Loglikelihood user model (H0)              -2381.705   -2381.705\n",
      "  Scaling correction factor                                  1.417\n",
      "      for the MLR correction                                      \n",
      "  Loglikelihood unrestricted model (H1)      -2347.604   -2347.604\n",
      "  Scaling correction factor                                  1.325\n",
      "      for the MLR correction                                      \n",
      "                                                                  \n",
      "  Akaike (AIC)                                4797.409    4797.409\n",
      "  Bayesian (BIC)                              4851.113    4851.113\n",
      "  Sample-size adjusted Bayesian (BIC)         4797.281    4797.281\n",
      "\n",
      "Root Mean Square Error of Approximation:\n",
      "\n",
      "  RMSEA                                          0.122       0.104\n",
      "  90 Percent confidence interval - lower         0.092       0.076\n",
      "  90 Percent confidence interval - upper         0.154       0.133\n",
      "  P-value RMSEA <= 0.05                          0.000       0.001\n",
      "                                                                  \n",
      "  Robust RMSEA                                               0.116\n",
      "  90 Percent confidence interval - lower                     0.081\n",
      "  90 Percent confidence interval - upper                     0.153\n",
      "\n",
      "Standardized Root Mean Square Residual:\n",
      "\n",
      "  SRMR                                           0.055       0.055\n",
      "\n",
      "Parameter Estimates:\n",
      "\n",
      "  Standard errors                             Sandwich\n",
      "  Information bread                           Observed\n",
      "  Observed information based on                Hessian\n",
      "\n",
      "Latent Variables:\n",
      "                   Estimate  Std.Err  z-value  P(>|z|)   Std.lv  Std.all\n",
      "  Cognition =~                                                          \n",
      "    Q32_1             1.000                               1.636    0.826\n",
      "    Q32_4             0.909    0.053   17.120    0.000    1.488    0.854\n",
      "    Q32_5             0.914    0.048   19.131    0.000    1.495    0.849\n",
      "    Q32_10            0.573    0.078    7.316    0.000    0.938    0.657\n",
      "  Affect =~                                                             \n",
      "    Q32_7             1.000                               1.680    0.829\n",
      "    Q32_11            0.893    0.055   16.390    0.000    1.500    0.849\n",
      "    Q32_14            0.808    0.086    9.349    0.000    1.358    0.839\n",
      "    Q32_17            0.587    0.107    5.511    0.000    0.986    0.515\n",
      "\n",
      "Covariances:\n",
      "                   Estimate  Std.Err  z-value  P(>|z|)   Std.lv  Std.all\n",
      "  Cognition ~~                                                          \n",
      "    Affect            2.034    0.277    7.330    0.000    0.740    0.740\n",
      "\n",
      "Variances:\n",
      "                   Estimate  Std.Err  z-value  P(>|z|)   Std.lv  Std.all\n",
      "   .Q32_1             1.247    0.210    5.948    0.000    1.247    0.318\n",
      "   .Q32_4             0.820    0.191    4.287    0.000    0.820    0.270\n",
      "   .Q32_5             0.863    0.191    4.525    0.000    0.863    0.279\n",
      "   .Q32_10            1.157    0.179    6.461    0.000    1.157    0.568\n",
      "   .Q32_7             1.288    0.275    4.690    0.000    1.288    0.313\n",
      "   .Q32_11            0.875    0.231    3.790    0.000    0.875    0.280\n",
      "   .Q32_14            0.778    0.245    3.177    0.001    0.778    0.297\n",
      "   .Q32_17            2.690    0.325    8.267    0.000    2.690    0.734\n",
      "    Cognition         2.676    0.296    9.031    0.000    1.000    1.000\n",
      "    Affect            2.821    0.397    7.110    0.000    1.000    1.000\n",
      "\n",
      "R-Square:\n",
      "                   Estimate\n",
      "    Q32_1             0.682\n",
      "    Q32_4             0.730\n",
      "    Q32_5             0.721\n",
      "    Q32_10            0.432\n",
      "    Q32_7             0.687\n",
      "    Q32_11            0.720\n",
      "    Q32_14            0.703\n",
      "    Q32_17            0.266\n",
      "\n"
     ]
    }
   ],
   "source": [
    "summary(postmathfit, fit.measures=TRUE, standardized=TRUE, rsquare=TRUE)\n"
   ]
  },
  {
   "cell_type": "code",
   "execution_count": 15,
   "metadata": {},
   "outputs": [
    {
     "data": {
      "text/plain": [
       "\n",
       "Reliability analysis   \n",
       "Call: alpha(x = MathAttPostSubset[c(\"Q32_1\", \"Q32_4\", \"Q32_5\", \"Q32_10\")])\n",
       "\n",
       "  raw_alpha std.alpha G6(smc) average_r S/N   ase mean  sd median_r\n",
       "      0.87      0.87    0.85      0.64   7 0.015    3 1.5     0.65\n",
       "\n",
       " lower alpha upper     95% confidence boundaries\n",
       "0.84 0.87 0.9 \n",
       "\n",
       " Reliability if an item is dropped:\n",
       "       raw_alpha std.alpha G6(smc) average_r S/N alpha se   var.r med.r\n",
       "Q32_1       0.84      0.84    0.79      0.63 5.2    0.021 0.00818  0.63\n",
       "Q32_4       0.81      0.81    0.75      0.59 4.3    0.024 0.00721  0.55\n",
       "Q32_5       0.82      0.83    0.78      0.62 4.9    0.022 0.00744  0.63\n",
       "Q32_10      0.87      0.88    0.83      0.70 7.1    0.016 0.00049  0.70\n",
       "\n",
       " Item statistics \n",
       "         n raw.r std.r r.cor r.drop mean  sd\n",
       "Q32_1  174  0.87  0.85  0.79   0.74  3.4 2.0\n",
       "Q32_4  174  0.90  0.90  0.86   0.81  3.0 1.7\n",
       "Q32_5  174  0.87  0.87  0.81   0.76  3.4 1.8\n",
       "Q32_10 174  0.77  0.79  0.67   0.63  2.4 1.4\n",
       "\n",
       "Non missing response frequency for each item\n",
       "          1    2    3    4    5    6    7 miss\n",
       "Q32_1  0.22 0.17 0.17 0.13 0.12 0.09 0.10    0\n",
       "Q32_4  0.24 0.24 0.18 0.16 0.07 0.06 0.05    0\n",
       "Q32_5  0.18 0.16 0.23 0.19 0.10 0.07 0.07    0\n",
       "Q32_10 0.32 0.27 0.24 0.09 0.04 0.02 0.02    0"
      ]
     },
     "metadata": {},
     "output_type": "display_data"
    }
   ],
   "source": [
    "alpha(MathAttPostSubset[c('Q32_1', 'Q32_4', 'Q32_5', 'Q32_10')])\n"
   ]
  },
  {
   "cell_type": "code",
   "execution_count": 16,
   "metadata": {},
   "outputs": [
    {
     "data": {
      "text/plain": [
       "\n",
       "Reliability analysis   \n",
       "Call: alpha(x = MathAttPostSubset[c(\"Q32_7\", \"Q32_11\", \"Q32_14\", \"Q32_17\")])\n",
       "\n",
       "  raw_alpha std.alpha G6(smc) average_r S/N   ase mean  sd median_r\n",
       "      0.83      0.84    0.83      0.57 5.2 0.021  4.4 1.5     0.61\n",
       "\n",
       " lower alpha upper     95% confidence boundaries\n",
       "0.79 0.83 0.87 \n",
       "\n",
       " Reliability if an item is dropped:\n",
       "       raw_alpha std.alpha G6(smc) average_r S/N alpha se  var.r med.r\n",
       "Q32_7       0.76      0.77    0.73      0.52 3.3    0.033 0.0291  0.54\n",
       "Q32_11      0.76      0.78    0.73      0.54 3.5    0.032 0.0207  0.54\n",
       "Q32_14      0.75      0.75    0.72      0.50 3.0    0.034 0.0489  0.39\n",
       "Q32_17      0.87      0.88    0.83      0.71 7.2    0.016 0.0015  0.69\n",
       "\n",
       " Item statistics \n",
       "         n raw.r std.r r.cor r.drop mean  sd\n",
       "Q32_7  174  0.87  0.86  0.81   0.73  4.6 2.0\n",
       "Q32_11 174  0.84  0.85  0.81   0.72  4.3 1.8\n",
       "Q32_14 174  0.87  0.88  0.84   0.78  4.2 1.6\n",
       "Q32_17 174  0.70  0.69  0.53   0.47  4.3 1.9\n",
       "\n",
       "Non missing response frequency for each item\n",
       "          1    2    3    4    5    6    7 miss\n",
       "Q32_7  0.14 0.06 0.09 0.14 0.19 0.15 0.23    0\n",
       "Q32_11 0.11 0.03 0.14 0.24 0.21 0.14 0.13    0\n",
       "Q32_14 0.08 0.07 0.14 0.28 0.21 0.13 0.09    0\n",
       "Q32_17 0.11 0.08 0.11 0.22 0.14 0.16 0.17    0"
      ]
     },
     "metadata": {},
     "output_type": "display_data"
    }
   ],
   "source": [
    "alpha(MathAttPostSubset[c('Q32_7', 'Q32_11', 'Q32_14', 'Q32_17')])\n"
   ]
  },
  {
   "cell_type": "code",
   "execution_count": null,
   "metadata": {},
   "outputs": [],
   "source": []
  }
 ],
 "metadata": {
  "kernelspec": {
   "display_name": "R",
   "language": "R",
   "name": "ir"
  },
  "language_info": {
   "codemirror_mode": "r",
   "file_extension": ".r",
   "mimetype": "text/x-r-source",
   "name": "R",
   "pygments_lexer": "r",
   "version": "3.6.1"
  }
 },
 "nbformat": 4,
 "nbformat_minor": 4
}
