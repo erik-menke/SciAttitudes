{
 "cells": [
  {
   "cell_type": "markdown",
   "metadata": {},
   "source": [
    "Confirmatory factor analysis on survey data given during the Fall, 2019, semester. The CFA uses the model from Jennifer Lewis's J. Chem. Ed. paper developing the ASCI V2 (https://pubs.acs.org/doi/full/10.1021/ed900071q)"
   ]
  },
  {
   "cell_type": "code",
   "execution_count": 1,
   "metadata": {},
   "outputs": [
    {
     "name": "stderr",
     "output_type": "stream",
     "text": [
      "This is lavaan 0.6-6\n",
      "lavaan is BETA software! Please report any bugs.\n",
      "\n",
      "Attaching package: ‘psych’\n",
      "\n",
      "The following object is masked from ‘package:lavaan’:\n",
      "\n",
      "    cor2cov\n",
      "\n"
     ]
    }
   ],
   "source": [
    "library(lavaan)\n",
    "library(readxl)\n",
    "library(psych)\n"
   ]
  },
  {
   "cell_type": "code",
   "execution_count": 2,
   "metadata": {},
   "outputs": [
    {
     "name": "stderr",
     "output_type": "stream",
     "text": [
      "New names:\n",
      "* Q35 -> Q35...1\n",
      "* Q35 -> Q35...96\n",
      "New names:\n",
      "* Q35 -> Q35...1\n",
      "* Q35 -> Q35...96\n"
     ]
    }
   ],
   "source": [
    "path = \"/Users/erikmenke/UC-Merced/Data/2019-2020/NSF HSI/Fall 2019/Survey/Postterm/\"\n",
    "PreSurveyChemDataFilename = \"Chem Attitudes_Pre-Fall 2019.xlsx\"\n",
    "PostSurveyChemDataFilename = \"Chem Attitudes_Post-Fall 2019.xlsx\"\n",
    "\n",
    "PreSurveyChemData <- read_excel(paste(path, PreSurveyChemDataFilename, sep=\"\"))\n",
    "PostSurveyChemData <- read_excel(paste(path, PostSurveyChemDataFilename, sep=\"\"))\n"
   ]
  },
  {
   "cell_type": "code",
   "execution_count": 3,
   "metadata": {},
   "outputs": [],
   "source": [
    "ChemAttPreSubset<-PreSurveyChemData[-1,c('Q1_1', 'Q1_4', 'Q1_5', 'Q1_10', 'Q1_7', 'Q1_11', 'Q1_14', 'Q1_17')]\n",
    "ChemAttPreSubset<-na.omit(ChemAttPreSubset)\n",
    "ChemAttPreSubset<-as.data.frame(sapply(ChemAttPreSubset,as.numeric))\n"
   ]
  },
  {
   "cell_type": "code",
   "execution_count": 4,
   "metadata": {},
   "outputs": [],
   "source": [
    "ChemAttPreSubset[\"Q1_1\"]<-(ChemAttPreSubset[\"Q1_1\"] - 8)*-1\n",
    "ChemAttPreSubset[\"Q1_7\"]<-(ChemAttPreSubset[\"Q1_7\"] - 8)*-1\n",
    "ChemAttPreSubset[\"Q1_11\"]<-(ChemAttPreSubset[\"Q1_11\"] - 8)*-1\n",
    "ChemAttPreSubset[\"Q1_14\"]<-(ChemAttPreSubset[\"Q1_14\"] - 8)*-1\n"
   ]
  },
  {
   "cell_type": "code",
   "execution_count": 5,
   "metadata": {},
   "outputs": [],
   "source": [
    "prechemfit.model<-'Cognition =~ Q1_1 + Q1_4 + Q1_5 + Q1_10\n",
    "                Affect =~ Q1_7 + Q1_11 + Q1_14 + Q1_17'\n"
   ]
  },
  {
   "cell_type": "code",
   "execution_count": 6,
   "metadata": {},
   "outputs": [],
   "source": [
    "prechemfit <- cfa(prechemfit.model, data=ChemAttPreSubset, estimator=\"MLR\")\n"
   ]
  },
  {
   "cell_type": "code",
   "execution_count": 7,
   "metadata": {},
   "outputs": [
    {
     "name": "stdout",
     "output_type": "stream",
     "text": [
      "lavaan 0.6-6 ended normally after 33 iterations\n",
      "\n",
      "  Estimator                                         ML\n",
      "  Optimization method                           NLMINB\n",
      "  Number of free parameters                         17\n",
      "                                                      \n",
      "  Number of observations                           401\n",
      "                                                      \n",
      "Model Test User Model:\n",
      "                                               Standard      Robust\n",
      "  Test Statistic                                119.703     109.897\n",
      "  Degrees of freedom                                 19          19\n",
      "  P-value (Chi-square)                            0.000       0.000\n",
      "  Scaling correction factor                                   1.089\n",
      "       Yuan-Bentler correction (Mplus variant)                     \n",
      "\n",
      "Model Test Baseline Model:\n",
      "\n",
      "  Test statistic                              1385.593    1107.832\n",
      "  Degrees of freedom                                28          28\n",
      "  P-value                                        0.000       0.000\n",
      "  Scaling correction factor                                  1.251\n",
      "\n",
      "User Model versus Baseline Model:\n",
      "\n",
      "  Comparative Fit Index (CFI)                    0.926       0.916\n",
      "  Tucker-Lewis Index (TLI)                       0.891       0.876\n",
      "                                                                  \n",
      "  Robust Comparative Fit Index (CFI)                         0.927\n",
      "  Robust Tucker-Lewis Index (TLI)                            0.892\n",
      "\n",
      "Loglikelihood and Information Criteria:\n",
      "\n",
      "  Loglikelihood user model (H0)              -4938.033   -4938.033\n",
      "  Scaling correction factor                                  1.305\n",
      "      for the MLR correction                                      \n",
      "  Loglikelihood unrestricted model (H1)      -4878.181   -4878.181\n",
      "  Scaling correction factor                                  1.191\n",
      "      for the MLR correction                                      \n",
      "                                                                  \n",
      "  Akaike (AIC)                                9910.066    9910.066\n",
      "  Bayesian (BIC)                              9977.963    9977.963\n",
      "  Sample-size adjusted Bayesian (BIC)         9924.021    9924.021\n",
      "\n",
      "Root Mean Square Error of Approximation:\n",
      "\n",
      "  RMSEA                                          0.115       0.109\n",
      "  90 Percent confidence interval - lower         0.096       0.091\n",
      "  90 Percent confidence interval - upper         0.135       0.129\n",
      "  P-value RMSEA <= 0.05                          0.000       0.000\n",
      "                                                                  \n",
      "  Robust RMSEA                                               0.114\n",
      "  90 Percent confidence interval - lower                     0.094\n",
      "  90 Percent confidence interval - upper                     0.135\n",
      "\n",
      "Standardized Root Mean Square Residual:\n",
      "\n",
      "  SRMR                                           0.066       0.066\n",
      "\n",
      "Parameter Estimates:\n",
      "\n",
      "  Standard errors                             Sandwich\n",
      "  Information bread                           Observed\n",
      "  Observed information based on                Hessian\n",
      "\n",
      "Latent Variables:\n",
      "                   Estimate  Std.Err  z-value  P(>|z|)   Std.lv  Std.all\n",
      "  Cognition =~                                                          \n",
      "    Q1_1              1.000                               1.048    0.752\n",
      "    Q1_4              0.920    0.074   12.424    0.000    0.964    0.743\n",
      "    Q1_5              1.077    0.079   13.604    0.000    1.129    0.831\n",
      "    Q1_10             0.538    0.075    7.211    0.000    0.564    0.497\n",
      "  Affect =~                                                             \n",
      "    Q1_7              1.000                               1.225    0.761\n",
      "    Q1_11             0.985    0.059   16.633    0.000    1.206    0.863\n",
      "    Q1_14             0.857    0.065   13.135    0.000    1.049    0.800\n",
      "    Q1_17             0.579    0.071    8.157    0.000    0.709    0.460\n",
      "\n",
      "Covariances:\n",
      "                   Estimate  Std.Err  z-value  P(>|z|)   Std.lv  Std.all\n",
      "  Cognition ~~                                                          \n",
      "    Affect            0.843    0.119    7.103    0.000    0.657    0.657\n",
      "\n",
      "Variances:\n",
      "                   Estimate  Std.Err  z-value  P(>|z|)   Std.lv  Std.all\n",
      "   .Q1_1              0.845    0.110    7.651    0.000    0.845    0.435\n",
      "   .Q1_4              0.755    0.085    8.917    0.000    0.755    0.448\n",
      "   .Q1_5              0.569    0.085    6.716    0.000    0.569    0.309\n",
      "   .Q1_10             0.970    0.122    7.984    0.000    0.970    0.753\n",
      "   .Q1_7              1.091    0.138    7.932    0.000    1.091    0.421\n",
      "   .Q1_11             0.498    0.071    7.027    0.000    0.498    0.255\n",
      "   .Q1_14             0.619    0.066    9.412    0.000    0.619    0.360\n",
      "   .Q1_17             1.877    0.145   12.928    0.000    1.877    0.789\n",
      "    Cognition         1.099    0.134    8.223    0.000    1.000    1.000\n",
      "    Affect            1.500    0.178    8.451    0.000    1.000    1.000\n",
      "\n",
      "R-Square:\n",
      "                   Estimate\n",
      "    Q1_1              0.565\n",
      "    Q1_4              0.552\n",
      "    Q1_5              0.691\n",
      "    Q1_10             0.247\n",
      "    Q1_7              0.579\n",
      "    Q1_11             0.745\n",
      "    Q1_14             0.640\n",
      "    Q1_17             0.211\n",
      "\n"
     ]
    }
   ],
   "source": [
    "summary(prechemfit, fit.measures=TRUE, standardized=TRUE, rsquare=TRUE)\n"
   ]
  },
  {
   "cell_type": "code",
   "execution_count": 8,
   "metadata": {
    "scrolled": true
   },
   "outputs": [
    {
     "data": {
      "text/html": [
       "<dl>\n",
       "\t<dt>$type</dt>\n",
       "\t\t<dd>'raw'</dd>\n",
       "\t<dt>$cov</dt>\n",
       "\t\t<dd><table>\n",
       "<thead><tr><th></th><th scope=col>Q1_1</th><th scope=col>Q1_4</th><th scope=col>Q1_5</th><th scope=col>Q1_10</th><th scope=col>Q1_7</th><th scope=col>Q1_11</th><th scope=col>Q1_14</th><th scope=col>Q1_17</th></tr></thead>\n",
       "<tbody>\n",
       "\t<tr><th scope=row>Q1_1</th><td> 2.010853e-07</td><td>-2.688740e-02</td><td>-6.000340e-02</td><td> 5.753197e-02</td><td> 1.987748e-01</td><td> 1.084990e-01</td><td> 1.926625e-01</td><td> 7.612766e-02</td></tr>\n",
       "\t<tr><th scope=row>Q1_4</th><td>-2.688740e-02</td><td>-2.174711e-08</td><td> 3.766752e-02</td><td> 1.919830e-01</td><td>-1.756890e-01</td><td>-2.497259e-01</td><td>-1.281294e-01</td><td>-1.403446e-01</td></tr>\n",
       "\t<tr><th scope=row>Q1_5</th><td>-6.000340e-02</td><td> 3.766752e-02</td><td> 1.159479e-08</td><td>-7.741205e-02</td><td> 2.124252e-01</td><td>-1.220278e-02</td><td> 1.403540e-01</td><td> 1.414195e-01</td></tr>\n",
       "\t<tr><th scope=row>Q1_10</th><td> 5.753197e-02</td><td> 1.919830e-01</td><td>-7.741205e-02</td><td>-6.524709e-08</td><td>-2.432521e-01</td><td>-2.699147e-01</td><td>-1.252634e-01</td><td>-1.350284e-02</td></tr>\n",
       "\t<tr><th scope=row>Q1_7</th><td> 1.987748e-01</td><td>-1.756890e-01</td><td> 2.124252e-01</td><td>-2.432521e-01</td><td> 5.301925e-07</td><td> 3.695175e-02</td><td>-8.635282e-02</td><td> 1.546863e-02</td></tr>\n",
       "\t<tr><th scope=row>Q1_11</th><td> 1.084990e-01</td><td>-2.497259e-01</td><td>-1.220278e-02</td><td>-2.699147e-01</td><td> 3.695175e-02</td><td> 7.614380e-08</td><td> 1.842384e-02</td><td>-2.949533e-02</td></tr>\n",
       "\t<tr><th scope=row>Q1_14</th><td> 1.926625e-01</td><td>-1.281294e-01</td><td> 1.403540e-01</td><td>-1.252634e-01</td><td>-8.635282e-02</td><td> 1.842384e-02</td><td>-1.415370e-07</td><td> 1.328418e-02</td></tr>\n",
       "\t<tr><th scope=row>Q1_17</th><td> 7.612766e-02</td><td>-1.403446e-01</td><td> 1.414195e-01</td><td>-1.350284e-02</td><td> 1.546863e-02</td><td>-2.949533e-02</td><td> 1.328418e-02</td><td> 3.160512e-07</td></tr>\n",
       "</tbody>\n",
       "</table>\n",
       "</dd>\n",
       "</dl>\n"
      ],
      "text/latex": [
       "\\begin{description}\n",
       "\\item[\\$type] 'raw'\n",
       "\\item[\\$cov] \\begin{tabular}{r|llllllll}\n",
       "  & Q1\\_1 & Q1\\_4 & Q1\\_5 & Q1\\_10 & Q1\\_7 & Q1\\_11 & Q1\\_14 & Q1\\_17\\\\\n",
       "\\hline\n",
       "\tQ1\\_1 &  2.010853e-07 & -2.688740e-02 & -6.000340e-02 &  5.753197e-02 &  1.987748e-01 &  1.084990e-01 &  1.926625e-01 &  7.612766e-02\\\\\n",
       "\tQ1\\_4 & -2.688740e-02 & -2.174711e-08 &  3.766752e-02 &  1.919830e-01 & -1.756890e-01 & -2.497259e-01 & -1.281294e-01 & -1.403446e-01\\\\\n",
       "\tQ1\\_5 & -6.000340e-02 &  3.766752e-02 &  1.159479e-08 & -7.741205e-02 &  2.124252e-01 & -1.220278e-02 &  1.403540e-01 &  1.414195e-01\\\\\n",
       "\tQ1\\_10 &  5.753197e-02 &  1.919830e-01 & -7.741205e-02 & -6.524709e-08 & -2.432521e-01 & -2.699147e-01 & -1.252634e-01 & -1.350284e-02\\\\\n",
       "\tQ1\\_7 &  1.987748e-01 & -1.756890e-01 &  2.124252e-01 & -2.432521e-01 &  5.301925e-07 &  3.695175e-02 & -8.635282e-02 &  1.546863e-02\\\\\n",
       "\tQ1\\_11 &  1.084990e-01 & -2.497259e-01 & -1.220278e-02 & -2.699147e-01 &  3.695175e-02 &  7.614380e-08 &  1.842384e-02 & -2.949533e-02\\\\\n",
       "\tQ1\\_14 &  1.926625e-01 & -1.281294e-01 &  1.403540e-01 & -1.252634e-01 & -8.635282e-02 &  1.842384e-02 & -1.415370e-07 &  1.328418e-02\\\\\n",
       "\tQ1\\_17 &  7.612766e-02 & -1.403446e-01 &  1.414195e-01 & -1.350284e-02 &  1.546863e-02 & -2.949533e-02 &  1.328418e-02 &  3.160512e-07\\\\\n",
       "\\end{tabular}\n",
       "\n",
       "\\end{description}\n"
      ],
      "text/markdown": [
       "$type\n",
       ":   'raw'\n",
       "$cov\n",
       ":   \n",
       "| <!--/--> | Q1_1 | Q1_4 | Q1_5 | Q1_10 | Q1_7 | Q1_11 | Q1_14 | Q1_17 |\n",
       "|---|---|---|---|---|---|---|---|---|\n",
       "| Q1_1 |  2.010853e-07 | -2.688740e-02 | -6.000340e-02 |  5.753197e-02 |  1.987748e-01 |  1.084990e-01 |  1.926625e-01 |  7.612766e-02 |\n",
       "| Q1_4 | -2.688740e-02 | -2.174711e-08 |  3.766752e-02 |  1.919830e-01 | -1.756890e-01 | -2.497259e-01 | -1.281294e-01 | -1.403446e-01 |\n",
       "| Q1_5 | -6.000340e-02 |  3.766752e-02 |  1.159479e-08 | -7.741205e-02 |  2.124252e-01 | -1.220278e-02 |  1.403540e-01 |  1.414195e-01 |\n",
       "| Q1_10 |  5.753197e-02 |  1.919830e-01 | -7.741205e-02 | -6.524709e-08 | -2.432521e-01 | -2.699147e-01 | -1.252634e-01 | -1.350284e-02 |\n",
       "| Q1_7 |  1.987748e-01 | -1.756890e-01 |  2.124252e-01 | -2.432521e-01 |  5.301925e-07 |  3.695175e-02 | -8.635282e-02 |  1.546863e-02 |\n",
       "| Q1_11 |  1.084990e-01 | -2.497259e-01 | -1.220278e-02 | -2.699147e-01 |  3.695175e-02 |  7.614380e-08 |  1.842384e-02 | -2.949533e-02 |\n",
       "| Q1_14 |  1.926625e-01 | -1.281294e-01 |  1.403540e-01 | -1.252634e-01 | -8.635282e-02 |  1.842384e-02 | -1.415370e-07 |  1.328418e-02 |\n",
       "| Q1_17 |  7.612766e-02 | -1.403446e-01 |  1.414195e-01 | -1.350284e-02 |  1.546863e-02 | -2.949533e-02 |  1.328418e-02 |  3.160512e-07 |\n",
       "\n",
       "\n",
       "\n",
       "\n"
      ],
      "text/plain": [
       "$type\n",
       "[1] \"raw\"\n",
       "\n",
       "$cov\n",
       "      Q1_1   Q1_4   Q1_5   Q1_10  Q1_7   Q1_11  Q1_14  Q1_17 \n",
       "Q1_1   0.000                                                 \n",
       "Q1_4  -0.027  0.000                                          \n",
       "Q1_5  -0.060  0.038  0.000                                   \n",
       "Q1_10  0.058  0.192 -0.077  0.000                            \n",
       "Q1_7   0.199 -0.176  0.212 -0.243  0.000                     \n",
       "Q1_11  0.108 -0.250 -0.012 -0.270  0.037  0.000              \n",
       "Q1_14  0.193 -0.128  0.140 -0.125 -0.086  0.018  0.000       \n",
       "Q1_17  0.076 -0.140  0.141 -0.014  0.015 -0.029  0.013  0.000\n"
      ]
     },
     "metadata": {},
     "output_type": "display_data"
    }
   ],
   "source": [
    "resid(prechemfit)\n"
   ]
  },
  {
   "cell_type": "code",
   "execution_count": 9,
   "metadata": {},
   "outputs": [
    {
     "data": {
      "text/plain": [
       "\n",
       "Reliability analysis   \n",
       "Call: alpha(x = ChemAttPreSubset[c(\"Q1_1\", \"Q1_4\", \"Q1_5\", \"Q1_10\")])\n",
       "\n",
       "  raw_alpha std.alpha G6(smc) average_r S/N   ase mean sd median_r\n",
       "      0.81      0.81    0.77      0.51 4.1 0.015  2.9  1     0.52\n",
       "\n",
       " lower alpha upper     95% confidence boundaries\n",
       "0.78 0.81 0.84 \n",
       "\n",
       " Reliability if an item is dropped:\n",
       "      raw_alpha std.alpha G6(smc) average_r S/N alpha se  var.r med.r\n",
       "Q1_1       0.75      0.75    0.69      0.50 3.0    0.021 0.0191  0.50\n",
       "Q1_4       0.72      0.71    0.64      0.46 2.5    0.024 0.0149  0.41\n",
       "Q1_5       0.74      0.74    0.66      0.48 2.8    0.022 0.0047  0.50\n",
       "Q1_10      0.81      0.81    0.75      0.59 4.4    0.016 0.0023  0.59\n",
       "\n",
       " Item statistics \n",
       "        n raw.r std.r r.cor r.drop mean  sd\n",
       "Q1_1  401  0.81  0.80  0.70   0.64  3.2 1.4\n",
       "Q1_4  401  0.84  0.84  0.78   0.70  2.8 1.3\n",
       "Q1_5  401  0.83  0.82  0.75   0.67  3.4 1.4\n",
       "Q1_10 401  0.69  0.72  0.55   0.50  2.3 1.1\n",
       "\n",
       "Non missing response frequency for each item\n",
       "         1    2    3    4    5    6    7 miss\n",
       "Q1_1  0.11 0.19 0.30 0.23 0.10 0.05 0.01    0\n",
       "Q1_4  0.17 0.24 0.31 0.17 0.07 0.02 0.01    0\n",
       "Q1_5  0.10 0.14 0.32 0.26 0.11 0.05 0.01    0\n",
       "Q1_10 0.26 0.35 0.25 0.10 0.03 0.01 0.00    0"
      ]
     },
     "metadata": {},
     "output_type": "display_data"
    }
   ],
   "source": [
    "alpha(ChemAttPreSubset[c('Q1_1', 'Q1_4', 'Q1_5', 'Q1_10')])\n"
   ]
  },
  {
   "cell_type": "code",
   "execution_count": 10,
   "metadata": {},
   "outputs": [
    {
     "data": {
      "text/plain": [
       "\n",
       "Reliability analysis   \n",
       "Call: alpha(x = ChemAttPreSubset[c(\"Q1_7\", \"Q1_11\", \"Q1_14\", \"Q1_17\")])\n",
       "\n",
       "  raw_alpha std.alpha G6(smc) average_r S/N   ase mean  sd median_r\n",
       "       0.8      0.81    0.78      0.51 4.1 0.017  4.2 1.2     0.48\n",
       "\n",
       " lower alpha upper     95% confidence boundaries\n",
       "0.77 0.8 0.83 \n",
       "\n",
       " Reliability if an item is dropped:\n",
       "      raw_alpha std.alpha G6(smc) average_r S/N alpha se  var.r med.r\n",
       "Q1_7       0.73      0.74    0.69      0.49 2.8    0.024 0.0345  0.38\n",
       "Q1_11      0.69      0.70    0.62      0.43 2.3    0.027 0.0138  0.37\n",
       "Q1_14      0.72      0.73    0.67      0.47 2.7    0.024 0.0309  0.38\n",
       "Q1_17      0.84      0.85    0.79      0.65 5.5    0.014 0.0049  0.67\n",
       "\n",
       " Item statistics \n",
       "        n raw.r std.r r.cor r.drop mean  sd\n",
       "Q1_7  401  0.83  0.82  0.74   0.65  4.2 1.6\n",
       "Q1_11 401  0.86  0.87  0.84   0.74  4.3 1.4\n",
       "Q1_14 401  0.81  0.83  0.77   0.68  4.1 1.3\n",
       "Q1_17 401  0.68  0.66  0.46   0.42  4.3 1.5\n",
       "\n",
       "Non missing response frequency for each item\n",
       "         1    2    3    4    5    6    7 miss\n",
       "Q1_7  0.06 0.10 0.16 0.23 0.23 0.13 0.08    0\n",
       "Q1_11 0.04 0.06 0.13 0.35 0.24 0.10 0.08    0\n",
       "Q1_14 0.03 0.08 0.16 0.37 0.23 0.07 0.05    0\n",
       "Q1_17 0.05 0.08 0.14 0.25 0.24 0.14 0.08    0"
      ]
     },
     "metadata": {},
     "output_type": "display_data"
    }
   ],
   "source": [
    "alpha(ChemAttPreSubset[c('Q1_7', 'Q1_11', 'Q1_14', 'Q1_17')])\n"
   ]
  },
  {
   "cell_type": "code",
   "execution_count": null,
   "metadata": {},
   "outputs": [],
   "source": []
  },
  {
   "cell_type": "code",
   "execution_count": 11,
   "metadata": {},
   "outputs": [],
   "source": [
    "ChemAttPostSubset<-PostSurveyChemData[-1,c('Q1_1', 'Q1_4', 'Q1_5', 'Q1_10', 'Q1_7', 'Q1_11', 'Q1_14', 'Q1_17')]\n",
    "ChemAttPostSubset<-na.omit(ChemAttPostSubset)\n",
    "ChemAttPostSubset<-as.data.frame(sapply(ChemAttPostSubset,as.numeric))\n"
   ]
  },
  {
   "cell_type": "code",
   "execution_count": 12,
   "metadata": {},
   "outputs": [],
   "source": [
    "ChemAttPostSubset[\"Q1_1\"]<-(ChemAttPostSubset[\"Q1_1\"] - 8)*-1\n",
    "ChemAttPostSubset[\"Q1_7\"]<-(ChemAttPostSubset[\"Q1_7\"] - 8)*-1\n",
    "ChemAttPostSubset[\"Q1_11\"]<-(ChemAttPostSubset[\"Q1_11\"] - 8)*-1\n",
    "ChemAttPostSubset[\"Q1_14\"]<-(ChemAttPostSubset[\"Q1_14\"] - 8)*-1\n"
   ]
  },
  {
   "cell_type": "code",
   "execution_count": 13,
   "metadata": {},
   "outputs": [],
   "source": [
    "postchemfit.model<-'Cognition =~ Q1_1 + Q1_4 + Q1_5 + Q1_10\n",
    "                Affect =~ Q1_7 + Q1_11 + Q1_14 + Q1_17'\n"
   ]
  },
  {
   "cell_type": "code",
   "execution_count": 14,
   "metadata": {},
   "outputs": [],
   "source": [
    "postchemfit <- cfa(postchemfit.model, data=ChemAttPostSubset, estimator=\"MLR\")\n"
   ]
  },
  {
   "cell_type": "code",
   "execution_count": 15,
   "metadata": {},
   "outputs": [
    {
     "name": "stdout",
     "output_type": "stream",
     "text": [
      "lavaan 0.6-6 ended normally after 34 iterations\n",
      "\n",
      "  Estimator                                         ML\n",
      "  Optimization method                           NLMINB\n",
      "  Number of free parameters                         17\n",
      "                                                      \n",
      "  Number of observations                           210\n",
      "                                                      \n",
      "Model Test User Model:\n",
      "                                               Standard      Robust\n",
      "  Test Statistic                                 75.911      67.195\n",
      "  Degrees of freedom                                 19          19\n",
      "  P-value (Chi-square)                            0.000       0.000\n",
      "  Scaling correction factor                                   1.130\n",
      "       Yuan-Bentler correction (Mplus variant)                     \n",
      "\n",
      "Model Test Baseline Model:\n",
      "\n",
      "  Test statistic                               646.263     485.048\n",
      "  Degrees of freedom                                28          28\n",
      "  P-value                                        0.000       0.000\n",
      "  Scaling correction factor                                  1.332\n",
      "\n",
      "User Model versus Baseline Model:\n",
      "\n",
      "  Comparative Fit Index (CFI)                    0.908       0.895\n",
      "  Tucker-Lewis Index (TLI)                       0.864       0.845\n",
      "                                                                  \n",
      "  Robust Comparative Fit Index (CFI)                         0.911\n",
      "  Robust Tucker-Lewis Index (TLI)                            0.868\n",
      "\n",
      "Loglikelihood and Information Criteria:\n",
      "\n",
      "  Loglikelihood user model (H0)              -2773.941   -2773.941\n",
      "  Scaling correction factor                                  1.380\n",
      "      for the MLR correction                                      \n",
      "  Loglikelihood unrestricted model (H1)      -2735.986   -2735.986\n",
      "  Scaling correction factor                                  1.248\n",
      "      for the MLR correction                                      \n",
      "                                                                  \n",
      "  Akaike (AIC)                                5581.882    5581.882\n",
      "  Bayesian (BIC)                              5638.783    5638.783\n",
      "  Sample-size adjusted Bayesian (BIC)         5584.917    5584.917\n",
      "\n",
      "Root Mean Square Error of Approximation:\n",
      "\n",
      "  RMSEA                                          0.119       0.110\n",
      "  90 Percent confidence interval - lower         0.092       0.084\n",
      "  90 Percent confidence interval - upper         0.148       0.137\n",
      "  P-value RMSEA <= 0.05                          0.000       0.000\n",
      "                                                                  \n",
      "  Robust RMSEA                                               0.117\n",
      "  90 Percent confidence interval - lower                     0.087\n",
      "  90 Percent confidence interval - upper                     0.148\n",
      "\n",
      "Standardized Root Mean Square Residual:\n",
      "\n",
      "  SRMR                                           0.082       0.082\n",
      "\n",
      "Parameter Estimates:\n",
      "\n",
      "  Standard errors                             Sandwich\n",
      "  Information bread                           Observed\n",
      "  Observed information based on                Hessian\n",
      "\n",
      "Latent Variables:\n",
      "                   Estimate  Std.Err  z-value  P(>|z|)   Std.lv  Std.all\n",
      "  Cognition =~                                                          \n",
      "    Q1_1              1.000                               0.936    0.614\n",
      "    Q1_4              1.108    0.205    5.397    0.000    1.036    0.739\n",
      "    Q1_5              1.328    0.241    5.507    0.000    1.243    0.845\n",
      "    Q1_10             0.686    0.181    3.789    0.000    0.641    0.511\n",
      "  Affect =~                                                             \n",
      "    Q1_7              1.000                               1.459    0.816\n",
      "    Q1_11             0.853    0.056   15.368    0.000    1.245    0.820\n",
      "    Q1_14             0.673    0.079    8.517    0.000    0.981    0.698\n",
      "    Q1_17             0.579    0.091    6.399    0.000    0.845    0.510\n",
      "\n",
      "Covariances:\n",
      "                   Estimate  Std.Err  z-value  P(>|z|)   Std.lv  Std.all\n",
      "  Cognition ~~                                                          \n",
      "    Affect            0.832    0.225    3.689    0.000    0.609    0.609\n",
      "\n",
      "Variances:\n",
      "                   Estimate  Std.Err  z-value  P(>|z|)   Std.lv  Std.all\n",
      "   .Q1_1              1.448    0.246    5.891    0.000    1.448    0.623\n",
      "   .Q1_4              0.892    0.193    4.629    0.000    0.892    0.454\n",
      "   .Q1_5              0.620    0.176    3.520    0.000    0.620    0.286\n",
      "   .Q1_10             1.162    0.157    7.405    0.000    1.162    0.739\n",
      "   .Q1_7              1.069    0.185    5.779    0.000    1.069    0.334\n",
      "   .Q1_11             0.753    0.120    6.255    0.000    0.753    0.327\n",
      "   .Q1_14             1.014    0.160    6.349    0.000    1.014    0.513\n",
      "   .Q1_17             2.027    0.244    8.298    0.000    2.027    0.739\n",
      "    Cognition         0.875    0.269    3.254    0.001    1.000    1.000\n",
      "    Affect            2.129    0.274    7.755    0.000    1.000    1.000\n",
      "\n",
      "R-Square:\n",
      "                   Estimate\n",
      "    Q1_1              0.377\n",
      "    Q1_4              0.546\n",
      "    Q1_5              0.714\n",
      "    Q1_10             0.261\n",
      "    Q1_7              0.666\n",
      "    Q1_11             0.673\n",
      "    Q1_14             0.487\n",
      "    Q1_17             0.261\n",
      "\n"
     ]
    }
   ],
   "source": [
    "summary(postchemfit, fit.measures=TRUE, standardized=TRUE, rsquare=TRUE)\n"
   ]
  },
  {
   "cell_type": "code",
   "execution_count": 16,
   "metadata": {},
   "outputs": [
    {
     "data": {
      "text/plain": [
       "\n",
       "Reliability analysis   \n",
       "Call: alpha(x = ChemAttPostSubset[c(\"Q1_1\", \"Q1_4\", \"Q1_5\", \"Q1_10\")])\n",
       "\n",
       "  raw_alpha std.alpha G6(smc) average_r S/N   ase mean  sd median_r\n",
       "      0.77      0.78    0.74      0.46 3.5 0.025    3 1.1     0.46\n",
       "\n",
       " lower alpha upper     95% confidence boundaries\n",
       "0.73 0.77 0.82 \n",
       "\n",
       " Reliability if an item is dropped:\n",
       "      raw_alpha std.alpha G6(smc) average_r S/N alpha se  var.r med.r\n",
       "Q1_1       0.76      0.76    0.69      0.51 3.1    0.028 0.0125  0.49\n",
       "Q1_4       0.67      0.67    0.59      0.41 2.1    0.038 0.0061  0.41\n",
       "Q1_5       0.68      0.68    0.60      0.42 2.2    0.038 0.0068  0.43\n",
       "Q1_10      0.76      0.76    0.69      0.52 3.2    0.029 0.0106  0.49\n",
       "\n",
       " Item statistics \n",
       "        n raw.r std.r r.cor r.drop mean  sd\n",
       "Q1_1  210  0.74  0.73  0.57   0.51  3.2 1.5\n",
       "Q1_4  210  0.82  0.83  0.77   0.66  3.0 1.4\n",
       "Q1_5  210  0.82  0.82  0.75   0.65  3.5 1.5\n",
       "Q1_10 210  0.70  0.72  0.57   0.50  2.4 1.3\n",
       "\n",
       "Non missing response frequency for each item\n",
       "         1    2    3    4    5    6    7 miss\n",
       "Q1_1  0.13 0.21 0.29 0.20 0.10 0.04 0.04    0\n",
       "Q1_4  0.15 0.24 0.31 0.17 0.09 0.02 0.03    0\n",
       "Q1_5  0.09 0.17 0.25 0.29 0.10 0.06 0.04    0\n",
       "Q1_10 0.27 0.36 0.22 0.07 0.05 0.02 0.00    0"
      ]
     },
     "metadata": {},
     "output_type": "display_data"
    }
   ],
   "source": [
    "alpha(ChemAttPostSubset[c('Q1_1', 'Q1_4', 'Q1_5', 'Q1_10')])\n"
   ]
  },
  {
   "cell_type": "code",
   "execution_count": 17,
   "metadata": {},
   "outputs": [
    {
     "data": {
      "text/plain": [
       "\n",
       "Reliability analysis   \n",
       "Call: alpha(x = ChemAttPostSubset[c(\"Q1_7\", \"Q1_11\", \"Q1_14\", \"Q1_17\")])\n",
       "\n",
       "  raw_alpha std.alpha G6(smc) average_r S/N   ase mean  sd median_r\n",
       "      0.79       0.8    0.76      0.49 3.9 0.023  4.3 1.3     0.48\n",
       "\n",
       " lower alpha upper     95% confidence boundaries\n",
       "0.75 0.79 0.84 \n",
       "\n",
       " Reliability if an item is dropped:\n",
       "      raw_alpha std.alpha G6(smc) average_r S/N alpha se  var.r med.r\n",
       "Q1_7       0.70      0.71    0.64      0.45 2.5    0.036 0.0143  0.43\n",
       "Q1_11      0.68      0.69    0.61      0.42 2.2    0.037 0.0099  0.40\n",
       "Q1_14      0.75      0.76    0.70      0.51 3.1    0.030 0.0257  0.43\n",
       "Q1_17      0.81      0.82    0.76      0.60 4.5    0.022 0.0067  0.58\n",
       "\n",
       " Item statistics \n",
       "        n raw.r std.r r.cor r.drop mean  sd\n",
       "Q1_7  210  0.84  0.83  0.77   0.67  4.2 1.8\n",
       "Q1_11 210  0.85  0.86  0.82   0.73  4.4 1.5\n",
       "Q1_14 210  0.76  0.78  0.66   0.59  4.2 1.4\n",
       "Q1_17 210  0.70  0.69  0.50   0.46  4.3 1.7\n",
       "\n",
       "Non missing response frequency for each item\n",
       "         1    2    3    4    5    6    7 miss\n",
       "Q1_7  0.09 0.08 0.20 0.20 0.17 0.13 0.13    0\n",
       "Q1_11 0.03 0.08 0.14 0.29 0.22 0.12 0.11    0\n",
       "Q1_14 0.04 0.08 0.16 0.36 0.20 0.10 0.07    0\n",
       "Q1_17 0.07 0.09 0.11 0.23 0.25 0.14 0.10    0"
      ]
     },
     "metadata": {},
     "output_type": "display_data"
    }
   ],
   "source": [
    "alpha(ChemAttPostSubset[c('Q1_7', 'Q1_11', 'Q1_14', 'Q1_17')])\n"
   ]
  },
  {
   "cell_type": "code",
   "execution_count": null,
   "metadata": {},
   "outputs": [],
   "source": []
  }
 ],
 "metadata": {
  "kernelspec": {
   "display_name": "R",
   "language": "R",
   "name": "ir"
  },
  "language_info": {
   "codemirror_mode": "r",
   "file_extension": ".r",
   "mimetype": "text/x-r-source",
   "name": "R",
   "pygments_lexer": "r",
   "version": "3.6.1"
  }
 },
 "nbformat": 4,
 "nbformat_minor": 4
}
