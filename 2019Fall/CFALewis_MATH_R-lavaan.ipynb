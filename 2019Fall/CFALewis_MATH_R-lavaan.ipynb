{
 "cells": [
  {
   "cell_type": "markdown",
   "metadata": {},
   "source": [
    "Confirmatory factor analysis on survey data given during the Fall, 2019, semester. The CFA uses the model from Jennifer Lewis's J. Chem. Ed. paper developing the ASCI V2 (https://pubs.acs.org/doi/full/10.1021/ed900071q)"
   ]
  },
  {
   "cell_type": "code",
   "execution_count": 1,
   "metadata": {},
   "outputs": [
    {
     "name": "stderr",
     "output_type": "stream",
     "text": [
      "This is lavaan 0.6-6\n",
      "lavaan is BETA software! Please report any bugs.\n",
      "\n",
      "Attaching package: ‘psych’\n",
      "\n",
      "The following object is masked from ‘package:lavaan’:\n",
      "\n",
      "    cor2cov\n",
      "\n"
     ]
    }
   ],
   "source": [
    "library(lavaan)\n",
    "library(readxl)\n",
    "library(psych)\n"
   ]
  },
  {
   "cell_type": "code",
   "execution_count": 2,
   "metadata": {},
   "outputs": [
    {
     "name": "stderr",
     "output_type": "stream",
     "text": [
      "New names:\n",
      "* Q35 -> Q35...1\n",
      "* Q35 -> Q35...96\n",
      "New names:\n",
      "* Q35 -> Q35...1\n",
      "* Q35 -> Q35...96\n"
     ]
    }
   ],
   "source": [
    "path = \"/Users/erikmenke/UC-Merced/Data/2019-2020/NSF HSI/Fall 2019/Survey/Postterm/\"\n",
    "PreSurveyChemDataFilename = \"Chem Attitudes_Pre-Fall 2019.xlsx\"\n",
    "PostSurveyChemDataFilename = \"Chem Attitudes_Post-Fall 2019.xlsx\"\n",
    "\n",
    "PreSurveyChemData <- read_excel(paste(path, PreSurveyChemDataFilename, sep=\"\"))\n",
    "PostSurveyChemData <- read_excel(paste(path, PostSurveyChemDataFilename, sep=\"\"))\n"
   ]
  },
  {
   "cell_type": "code",
   "execution_count": 6,
   "metadata": {},
   "outputs": [],
   "source": [
    "MathAttPreSubset<-PreSurveyChemData[-1,c('Q32_1', 'Q32_4', 'Q32_5', 'Q32_10', 'Q32_7', 'Q32_11', 'Q32_14', 'Q32_17')]\n",
    "MathAttPreSubset<-na.omit(MathAttPreSubset)\n",
    "MathAttPreSubset<-as.data.frame(sapply(MathAttPreSubset,as.numeric))\n"
   ]
  },
  {
   "cell_type": "code",
   "execution_count": 7,
   "metadata": {},
   "outputs": [],
   "source": [
    "MathAttPreSubset[\"Q32_1\"]<-(MathAttPreSubset[\"Q32_1\"] - 8)*-1\n",
    "MathAttPreSubset[\"Q32_7\"]<-(MathAttPreSubset[\"Q32_7\"] - 8)*-1\n",
    "MathAttPreSubset[\"Q32_11\"]<-(MathAttPreSubset[\"Q32_11\"] - 8)*-1\n",
    "MathAttPreSubset[\"Q32_14\"]<-(MathAttPreSubset[\"Q32_14\"] - 8)*-1\n"
   ]
  },
  {
   "cell_type": "code",
   "execution_count": 8,
   "metadata": {},
   "outputs": [],
   "source": [
    "premathfit.model<-'Cognition =~ Q32_1 + Q32_4 + Q32_5 + Q32_10\n",
    "                Affect =~ Q32_7 + Q32_11 + Q32_14 + Q32_17'\n"
   ]
  },
  {
   "cell_type": "code",
   "execution_count": 9,
   "metadata": {},
   "outputs": [],
   "source": [
    "premathfit <- cfa(premathfit.model, data=MathAttPreSubset, estimator=\"MLR\")\n"
   ]
  },
  {
   "cell_type": "code",
   "execution_count": 10,
   "metadata": {},
   "outputs": [
    {
     "name": "stdout",
     "output_type": "stream",
     "text": [
      "lavaan 0.6-6 ended normally after 36 iterations\n",
      "\n",
      "  Estimator                                         ML\n",
      "  Optimization method                           NLMINB\n",
      "  Number of free parameters                         17\n",
      "                                                      \n",
      "  Number of observations                           389\n",
      "                                                      \n",
      "Model Test User Model:\n",
      "                                               Standard      Robust\n",
      "  Test Statistic                                136.680     110.678\n",
      "  Degrees of freedom                                 19          19\n",
      "  P-value (Chi-square)                            0.000       0.000\n",
      "  Scaling correction factor                                   1.235\n",
      "       Yuan-Bentler correction (Mplus variant)                     \n",
      "\n",
      "Model Test Baseline Model:\n",
      "\n",
      "  Test statistic                              1403.042    1008.193\n",
      "  Degrees of freedom                                28          28\n",
      "  P-value                                        0.000       0.000\n",
      "  Scaling correction factor                                  1.392\n",
      "\n",
      "User Model versus Baseline Model:\n",
      "\n",
      "  Comparative Fit Index (CFI)                    0.914       0.906\n",
      "  Tucker-Lewis Index (TLI)                       0.874       0.862\n",
      "                                                                  \n",
      "  Robust Comparative Fit Index (CFI)                         0.917\n",
      "  Robust Tucker-Lewis Index (TLI)                            0.878\n",
      "\n",
      "Loglikelihood and Information Criteria:\n",
      "\n",
      "  Loglikelihood user model (H0)              -5317.711   -5317.711\n",
      "  Scaling correction factor                                  1.283\n",
      "      for the MLR correction                                      \n",
      "  Loglikelihood unrestricted model (H1)      -5249.371   -5249.371\n",
      "  Scaling correction factor                                  1.257\n",
      "      for the MLR correction                                      \n",
      "                                                                  \n",
      "  Akaike (AIC)                               10669.422   10669.422\n",
      "  Bayesian (BIC)                             10736.803   10736.803\n",
      "  Sample-size adjusted Bayesian (BIC)        10682.863   10682.863\n",
      "\n",
      "Root Mean Square Error of Approximation:\n",
      "\n",
      "  RMSEA                                          0.126       0.111\n",
      "  90 Percent confidence interval - lower         0.107       0.094\n",
      "  90 Percent confidence interval - upper         0.146       0.130\n",
      "  P-value RMSEA <= 0.05                          0.000       0.000\n",
      "                                                                  \n",
      "  Robust RMSEA                                               0.124\n",
      "  90 Percent confidence interval - lower                     0.102\n",
      "  90 Percent confidence interval - upper                     0.147\n",
      "\n",
      "Standardized Root Mean Square Residual:\n",
      "\n",
      "  SRMR                                           0.069       0.069\n",
      "\n",
      "Parameter Estimates:\n",
      "\n",
      "  Standard errors                             Sandwich\n",
      "  Information bread                           Observed\n",
      "  Observed information based on                Hessian\n",
      "\n",
      "Latent Variables:\n",
      "                   Estimate  Std.Err  z-value  P(>|z|)   Std.lv  Std.all\n",
      "  Cognition =~                                                          \n",
      "    Q32_1             1.000                               1.381    0.732\n",
      "    Q32_4             0.838    0.073   11.518    0.000    1.158    0.738\n",
      "    Q32_5             1.028    0.063   16.286    0.000    1.420    0.862\n",
      "    Q32_10            0.466    0.065    7.150    0.000    0.644    0.487\n",
      "  Affect =~                                                             \n",
      "    Q32_7             1.000                               1.417    0.747\n",
      "    Q32_11            0.951    0.048   19.832    0.000    1.347    0.862\n",
      "    Q32_14            0.864    0.060   14.368    0.000    1.225    0.809\n",
      "    Q32_17            0.563    0.074    7.586    0.000    0.798    0.447\n",
      "\n",
      "Covariances:\n",
      "                   Estimate  Std.Err  z-value  P(>|z|)   Std.lv  Std.all\n",
      "  Cognition ~~                                                          \n",
      "    Affect            1.412    0.180    7.861    0.000    0.721    0.721\n",
      "\n",
      "Variances:\n",
      "                   Estimate  Std.Err  z-value  P(>|z|)   Std.lv  Std.all\n",
      "   .Q32_1             1.653    0.187    8.834    0.000    1.653    0.464\n",
      "   .Q32_4             1.123    0.145    7.771    0.000    1.123    0.456\n",
      "   .Q32_5             0.700    0.130    5.394    0.000    0.700    0.258\n",
      "   .Q32_10            1.335    0.136    9.825    0.000    1.335    0.763\n",
      "   .Q32_7             1.587    0.182    8.722    0.000    1.587    0.441\n",
      "   .Q32_11            0.627    0.108    5.813    0.000    0.627    0.257\n",
      "   .Q32_14            0.790    0.111    7.106    0.000    0.790    0.345\n",
      "   .Q32_17            2.558    0.200   12.790    0.000    2.558    0.800\n",
      "    Cognition         1.908    0.221    8.646    0.000    1.000    1.000\n",
      "    Affect            2.008    0.223    9.016    0.000    1.000    1.000\n",
      "\n",
      "R-Square:\n",
      "                   Estimate\n",
      "    Q32_1             0.536\n",
      "    Q32_4             0.544\n",
      "    Q32_5             0.742\n",
      "    Q32_10            0.237\n",
      "    Q32_7             0.559\n",
      "    Q32_11            0.743\n",
      "    Q32_14            0.655\n",
      "    Q32_17            0.200\n",
      "\n"
     ]
    }
   ],
   "source": [
    "summary(premathfit, fit.measures=TRUE, standardized=TRUE, rsquare=TRUE)\n"
   ]
  },
  {
   "cell_type": "code",
   "execution_count": 11,
   "metadata": {},
   "outputs": [
    {
     "data": {
      "text/plain": [
       "\n",
       "Reliability analysis   \n",
       "Call: alpha(x = MathAttPreSubset[c(\"Q32_1\", \"Q32_4\", \"Q32_5\", \"Q32_10\")])\n",
       "\n",
       "  raw_alpha std.alpha G6(smc) average_r S/N   ase mean  sd median_r\n",
       "       0.8       0.8    0.77      0.51 4.1 0.016    3 1.3     0.51\n",
       "\n",
       " lower alpha upper     95% confidence boundaries\n",
       "0.77 0.8 0.83 \n",
       "\n",
       " Reliability if an item is dropped:\n",
       "       raw_alpha std.alpha G6(smc) average_r S/N alpha se  var.r med.r\n",
       "Q32_1       0.77      0.76    0.71      0.52 3.2    0.020 0.0180  0.51\n",
       "Q32_4       0.71      0.71    0.64      0.45 2.5    0.024 0.0165  0.39\n",
       "Q32_5       0.71      0.72    0.64      0.46 2.6    0.025 0.0072  0.51\n",
       "Q32_10      0.81      0.81    0.75      0.59 4.3    0.017 0.0053  0.60\n",
       "\n",
       " Item statistics \n",
       "         n raw.r std.r r.cor r.drop mean  sd\n",
       "Q32_1  389  0.81  0.78  0.67   0.61  3.5 1.9\n",
       "Q32_4  389  0.84  0.85  0.79   0.70  2.9 1.6\n",
       "Q32_5  389  0.84  0.83  0.78   0.70  3.4 1.6\n",
       "Q32_10 389  0.67  0.71  0.55   0.49  2.3 1.3\n",
       "\n",
       "Non missing response frequency for each item\n",
       "          1    2    3    4    5    6    7 miss\n",
       "Q32_1  0.18 0.17 0.21 0.12 0.13 0.11 0.08    0\n",
       "Q32_4  0.20 0.26 0.23 0.15 0.08 0.05 0.03    0\n",
       "Q32_5  0.11 0.21 0.25 0.16 0.12 0.10 0.05    0\n",
       "Q32_10 0.34 0.28 0.21 0.10 0.03 0.02 0.01    0"
      ]
     },
     "metadata": {},
     "output_type": "display_data"
    }
   ],
   "source": [
    "alpha(MathAttPreSubset[c('Q32_1', 'Q32_4', 'Q32_5', 'Q32_10')])\n"
   ]
  },
  {
   "cell_type": "code",
   "execution_count": 12,
   "metadata": {},
   "outputs": [
    {
     "data": {
      "text/plain": [
       "\n",
       "Reliability analysis   \n",
       "Call: alpha(x = MathAttPreSubset[c(\"Q32_7\", \"Q32_11\", \"Q32_14\", \"Q32_17\")])\n",
       "\n",
       "  raw_alpha std.alpha G6(smc) average_r S/N   ase mean  sd median_r\n",
       "      0.79       0.8    0.78       0.5   4 0.018  4.4 1.3     0.48\n",
       "\n",
       " lower alpha upper     95% confidence boundaries\n",
       "0.76 0.79 0.83 \n",
       "\n",
       " Reliability if an item is dropped:\n",
       "       raw_alpha std.alpha G6(smc) average_r S/N alpha se  var.r med.r\n",
       "Q32_7       0.73      0.74    0.69      0.49 2.9    0.025 0.0327  0.40\n",
       "Q32_11      0.68      0.69    0.62      0.42 2.2    0.028 0.0160  0.40\n",
       "Q32_14      0.71      0.71    0.67      0.45 2.5    0.026 0.0393  0.37\n",
       "Q32_17      0.84      0.85    0.79      0.65 5.5    0.014 0.0053  0.68\n",
       "\n",
       " Item statistics \n",
       "         n raw.r std.r r.cor r.drop mean  sd\n",
       "Q32_7  389  0.82  0.81  0.73   0.63  4.5 1.9\n",
       "Q32_11 389  0.86  0.87  0.84   0.74  4.4 1.6\n",
       "Q32_14 389  0.82  0.84  0.78   0.69  4.3 1.5\n",
       "Q32_17 389  0.67  0.66  0.45   0.41  4.3 1.8\n",
       "\n",
       "Non missing response frequency for each item\n",
       "          1    2    3    4    5    6    7 miss\n",
       "Q32_7  0.08 0.10 0.12 0.17 0.16 0.17 0.20    0\n",
       "Q32_11 0.04 0.07 0.14 0.31 0.20 0.11 0.13    0\n",
       "Q32_14 0.04 0.08 0.16 0.30 0.21 0.11 0.10    0\n",
       "Q32_17 0.09 0.08 0.12 0.31 0.13 0.12 0.15    0"
      ]
     },
     "metadata": {},
     "output_type": "display_data"
    }
   ],
   "source": [
    "alpha(MathAttPreSubset[c('Q32_7', 'Q32_11', 'Q32_14', 'Q32_17')])\n"
   ]
  },
  {
   "cell_type": "code",
   "execution_count": null,
   "metadata": {},
   "outputs": [],
   "source": []
  },
  {
   "cell_type": "code",
   "execution_count": 13,
   "metadata": {},
   "outputs": [],
   "source": [
    "MathAttPostSubset<-PostSurveyChemData[-1,c('Q32_1', 'Q32_4', 'Q32_5', 'Q32_10', 'Q32_7', 'Q32_11', 'Q32_14', 'Q32_17')]\n",
    "MathAttPostSubset<-na.omit(MathAttPostSubset)\n",
    "MathAttPostSubset<-as.data.frame(sapply(MathAttPostSubset,as.numeric))\n"
   ]
  },
  {
   "cell_type": "code",
   "execution_count": 14,
   "metadata": {},
   "outputs": [],
   "source": [
    "MathAttPostSubset[\"Q32_1\"]<-(MathAttPostSubset[\"Q32_1\"] - 8)*-1\n",
    "MathAttPostSubset[\"Q32_7\"]<-(MathAttPostSubset[\"Q32_7\"] - 8)*-1\n",
    "MathAttPostSubset[\"Q32_11\"]<-(MathAttPostSubset[\"Q32_11\"] - 8)*-1\n",
    "MathAttPostSubset[\"Q32_14\"]<-(MathAttPostSubset[\"Q32_14\"] - 8)*-1\n"
   ]
  },
  {
   "cell_type": "code",
   "execution_count": 15,
   "metadata": {},
   "outputs": [],
   "source": [
    "postmathfit.model<-'Cognition =~ Q32_1 + Q32_4 + Q32_5 + Q32_10\n",
    "                Affect =~ Q32_7 + Q32_11 + Q32_14 + Q32_17'\n"
   ]
  },
  {
   "cell_type": "code",
   "execution_count": 16,
   "metadata": {},
   "outputs": [],
   "source": [
    "postmathfit <- cfa(postmathfit.model, data=MathAttPostSubset, estimator=\"MLR\")\n"
   ]
  },
  {
   "cell_type": "code",
   "execution_count": 17,
   "metadata": {},
   "outputs": [
    {
     "name": "stdout",
     "output_type": "stream",
     "text": [
      "lavaan 0.6-6 ended normally after 34 iterations\n",
      "\n",
      "  Estimator                                         ML\n",
      "  Optimization method                           NLMINB\n",
      "  Number of free parameters                         17\n",
      "                                                      \n",
      "  Number of observations                           203\n",
      "                                                      \n",
      "Model Test User Model:\n",
      "                                               Standard      Robust\n",
      "  Test Statistic                                 49.897      38.198\n",
      "  Degrees of freedom                                 19          19\n",
      "  P-value (Chi-square)                            0.000       0.006\n",
      "  Scaling correction factor                                   1.306\n",
      "       Yuan-Bentler correction (Mplus variant)                     \n",
      "\n",
      "Model Test Baseline Model:\n",
      "\n",
      "  Test statistic                               883.493     609.605\n",
      "  Degrees of freedom                                28          28\n",
      "  P-value                                        0.000       0.000\n",
      "  Scaling correction factor                                  1.449\n",
      "\n",
      "User Model versus Baseline Model:\n",
      "\n",
      "  Comparative Fit Index (CFI)                    0.964       0.967\n",
      "  Tucker-Lewis Index (TLI)                       0.947       0.951\n",
      "                                                                  \n",
      "  Robust Comparative Fit Index (CFI)                         0.970\n",
      "  Robust Tucker-Lewis Index (TLI)                            0.956\n",
      "\n",
      "Loglikelihood and Information Criteria:\n",
      "\n",
      "  Loglikelihood user model (H0)              -2770.963   -2770.963\n",
      "  Scaling correction factor                                  1.306\n",
      "      for the MLR correction                                      \n",
      "  Loglikelihood unrestricted model (H1)      -2746.014   -2746.014\n",
      "  Scaling correction factor                                  1.306\n",
      "      for the MLR correction                                      \n",
      "                                                                  \n",
      "  Akaike (AIC)                                5575.925    5575.925\n",
      "  Bayesian (BIC)                              5632.250    5632.250\n",
      "  Sample-size adjusted Bayesian (BIC)         5578.390    5578.390\n",
      "\n",
      "Root Mean Square Error of Approximation:\n",
      "\n",
      "  RMSEA                                          0.090       0.071\n",
      "  90 Percent confidence interval - lower         0.060       0.042\n",
      "  90 Percent confidence interval - upper         0.120       0.099\n",
      "  P-value RMSEA <= 0.05                          0.017       0.112\n",
      "                                                                  \n",
      "  Robust RMSEA                                               0.081\n",
      "  90 Percent confidence interval - lower                     0.042\n",
      "  90 Percent confidence interval - upper                     0.118\n",
      "\n",
      "Standardized Root Mean Square Residual:\n",
      "\n",
      "  SRMR                                           0.050       0.050\n",
      "\n",
      "Parameter Estimates:\n",
      "\n",
      "  Standard errors                             Sandwich\n",
      "  Information bread                           Observed\n",
      "  Observed information based on                Hessian\n",
      "\n",
      "Latent Variables:\n",
      "                   Estimate  Std.Err  z-value  P(>|z|)   Std.lv  Std.all\n",
      "  Cognition =~                                                          \n",
      "    Q32_1             1.000                               1.505    0.789\n",
      "    Q32_4             0.839    0.067   12.524    0.000    1.263    0.783\n",
      "    Q32_5             1.013    0.053   19.014    0.000    1.525    0.875\n",
      "    Q32_10            0.604    0.082    7.323    0.000    0.909    0.660\n",
      "  Affect =~                                                             \n",
      "    Q32_7             1.000                               1.517    0.756\n",
      "    Q32_11            0.898    0.067   13.358    0.000    1.362    0.828\n",
      "    Q32_14            0.917    0.087   10.577    0.000    1.392    0.852\n",
      "    Q32_17            0.675    0.104    6.468    0.000    1.024    0.526\n",
      "\n",
      "Covariances:\n",
      "                   Estimate  Std.Err  z-value  P(>|z|)   Std.lv  Std.all\n",
      "  Cognition ~~                                                          \n",
      "    Affect            1.831    0.248    7.380    0.000    0.802    0.802\n",
      "\n",
      "Variances:\n",
      "                   Estimate  Std.Err  z-value  P(>|z|)   Std.lv  Std.all\n",
      "   .Q32_1             1.377    0.198    6.963    0.000    1.377    0.378\n",
      "   .Q32_4             1.005    0.170    5.907    0.000    1.005    0.386\n",
      "   .Q32_5             0.715    0.163    4.392    0.000    0.715    0.235\n",
      "   .Q32_10            1.067    0.165    6.453    0.000    1.067    0.564\n",
      "   .Q32_7             1.730    0.322    5.378    0.000    1.730    0.429\n",
      "   .Q32_11            0.850    0.155    5.472    0.000    0.850    0.314\n",
      "   .Q32_14            0.734    0.150    4.892    0.000    0.734    0.275\n",
      "   .Q32_17            2.740    0.306    8.966    0.000    2.740    0.723\n",
      "    Cognition         2.266    0.281    8.072    0.000    1.000    1.000\n",
      "    Affect            2.303    0.367    6.274    0.000    1.000    1.000\n",
      "\n",
      "R-Square:\n",
      "                   Estimate\n",
      "    Q32_1             0.622\n",
      "    Q32_4             0.614\n",
      "    Q32_5             0.765\n",
      "    Q32_10            0.436\n",
      "    Q32_7             0.571\n",
      "    Q32_11            0.686\n",
      "    Q32_14            0.725\n",
      "    Q32_17            0.277\n",
      "\n"
     ]
    }
   ],
   "source": [
    "summary(postmathfit, fit.measures=TRUE, standardized=TRUE, rsquare=TRUE)\n"
   ]
  },
  {
   "cell_type": "code",
   "execution_count": 18,
   "metadata": {},
   "outputs": [
    {
     "data": {
      "text/plain": [
       "\n",
       "Reliability analysis   \n",
       "Call: alpha(x = MathAttPostSubset[c(\"Q32_1\", \"Q32_4\", \"Q32_5\", \"Q32_10\")])\n",
       "\n",
       "  raw_alpha std.alpha G6(smc) average_r S/N   ase mean  sd median_r\n",
       "      0.86      0.86    0.83      0.61 6.2 0.016    3 1.4     0.62\n",
       "\n",
       " lower alpha upper     95% confidence boundaries\n",
       "0.83 0.86 0.89 \n",
       "\n",
       " Reliability if an item is dropped:\n",
       "       raw_alpha std.alpha G6(smc) average_r S/N alpha se  var.r med.r\n",
       "Q32_1       0.83      0.83    0.77      0.63 5.1    0.020 0.0024  0.62\n",
       "Q32_4       0.80      0.80    0.75      0.58 4.1    0.023 0.0096  0.58\n",
       "Q32_5       0.79      0.80    0.74      0.57 4.0    0.025 0.0066  0.62\n",
       "Q32_10      0.85      0.85    0.79      0.66 5.7    0.018 0.0013  0.68\n",
       "\n",
       " Item statistics \n",
       "         n raw.r std.r r.cor r.drop mean  sd\n",
       "Q32_1  203  0.85  0.82  0.74   0.69  3.4 1.9\n",
       "Q32_4  203  0.86  0.87  0.81   0.75  2.9 1.6\n",
       "Q32_5  203  0.88  0.87  0.82   0.77  3.4 1.7\n",
       "Q32_10 203  0.77  0.80  0.69   0.63  2.3 1.4\n",
       "\n",
       "Non missing response frequency for each item\n",
       "          1    2    3    4    5    6    7 miss\n",
       "Q32_1  0.21 0.18 0.18 0.11 0.13 0.14 0.06    0\n",
       "Q32_4  0.22 0.23 0.25 0.14 0.07 0.03 0.05    0\n",
       "Q32_5  0.14 0.21 0.21 0.16 0.14 0.07 0.07    0\n",
       "Q32_10 0.33 0.31 0.22 0.06 0.04 0.02 0.02    0"
      ]
     },
     "metadata": {},
     "output_type": "display_data"
    }
   ],
   "source": [
    "alpha(MathAttPostSubset[c('Q32_1', 'Q32_4', 'Q32_5', 'Q32_10')])\n"
   ]
  },
  {
   "cell_type": "code",
   "execution_count": 19,
   "metadata": {},
   "outputs": [
    {
     "data": {
      "text/plain": [
       "\n",
       "Reliability analysis   \n",
       "Call: alpha(x = MathAttPostSubset[c(\"Q32_7\", \"Q32_11\", \"Q32_14\", \"Q32_17\")])\n",
       "\n",
       "  raw_alpha std.alpha G6(smc) average_r S/N   ase mean  sd median_r\n",
       "      0.81      0.82     0.8      0.54 4.6 0.022  4.2 1.5     0.54\n",
       "\n",
       " lower alpha upper     95% confidence boundaries\n",
       "0.77 0.81 0.86 \n",
       "\n",
       " Reliability if an item is dropped:\n",
       "       raw_alpha std.alpha G6(smc) average_r S/N alpha se  var.r med.r\n",
       "Q32_7       0.75      0.76    0.72      0.52 3.2    0.032 0.0288  0.47\n",
       "Q32_11      0.73      0.74    0.67      0.48 2.8    0.034 0.0164  0.47\n",
       "Q32_14      0.72      0.73    0.68      0.47 2.7    0.035 0.0348  0.37\n",
       "Q32_17      0.85      0.86    0.81      0.67 6.1    0.018 0.0022  0.69\n",
       "\n",
       " Item statistics \n",
       "         n raw.r std.r r.cor r.drop mean  sd\n",
       "Q32_7  203  0.83  0.83  0.75   0.66  4.3 2.0\n",
       "Q32_11 203  0.84  0.86  0.82   0.72  4.2 1.6\n",
       "Q32_14 203  0.85  0.86  0.82   0.74  4.1 1.6\n",
       "Q32_17 203  0.70  0.68  0.50   0.45  4.2 2.0\n",
       "\n",
       "Non missing response frequency for each item\n",
       "          1    2    3    4    5    6    7 miss\n",
       "Q32_7  0.14 0.11 0.08 0.18 0.17 0.14 0.18    0\n",
       "Q32_11 0.08 0.06 0.15 0.31 0.17 0.12 0.11    0\n",
       "Q32_14 0.10 0.06 0.12 0.33 0.20 0.08 0.10    0\n",
       "Q32_17 0.12 0.11 0.10 0.26 0.10 0.12 0.18    0"
      ]
     },
     "metadata": {},
     "output_type": "display_data"
    }
   ],
   "source": [
    "alpha(MathAttPostSubset[c('Q32_7', 'Q32_11', 'Q32_14', 'Q32_17')])\n"
   ]
  },
  {
   "cell_type": "code",
   "execution_count": null,
   "metadata": {},
   "outputs": [],
   "source": []
  }
 ],
 "metadata": {
  "kernelspec": {
   "display_name": "R",
   "language": "R",
   "name": "ir"
  },
  "language_info": {
   "codemirror_mode": "r",
   "file_extension": ".r",
   "mimetype": "text/x-r-source",
   "name": "R",
   "pygments_lexer": "r",
   "version": "3.6.1"
  }
 },
 "nbformat": 4,
 "nbformat_minor": 4
}
