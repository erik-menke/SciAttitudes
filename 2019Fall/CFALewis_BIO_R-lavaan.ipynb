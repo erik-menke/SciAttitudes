{
 "cells": [
  {
   "cell_type": "markdown",
   "metadata": {},
   "source": [
    "Confirmatory factor analysis on survey data given during the Fall, 2019, semester. The CFA uses the model from Jennifer Lewis's J. Chem. Ed. paper developing the ASCI V2 (https://pubs.acs.org/doi/full/10.1021/ed900071q)"
   ]
  },
  {
   "cell_type": "code",
   "execution_count": 1,
   "metadata": {},
   "outputs": [
    {
     "name": "stderr",
     "output_type": "stream",
     "text": [
      "This is lavaan 0.6-6\n",
      "lavaan is BETA software! Please report any bugs.\n",
      "\n",
      "Attaching package: ‘psych’\n",
      "\n",
      "The following object is masked from ‘package:lavaan’:\n",
      "\n",
      "    cor2cov\n",
      "\n"
     ]
    }
   ],
   "source": [
    "library(lavaan)\n",
    "library(readxl)\n",
    "library(psych)\n"
   ]
  },
  {
   "cell_type": "code",
   "execution_count": 2,
   "metadata": {},
   "outputs": [
    {
     "name": "stderr",
     "output_type": "stream",
     "text": [
      "New names:\n",
      "* Q35 -> Q35...1\n",
      "* Q35 -> Q35...96\n",
      "New names:\n",
      "* Q35 -> Q35...1\n",
      "* Q35 -> Q35...96\n"
     ]
    }
   ],
   "source": [
    "path = \"/Users/erikmenke/UC-Merced/Data/2019-2020/NSF HSI/Fall 2019/Survey/Postterm/\"\n",
    "PreSurveyChemDataFilename = \"Chem Attitudes_Pre-Fall 2019.xlsx\"\n",
    "PostSurveyChemDataFilename = \"Chem Attitudes_Post-Fall 2019.xlsx\"\n",
    "\n",
    "PreSurveyChemData <- read_excel(paste(path, PreSurveyChemDataFilename, sep=\"\"))\n",
    "PostSurveyChemData <- read_excel(paste(path, PostSurveyChemDataFilename, sep=\"\"))\n"
   ]
  },
  {
   "cell_type": "code",
   "execution_count": 3,
   "metadata": {},
   "outputs": [],
   "source": [
    "BioAttPreSubset<-PreSurveyChemData[-1,c('Q34_1', 'Q34_4', 'Q34_5', 'Q34_10', 'Q34_7', 'Q34_11', 'Q34_14', 'Q34_17')]\n",
    "BioAttPreSubset<-na.omit(BioAttPreSubset)\n",
    "BioAttPreSubset<-as.data.frame(sapply(BioAttPreSubset,as.numeric))\n"
   ]
  },
  {
   "cell_type": "code",
   "execution_count": 4,
   "metadata": {},
   "outputs": [],
   "source": [
    "BioAttPreSubset[\"Q34_1\"]<-(BioAttPreSubset[\"Q34_1\"] - 8)*-1\n",
    "BioAttPreSubset[\"Q34_7\"]<-(BioAttPreSubset[\"Q34_7\"] - 8)*-1\n",
    "BioAttPreSubset[\"Q34_11\"]<-(BioAttPreSubset[\"Q34_11\"] - 8)*-1\n",
    "BioAttPreSubset[\"Q34_14\"]<-(BioAttPreSubset[\"Q34_14\"] - 8)*-1\n"
   ]
  },
  {
   "cell_type": "code",
   "execution_count": 5,
   "metadata": {},
   "outputs": [],
   "source": [
    "prebiofit.model<-'Cognition =~ Q34_1 + Q34_4 + Q34_5 + Q34_10\n",
    "                Affect =~ Q34_7 + Q34_11 + Q34_14 + Q34_17'\n"
   ]
  },
  {
   "cell_type": "code",
   "execution_count": 6,
   "metadata": {},
   "outputs": [],
   "source": [
    "prebiofit <- cfa(prebiofit.model, data=BioAttPreSubset, estimator=\"MLR\")\n"
   ]
  },
  {
   "cell_type": "code",
   "execution_count": 7,
   "metadata": {},
   "outputs": [
    {
     "name": "stdout",
     "output_type": "stream",
     "text": [
      "lavaan 0.6-6 ended normally after 35 iterations\n",
      "\n",
      "  Estimator                                         ML\n",
      "  Optimization method                           NLMINB\n",
      "  Number of free parameters                         17\n",
      "                                                      \n",
      "  Number of observations                           394\n",
      "                                                      \n",
      "Model Test User Model:\n",
      "                                               Standard      Robust\n",
      "  Test Statistic                                174.283     145.145\n",
      "  Degrees of freedom                                 19          19\n",
      "  P-value (Chi-square)                            0.000       0.000\n",
      "  Scaling correction factor                                   1.201\n",
      "       Yuan-Bentler correction (Mplus variant)                     \n",
      "\n",
      "Model Test Baseline Model:\n",
      "\n",
      "  Test statistic                              1143.655     830.906\n",
      "  Degrees of freedom                                28          28\n",
      "  P-value                                        0.000       0.000\n",
      "  Scaling correction factor                                  1.376\n",
      "\n",
      "User Model versus Baseline Model:\n",
      "\n",
      "  Comparative Fit Index (CFI)                    0.861       0.843\n",
      "  Tucker-Lewis Index (TLI)                       0.795       0.768\n",
      "                                                                  \n",
      "  Robust Comparative Fit Index (CFI)                         0.863\n",
      "  Robust Tucker-Lewis Index (TLI)                            0.798\n",
      "\n",
      "Loglikelihood and Information Criteria:\n",
      "\n",
      "  Loglikelihood user model (H0)              -5113.962   -5113.962\n",
      "  Scaling correction factor                                  1.346\n",
      "      for the MLR correction                                      \n",
      "  Loglikelihood unrestricted model (H1)      -5026.821   -5026.821\n",
      "  Scaling correction factor                                  1.269\n",
      "      for the MLR correction                                      \n",
      "                                                                  \n",
      "  Akaike (AIC)                               10261.924   10261.924\n",
      "  Bayesian (BIC)                             10329.522   10329.522\n",
      "  Sample-size adjusted Bayesian (BIC)        10275.581   10275.581\n",
      "\n",
      "Root Mean Square Error of Approximation:\n",
      "\n",
      "  RMSEA                                          0.144       0.130\n",
      "  90 Percent confidence interval - lower         0.125       0.112\n",
      "  90 Percent confidence interval - upper         0.164       0.148\n",
      "  P-value RMSEA <= 0.05                          0.000       0.000\n",
      "                                                                  \n",
      "  Robust RMSEA                                               0.142\n",
      "  90 Percent confidence interval - lower                     0.121\n",
      "  90 Percent confidence interval - upper                     0.164\n",
      "\n",
      "Standardized Root Mean Square Residual:\n",
      "\n",
      "  SRMR                                           0.105       0.105\n",
      "\n",
      "Parameter Estimates:\n",
      "\n",
      "  Standard errors                             Sandwich\n",
      "  Information bread                           Observed\n",
      "  Observed information based on                Hessian\n",
      "\n",
      "Latent Variables:\n",
      "                   Estimate  Std.Err  z-value  P(>|z|)   Std.lv  Std.all\n",
      "  Cognition =~                                                          \n",
      "    Q34_1             1.000                               1.228    0.726\n",
      "    Q34_4             0.679    0.093    7.337    0.000    0.833    0.555\n",
      "    Q34_5             1.003    0.104    9.638    0.000    1.231    0.814\n",
      "    Q34_10            0.421    0.079    5.324    0.000    0.516    0.395\n",
      "  Affect =~                                                             \n",
      "    Q34_7             1.000                               1.217    0.819\n",
      "    Q34_11            0.933    0.049   19.203    0.000    1.135    0.864\n",
      "    Q34_14            0.716    0.064   11.112    0.000    0.871    0.721\n",
      "    Q34_17            0.514    0.077    6.700    0.000    0.626    0.425\n",
      "\n",
      "Covariances:\n",
      "                   Estimate  Std.Err  z-value  P(>|z|)   Std.lv  Std.all\n",
      "  Cognition ~~                                                          \n",
      "    Affect            0.782    0.132    5.913    0.000    0.524    0.524\n",
      "\n",
      "Variances:\n",
      "                   Estimate  Std.Err  z-value  P(>|z|)   Std.lv  Std.all\n",
      "   .Q34_1             1.350    0.153    8.814    0.000    1.350    0.472\n",
      "   .Q34_4             1.563    0.193    8.107    0.000    1.563    0.692\n",
      "   .Q34_5             0.771    0.154    5.007    0.000    0.771    0.337\n",
      "   .Q34_10            1.444    0.132   10.913    0.000    1.444    0.844\n",
      "   .Q34_7             0.727    0.096    7.610    0.000    0.727    0.329\n",
      "   .Q34_11            0.438    0.065    6.735    0.000    0.438    0.254\n",
      "   .Q34_14            0.700    0.111    6.299    0.000    0.700    0.480\n",
      "   .Q34_17            1.776    0.147   12.046    0.000    1.776    0.819\n",
      "    Cognition         1.507    0.206    7.313    0.000    1.000    1.000\n",
      "    Affect            1.480    0.146   10.145    0.000    1.000    1.000\n",
      "\n",
      "R-Square:\n",
      "                   Estimate\n",
      "    Q34_1             0.528\n",
      "    Q34_4             0.308\n",
      "    Q34_5             0.663\n",
      "    Q34_10            0.156\n",
      "    Q34_7             0.671\n",
      "    Q34_11            0.746\n",
      "    Q34_14            0.520\n",
      "    Q34_17            0.181\n",
      "\n"
     ]
    }
   ],
   "source": [
    "summary(prebiofit, fit.measures=TRUE, standardized=TRUE, rsquare=TRUE)\n"
   ]
  },
  {
   "cell_type": "code",
   "execution_count": 14,
   "metadata": {},
   "outputs": [
    {
     "data": {
      "text/plain": [
       "\n",
       "Reliability analysis   \n",
       "Call: alpha(x = BioAttPreSubset[c(\"Q34_1\", \"Q34_4\", \"Q34_5\", \"Q34_10\")])\n",
       "\n",
       "  raw_alpha std.alpha G6(smc) average_r S/N   ase mean  sd median_r\n",
       "      0.74      0.74    0.69      0.41 2.8 0.021  3.4 1.1     0.41\n",
       "\n",
       " lower alpha upper     95% confidence boundaries\n",
       "0.7 0.74 0.78 \n",
       "\n",
       " Reliability if an item is dropped:\n",
       "       raw_alpha std.alpha G6(smc) average_r S/N alpha se  var.r med.r\n",
       "Q34_1       0.66      0.66    0.57      0.39 1.9    0.029 0.0070  0.41\n",
       "Q34_4       0.67      0.67    0.60      0.40 2.0    0.027 0.0203  0.34\n",
       "Q34_5       0.65      0.65    0.56      0.39 1.9    0.030 0.0013  0.40\n",
       "Q34_10      0.73      0.73    0.65      0.47 2.7    0.024 0.0071  0.46\n",
       "\n",
       " Item statistics \n",
       "         n raw.r std.r r.cor r.drop mean  sd\n",
       "Q34_1  394  0.79  0.77  0.67   0.57  3.9 1.7\n",
       "Q34_4  394  0.75  0.76  0.63   0.54  3.2 1.5\n",
       "Q34_5  394  0.78  0.78  0.68   0.59  3.9 1.5\n",
       "Q34_10 394  0.66  0.69  0.51   0.44  2.8 1.3\n",
       "\n",
       "Non missing response frequency for each item\n",
       "          1    2    3    4    5    6    7 miss\n",
       "Q34_1  0.09 0.13 0.20 0.19 0.20 0.12 0.07    0\n",
       "Q34_4  0.14 0.20 0.28 0.18 0.12 0.06 0.02    0\n",
       "Q34_5  0.06 0.11 0.27 0.22 0.19 0.11 0.04    0\n",
       "Q34_10 0.17 0.30 0.28 0.15 0.06 0.03 0.01    0"
      ]
     },
     "metadata": {},
     "output_type": "display_data"
    }
   ],
   "source": [
    "alpha(BioAttPreSubset[c('Q34_1', 'Q34_4', 'Q34_5', 'Q34_10')])\n"
   ]
  },
  {
   "cell_type": "code",
   "execution_count": 15,
   "metadata": {},
   "outputs": [
    {
     "data": {
      "text/plain": [
       "\n",
       "Reliability analysis   \n",
       "Call: alpha(x = BioAttPreSubset[c(\"Q34_7\", \"Q34_11\", \"Q34_14\", \"Q34_17\")])\n",
       "\n",
       "  raw_alpha std.alpha G6(smc) average_r S/N   ase mean  sd median_r\n",
       "      0.79      0.79    0.77      0.49 3.8 0.018  4.7 1.1     0.47\n",
       "\n",
       " lower alpha upper     95% confidence boundaries\n",
       "0.75 0.79 0.82 \n",
       "\n",
       " Reliability if an item is dropped:\n",
       "       raw_alpha std.alpha G6(smc) average_r S/N alpha se  var.r med.r\n",
       "Q34_7       0.70      0.71    0.64      0.45 2.4    0.027 0.0231  0.38\n",
       "Q34_11      0.67      0.68    0.61      0.42 2.1    0.029 0.0174  0.38\n",
       "Q34_14      0.71      0.72    0.69      0.46 2.5    0.026 0.0539  0.34\n",
       "Q34_17      0.84      0.84    0.79      0.64 5.3    0.014 0.0068  0.62\n",
       "\n",
       " Item statistics \n",
       "         n raw.r std.r r.cor r.drop mean  sd\n",
       "Q34_7  394  0.83  0.83  0.78   0.66  5.0 1.5\n",
       "Q34_11 394  0.85  0.86  0.83   0.72  4.9 1.3\n",
       "Q34_14 394  0.80  0.82  0.72   0.65  4.7 1.2\n",
       "Q34_17 394  0.66  0.64  0.43   0.39  4.5 1.5\n",
       "\n",
       "Non missing response frequency for each item\n",
       "          1    2    3    4    5    6    7 miss\n",
       "Q34_7  0.02 0.04 0.08 0.24 0.26 0.16 0.20    0\n",
       "Q34_11 0.01 0.03 0.06 0.33 0.25 0.18 0.14    0\n",
       "Q34_14 0.01 0.03 0.07 0.36 0.29 0.16 0.07    0\n",
       "Q34_17 0.04 0.04 0.13 0.32 0.20 0.16 0.10    0"
      ]
     },
     "metadata": {},
     "output_type": "display_data"
    }
   ],
   "source": [
    "alpha(BioAttPreSubset[c('Q34_7', 'Q34_11', 'Q34_14', 'Q34_17')])\n"
   ]
  },
  {
   "cell_type": "code",
   "execution_count": 8,
   "metadata": {},
   "outputs": [],
   "source": [
    "BioAttPostSubset<-PostSurveyChemData[-1,c('Q34_1', 'Q34_4', 'Q34_5', 'Q34_10', 'Q34_7', 'Q34_11', 'Q34_14', 'Q34_17')]\n",
    "BioAttPostSubset<-na.omit(BioAttPostSubset)\n",
    "BioAttPostSubset<-as.data.frame(sapply(BioAttPostSubset,as.numeric))\n"
   ]
  },
  {
   "cell_type": "code",
   "execution_count": 9,
   "metadata": {},
   "outputs": [],
   "source": [
    "BioAttPostSubset[\"Q34_1\"]<-(BioAttPostSubset[\"Q34_1\"] - 8)*-1\n",
    "BioAttPostSubset[\"Q34_7\"]<-(BioAttPostSubset[\"Q34_7\"] - 8)*-1\n",
    "BioAttPostSubset[\"Q34_11\"]<-(BioAttPostSubset[\"Q34_11\"] - 8)*-1\n",
    "BioAttPostSubset[\"Q34_14\"]<-(BioAttPostSubset[\"Q34_14\"] - 8)*-1\n"
   ]
  },
  {
   "cell_type": "code",
   "execution_count": 10,
   "metadata": {},
   "outputs": [],
   "source": [
    "postbiofit.model<-'Cognition =~ Q34_1 + Q34_4 + Q34_5 + Q34_10\n",
    "                Affect =~ Q34_7 + Q34_11 + Q34_14 + Q34_17'\n"
   ]
  },
  {
   "cell_type": "code",
   "execution_count": 11,
   "metadata": {},
   "outputs": [],
   "source": [
    "postbiofit <- cfa(postbiofit.model, data=BioAttPostSubset, estimator=\"MLR\")\n"
   ]
  },
  {
   "cell_type": "code",
   "execution_count": 12,
   "metadata": {},
   "outputs": [
    {
     "name": "stdout",
     "output_type": "stream",
     "text": [
      "lavaan 0.6-6 ended normally after 33 iterations\n",
      "\n",
      "  Estimator                                         ML\n",
      "  Optimization method                           NLMINB\n",
      "  Number of free parameters                         17\n",
      "                                                      \n",
      "  Number of observations                           204\n",
      "                                                      \n",
      "Model Test User Model:\n",
      "                                               Standard      Robust\n",
      "  Test Statistic                                 58.339      41.634\n",
      "  Degrees of freedom                                 19          19\n",
      "  P-value (Chi-square)                            0.000       0.002\n",
      "  Scaling correction factor                                   1.401\n",
      "       Yuan-Bentler correction (Mplus variant)                     \n",
      "\n",
      "Model Test Baseline Model:\n",
      "\n",
      "  Test statistic                               775.330     491.050\n",
      "  Degrees of freedom                                28          28\n",
      "  P-value                                        0.000       0.000\n",
      "  Scaling correction factor                                  1.579\n",
      "\n",
      "User Model versus Baseline Model:\n",
      "\n",
      "  Comparative Fit Index (CFI)                    0.947       0.951\n",
      "  Tucker-Lewis Index (TLI)                       0.922       0.928\n",
      "                                                                  \n",
      "  Robust Comparative Fit Index (CFI)                         0.957\n",
      "  Robust Tucker-Lewis Index (TLI)                            0.936\n",
      "\n",
      "Loglikelihood and Information Criteria:\n",
      "\n",
      "  Loglikelihood user model (H0)              -2638.393   -2638.393\n",
      "  Scaling correction factor                                  1.430\n",
      "      for the MLR correction                                      \n",
      "  Loglikelihood unrestricted model (H1)      -2609.224   -2609.224\n",
      "  Scaling correction factor                                  1.415\n",
      "      for the MLR correction                                      \n",
      "                                                                  \n",
      "  Akaike (AIC)                                5310.786    5310.786\n",
      "  Bayesian (BIC)                              5367.194    5367.194\n",
      "  Sample-size adjusted Bayesian (BIC)         5313.333    5313.333\n",
      "\n",
      "Root Mean Square Error of Approximation:\n",
      "\n",
      "  RMSEA                                          0.101       0.076\n",
      "  90 Percent confidence interval - lower         0.072       0.050\n",
      "  90 Percent confidence interval - upper         0.131       0.103\n",
      "  P-value RMSEA <= 0.05                          0.003       0.052\n",
      "                                                                  \n",
      "  Robust RMSEA                                               0.090\n",
      "  90 Percent confidence interval - lower                     0.053\n",
      "  90 Percent confidence interval - upper                     0.128\n",
      "\n",
      "Standardized Root Mean Square Residual:\n",
      "\n",
      "  SRMR                                           0.069       0.069\n",
      "\n",
      "Parameter Estimates:\n",
      "\n",
      "  Standard errors                             Sandwich\n",
      "  Information bread                           Observed\n",
      "  Observed information based on                Hessian\n",
      "\n",
      "Latent Variables:\n",
      "                   Estimate  Std.Err  z-value  P(>|z|)   Std.lv  Std.all\n",
      "  Cognition =~                                                          \n",
      "    Q34_1             1.000                               1.211    0.739\n",
      "    Q34_4             1.181    0.112   10.513    0.000    1.431    0.853\n",
      "    Q34_5             1.124    0.100   11.279    0.000    1.361    0.851\n",
      "    Q34_10            0.710    0.114    6.205    0.000    0.860    0.585\n",
      "  Affect =~                                                             \n",
      "    Q34_7             1.000                               1.149    0.781\n",
      "    Q34_11            1.026    0.086   11.939    0.000    1.179    0.829\n",
      "    Q34_14            0.922    0.094    9.771    0.000    1.059    0.799\n",
      "    Q34_17            0.745    0.126    5.933    0.000    0.856    0.544\n",
      "\n",
      "Covariances:\n",
      "                   Estimate  Std.Err  z-value  P(>|z|)   Std.lv  Std.all\n",
      "  Cognition ~~                                                          \n",
      "    Affect            0.777    0.186    4.173    0.000    0.559    0.559\n",
      "\n",
      "Variances:\n",
      "                   Estimate  Std.Err  z-value  P(>|z|)   Std.lv  Std.all\n",
      "   .Q34_1             1.219    0.189    6.447    0.000    1.219    0.454\n",
      "   .Q34_4             0.770    0.213    3.609    0.000    0.770    0.273\n",
      "   .Q34_5             0.706    0.145    4.857    0.000    0.706    0.276\n",
      "   .Q34_10            1.423    0.205    6.936    0.000    1.423    0.658\n",
      "   .Q34_7             0.844    0.141    5.967    0.000    0.844    0.390\n",
      "   .Q34_11            0.631    0.117    5.394    0.000    0.631    0.312\n",
      "   .Q34_14            0.634    0.125    5.063    0.000    0.634    0.361\n",
      "   .Q34_17            1.742    0.257    6.779    0.000    1.742    0.704\n",
      "    Cognition         1.467    0.250    5.875    0.000    1.000    1.000\n",
      "    Affect            1.319    0.225    5.875    0.000    1.000    1.000\n",
      "\n",
      "R-Square:\n",
      "                   Estimate\n",
      "    Q34_1             0.546\n",
      "    Q34_4             0.727\n",
      "    Q34_5             0.724\n",
      "    Q34_10            0.342\n",
      "    Q34_7             0.610\n",
      "    Q34_11            0.688\n",
      "    Q34_14            0.639\n",
      "    Q34_17            0.296\n",
      "\n"
     ]
    }
   ],
   "source": [
    "summary(postbiofit, fit.measures=TRUE, standardized=TRUE, rsquare=TRUE)\n"
   ]
  },
  {
   "cell_type": "code",
   "execution_count": 16,
   "metadata": {},
   "outputs": [
    {
     "data": {
      "text/plain": [
       "\n",
       "Reliability analysis   \n",
       "Call: alpha(x = BioAttPostSubset[c(\"Q34_1\", \"Q34_4\", \"Q34_5\", \"Q34_10\")])\n",
       "\n",
       "  raw_alpha std.alpha G6(smc) average_r S/N   ase mean  sd median_r\n",
       "      0.84      0.84    0.81      0.57 5.4 0.018  3.6 1.3     0.59\n",
       "\n",
       " lower alpha upper     95% confidence boundaries\n",
       "0.81 0.84 0.88 \n",
       "\n",
       " Reliability if an item is dropped:\n",
       "       raw_alpha std.alpha G6(smc) average_r S/N alpha se  var.r med.r\n",
       "Q34_1       0.81      0.81    0.76      0.58 4.2    0.023 0.0175  0.56\n",
       "Q34_4       0.76      0.76    0.68      0.51 3.1    0.029 0.0078  0.46\n",
       "Q34_5       0.79      0.78    0.72      0.55 3.6    0.026 0.0074  0.56\n",
       "Q34_10      0.85      0.85    0.80      0.65 5.7    0.018 0.0038  0.63\n",
       "\n",
       " Item statistics \n",
       "         n raw.r std.r r.cor r.drop mean  sd\n",
       "Q34_1  204  0.82  0.82  0.72   0.67  3.9 1.6\n",
       "Q34_4  204  0.89  0.88  0.85   0.78  3.5 1.7\n",
       "Q34_5  204  0.85  0.85  0.79   0.72  3.9 1.6\n",
       "Q34_10 204  0.74  0.75  0.61   0.56  3.0 1.5\n",
       "\n",
       "Non missing response frequency for each item\n",
       "          1    2    3    4    5    6    7 miss\n",
       "Q34_1  0.07 0.13 0.20 0.28 0.13 0.09 0.09    0\n",
       "Q34_4  0.11 0.20 0.22 0.21 0.13 0.05 0.08    0\n",
       "Q34_5  0.06 0.13 0.22 0.25 0.15 0.11 0.08    0\n",
       "Q34_10 0.18 0.23 0.23 0.23 0.09 0.02 0.02    0"
      ]
     },
     "metadata": {},
     "output_type": "display_data"
    }
   ],
   "source": [
    "alpha(BioAttPostSubset[c('Q34_1', 'Q34_4', 'Q34_5', 'Q34_10')])\n"
   ]
  },
  {
   "cell_type": "code",
   "execution_count": 17,
   "metadata": {},
   "outputs": [
    {
     "data": {
      "text/plain": [
       "\n",
       "Reliability analysis   \n",
       "Call: alpha(x = BioAttPostSubset[c(\"Q34_7\", \"Q34_11\", \"Q34_14\", \"Q34_17\")])\n",
       "\n",
       "  raw_alpha std.alpha G6(smc) average_r S/N   ase mean  sd median_r\n",
       "      0.82      0.82    0.79      0.54 4.7 0.021  4.6 1.2     0.54\n",
       "\n",
       " lower alpha upper     95% confidence boundaries\n",
       "0.78 0.82 0.86 \n",
       "\n",
       " Reliability if an item is dropped:\n",
       "       raw_alpha std.alpha G6(smc) average_r S/N alpha se  var.r med.r\n",
       "Q34_7       0.76      0.77    0.71      0.52 3.3    0.030 0.0158  0.48\n",
       "Q34_11      0.73      0.74    0.67      0.49 2.9    0.033 0.0119  0.48\n",
       "Q34_14      0.74      0.75    0.69      0.49 2.9    0.032 0.0237  0.43\n",
       "Q34_17      0.84      0.85    0.79      0.65 5.5    0.019 0.0015  0.67\n",
       "\n",
       " Item statistics \n",
       "         n raw.r std.r r.cor r.drop mean  sd\n",
       "Q34_7  204  0.82  0.82  0.75   0.66  4.7 1.5\n",
       "Q34_11 204  0.85  0.85  0.81   0.72  4.8 1.4\n",
       "Q34_14 204  0.84  0.85  0.79   0.71  4.6 1.3\n",
       "Q34_17 204  0.72  0.71  0.54   0.49  4.3 1.6\n",
       "\n",
       "Non missing response frequency for each item\n",
       "          1    2    3    4    5    6    7 miss\n",
       "Q34_7  0.02 0.04 0.12 0.30 0.23 0.15 0.14    0\n",
       "Q34_11 0.02 0.04 0.08 0.34 0.25 0.12 0.16    0\n",
       "Q34_14 0.03 0.02 0.09 0.38 0.26 0.11 0.10    0\n",
       "Q34_17 0.06 0.06 0.14 0.31 0.20 0.11 0.10    0"
      ]
     },
     "metadata": {},
     "output_type": "display_data"
    }
   ],
   "source": [
    "alpha(BioAttPostSubset[c('Q34_7', 'Q34_11', 'Q34_14', 'Q34_17')])\n"
   ]
  },
  {
   "cell_type": "code",
   "execution_count": null,
   "metadata": {},
   "outputs": [],
   "source": []
  }
 ],
 "metadata": {
  "kernelspec": {
   "display_name": "R",
   "language": "R",
   "name": "ir"
  },
  "language_info": {
   "codemirror_mode": "r",
   "file_extension": ".r",
   "mimetype": "text/x-r-source",
   "name": "R",
   "pygments_lexer": "r",
   "version": "3.6.1"
  }
 },
 "nbformat": 4,
 "nbformat_minor": 4
}
