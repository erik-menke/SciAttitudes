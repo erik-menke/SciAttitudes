{
 "cells": [
  {
   "cell_type": "markdown",
   "metadata": {},
   "source": [
    "Confirmatory factor analysis on survey data given during the Fall, 2019, semester. The CFA uses the model from Jennifer Lewis's J. Chem. Ed. paper developing the ASCI V2 (https://pubs.acs.org/doi/full/10.1021/ed900071q)"
   ]
  },
  {
   "cell_type": "code",
   "execution_count": 1,
   "metadata": {},
   "outputs": [
    {
     "name": "stderr",
     "output_type": "stream",
     "text": [
      "This is lavaan 0.6-6\n",
      "lavaan is BETA software! Please report any bugs.\n",
      "\n",
      "Attaching package: ‘psych’\n",
      "\n",
      "The following object is masked from ‘package:lavaan’:\n",
      "\n",
      "    cor2cov\n",
      "\n"
     ]
    }
   ],
   "source": [
    "library(lavaan)\n",
    "library(readxl)\n",
    "library(psych)\n"
   ]
  },
  {
   "cell_type": "code",
   "execution_count": 2,
   "metadata": {},
   "outputs": [
    {
     "name": "stderr",
     "output_type": "stream",
     "text": [
      "New names:\n",
      "* Q35 -> Q35...1\n",
      "* Q35 -> Q35...96\n",
      "New names:\n",
      "* `` -> ...1\n",
      "* Q35 -> Q35...2\n",
      "* Q35 -> Q35...97\n"
     ]
    }
   ],
   "source": [
    "path = \"/Users/erikmenke/UC-Merced/Data/2019-2020/NSF HSI/Spring 2020/Survey/Postterm/\"\n",
    "PreSurveyChemDataFilename = \"Chem Attitudes_Pre-Spring 2020.xlsx\"\n",
    "PostSurveyChemDataFilename = \"Chem Attitudes_Post-Spring 2020.xlsx\"\n",
    "\n",
    "PreSurveyChemData <- read_excel(paste(path, PreSurveyChemDataFilename, sep=\"\"))\n",
    "PostSurveyChemData <- read_excel(paste(path, PostSurveyChemDataFilename, sep=\"\"))\n"
   ]
  },
  {
   "cell_type": "code",
   "execution_count": 3,
   "metadata": {},
   "outputs": [],
   "source": [
    "MathAttPreSubset<-PreSurveyChemData[-1,c('Q32_1', 'Q32_4', 'Q32_5', 'Q32_10', 'Q32_7', 'Q32_11', 'Q32_14', 'Q32_17')]\n",
    "MathAttPreSubset<-na.omit(MathAttPreSubset)\n",
    "MathAttPreSubset<-as.data.frame(sapply(MathAttPreSubset,as.numeric))\n"
   ]
  },
  {
   "cell_type": "code",
   "execution_count": 4,
   "metadata": {},
   "outputs": [],
   "source": [
    "MathAttPreSubset[\"Q32_1\"]<-(MathAttPreSubset[\"Q32_1\"] - 8)*-1\n",
    "MathAttPreSubset[\"Q32_7\"]<-(MathAttPreSubset[\"Q32_7\"] - 8)*-1\n",
    "MathAttPreSubset[\"Q32_11\"]<-(MathAttPreSubset[\"Q32_11\"] - 8)*-1\n",
    "MathAttPreSubset[\"Q32_14\"]<-(MathAttPreSubset[\"Q32_14\"] - 8)*-1\n"
   ]
  },
  {
   "cell_type": "code",
   "execution_count": 5,
   "metadata": {},
   "outputs": [],
   "source": [
    "premathfit.model<-'Cognition =~ Q32_1 + Q32_4 + Q32_5 + Q32_10\n",
    "                Affect =~ Q32_7 + Q32_11 + Q32_14 + Q32_17'\n"
   ]
  },
  {
   "cell_type": "code",
   "execution_count": 6,
   "metadata": {},
   "outputs": [],
   "source": [
    "premathfit <- cfa(premathfit.model, data=MathAttPreSubset, estimator=\"MLR\")\n"
   ]
  },
  {
   "cell_type": "code",
   "execution_count": 7,
   "metadata": {},
   "outputs": [
    {
     "name": "stdout",
     "output_type": "stream",
     "text": [
      "lavaan 0.6-6 ended normally after 34 iterations\n",
      "\n",
      "  Estimator                                         ML\n",
      "  Optimization method                           NLMINB\n",
      "  Number of free parameters                         17\n",
      "                                                      \n",
      "  Number of observations                           305\n",
      "                                                      \n",
      "Model Test User Model:\n",
      "                                               Standard      Robust\n",
      "  Test Statistic                                103.416      91.711\n",
      "  Degrees of freedom                                 19          19\n",
      "  P-value (Chi-square)                            0.000       0.000\n",
      "  Scaling correction factor                                   1.128\n",
      "       Yuan-Bentler correction (Mplus variant)                     \n",
      "\n",
      "Model Test Baseline Model:\n",
      "\n",
      "  Test statistic                              1156.585     876.306\n",
      "  Degrees of freedom                                28          28\n",
      "  P-value                                        0.000       0.000\n",
      "  Scaling correction factor                                  1.320\n",
      "\n",
      "User Model versus Baseline Model:\n",
      "\n",
      "  Comparative Fit Index (CFI)                    0.925       0.914\n",
      "  Tucker-Lewis Index (TLI)                       0.890       0.874\n",
      "                                                                  \n",
      "  Robust Comparative Fit Index (CFI)                         0.927\n",
      "  Robust Tucker-Lewis Index (TLI)                            0.892\n",
      "\n",
      "Loglikelihood and Information Criteria:\n",
      "\n",
      "  Loglikelihood user model (H0)              -4095.778   -4095.778\n",
      "  Scaling correction factor                                  1.295\n",
      "      for the MLR correction                                      \n",
      "  Loglikelihood unrestricted model (H1)      -4044.070   -4044.070\n",
      "  Scaling correction factor                                  1.207\n",
      "      for the MLR correction                                      \n",
      "                                                                  \n",
      "  Akaike (AIC)                                8225.557    8225.557\n",
      "  Bayesian (BIC)                              8288.802    8288.802\n",
      "  Sample-size adjusted Bayesian (BIC)         8234.886    8234.886\n",
      "\n",
      "Root Mean Square Error of Approximation:\n",
      "\n",
      "  RMSEA                                          0.121       0.112\n",
      "  90 Percent confidence interval - lower         0.098       0.091\n",
      "  90 Percent confidence interval - upper         0.144       0.134\n",
      "  P-value RMSEA <= 0.05                          0.000       0.000\n",
      "                                                                  \n",
      "  Robust RMSEA                                               0.119\n",
      "  90 Percent confidence interval - lower                     0.095\n",
      "  90 Percent confidence interval - upper                     0.144\n",
      "\n",
      "Standardized Root Mean Square Residual:\n",
      "\n",
      "  SRMR                                           0.074       0.074\n",
      "\n",
      "Parameter Estimates:\n",
      "\n",
      "  Standard errors                             Sandwich\n",
      "  Information bread                           Observed\n",
      "  Observed information based on                Hessian\n",
      "\n",
      "Latent Variables:\n",
      "                   Estimate  Std.Err  z-value  P(>|z|)   Std.lv  Std.all\n",
      "  Cognition =~                                                          \n",
      "    Q32_1             1.000                               1.367    0.728\n",
      "    Q32_4             0.896    0.070   12.739    0.000    1.225    0.829\n",
      "    Q32_5             0.969    0.076   12.799    0.000    1.325    0.833\n",
      "    Q32_10            0.577    0.063    9.232    0.000    0.789    0.616\n",
      "  Affect =~                                                             \n",
      "    Q32_7             1.000                               1.516    0.790\n",
      "    Q32_11            0.901    0.043   20.978    0.000    1.366    0.872\n",
      "    Q32_14            0.709    0.061   11.538    0.000    1.075    0.740\n",
      "    Q32_17            0.551    0.082    6.758    0.000    0.835    0.459\n",
      "\n",
      "Covariances:\n",
      "                   Estimate  Std.Err  z-value  P(>|z|)   Std.lv  Std.all\n",
      "  Cognition ~~                                                          \n",
      "    Affect            1.381    0.188    7.357    0.000    0.666    0.666\n",
      "\n",
      "Variances:\n",
      "                   Estimate  Std.Err  z-value  P(>|z|)   Std.lv  Std.all\n",
      "   .Q32_1             1.656    0.206    8.037    0.000    1.656    0.470\n",
      "   .Q32_4             0.684    0.111    6.187    0.000    0.684    0.313\n",
      "   .Q32_5             0.776    0.132    5.880    0.000    0.776    0.307\n",
      "   .Q32_10            1.018    0.126    8.108    0.000    1.018    0.620\n",
      "   .Q32_7             1.381    0.189    7.310    0.000    1.381    0.375\n",
      "   .Q32_11            0.589    0.118    4.997    0.000    0.589    0.240\n",
      "   .Q32_14            0.953    0.147    6.479    0.000    0.953    0.452\n",
      "   .Q32_17            2.606    0.222   11.732    0.000    2.606    0.789\n",
      "    Cognition         1.869    0.247    7.573    0.000    1.000    1.000\n",
      "    Affect            2.297    0.249    9.218    0.000    1.000    1.000\n",
      "\n",
      "R-Square:\n",
      "                   Estimate\n",
      "    Q32_1             0.530\n",
      "    Q32_4             0.687\n",
      "    Q32_5             0.693\n",
      "    Q32_10            0.380\n",
      "    Q32_7             0.625\n",
      "    Q32_11            0.760\n",
      "    Q32_14            0.548\n",
      "    Q32_17            0.211\n",
      "\n"
     ]
    }
   ],
   "source": [
    "summary(premathfit, fit.measures=TRUE, standardized=TRUE, rsquare=TRUE)\n"
   ]
  },
  {
   "cell_type": "code",
   "execution_count": 8,
   "metadata": {},
   "outputs": [
    {
     "data": {
      "text/plain": [
       "\n",
       "Reliability analysis   \n",
       "Call: alpha(x = MathAttPreSubset[c(\"Q32_1\", \"Q32_4\", \"Q32_5\", \"Q32_10\")])\n",
       "\n",
       "  raw_alpha std.alpha G6(smc) average_r S/N   ase mean  sd median_r\n",
       "      0.83      0.84    0.81      0.57 5.2 0.015  2.9 1.3     0.58\n",
       "\n",
       " lower alpha upper     95% confidence boundaries\n",
       "0.8 0.83 0.86 \n",
       "\n",
       " Reliability if an item is dropped:\n",
       "       raw_alpha std.alpha G6(smc) average_r S/N alpha se  var.r med.r\n",
       "Q32_1       0.81      0.81    0.75      0.58 4.2    0.019 0.0125  0.58\n",
       "Q32_4       0.75      0.76    0.68      0.51 3.1    0.023 0.0036  0.48\n",
       "Q32_5       0.77      0.79    0.71      0.55 3.7    0.022 0.0034  0.58\n",
       "Q32_10      0.82      0.83    0.77      0.62 5.0    0.018 0.0041  0.59\n",
       "\n",
       " Item statistics \n",
       "         n raw.r std.r r.cor r.drop mean  sd\n",
       "Q32_1  305  0.84  0.81  0.71   0.65  3.4 1.9\n",
       "Q32_4  305  0.86  0.87  0.83   0.75  2.8 1.5\n",
       "Q32_5  305  0.84  0.84  0.77   0.70  3.3 1.6\n",
       "Q32_10 305  0.74  0.77  0.64   0.59  2.3 1.3\n",
       "\n",
       "Non missing response frequency for each item\n",
       "          1    2    3    4    5    6    7 miss\n",
       "Q32_1  0.21 0.19 0.18 0.11 0.13 0.12 0.06    0\n",
       "Q32_4  0.21 0.28 0.26 0.11 0.07 0.05 0.02    0\n",
       "Q32_5  0.15 0.18 0.25 0.20 0.12 0.07 0.03    0\n",
       "Q32_10 0.34 0.25 0.25 0.12 0.01 0.03 0.01    0"
      ]
     },
     "metadata": {},
     "output_type": "display_data"
    }
   ],
   "source": [
    "alpha(MathAttPreSubset[c('Q32_1', 'Q32_4', 'Q32_5', 'Q32_10')])\n"
   ]
  },
  {
   "cell_type": "code",
   "execution_count": 9,
   "metadata": {},
   "outputs": [
    {
     "data": {
      "text/plain": [
       "\n",
       "Reliability analysis   \n",
       "Call: alpha(x = MathAttPreSubset[c(\"Q32_7\", \"Q32_11\", \"Q32_14\", \"Q32_17\")])\n",
       "\n",
       "  raw_alpha std.alpha G6(smc) average_r S/N  ase mean  sd median_r\n",
       "      0.79       0.8    0.77      0.49 3.9 0.02  4.3 1.3     0.47\n",
       "\n",
       " lower alpha upper     95% confidence boundaries\n",
       "0.75 0.79 0.83 \n",
       "\n",
       " Reliability if an item is dropped:\n",
       "       raw_alpha std.alpha G6(smc) average_r S/N alpha se  var.r med.r\n",
       "Q32_7       0.69      0.71    0.65      0.45 2.4    0.031 0.0251  0.37\n",
       "Q32_11      0.67      0.68    0.60      0.41 2.1    0.033 0.0173  0.34\n",
       "Q32_14      0.72      0.73    0.70      0.48 2.7    0.028 0.0460  0.37\n",
       "Q32_17      0.84      0.84    0.79      0.64 5.3    0.016 0.0065  0.63\n",
       "\n",
       " Item statistics \n",
       "         n raw.r std.r r.cor r.drop mean  sd\n",
       "Q32_7  305  0.84  0.83  0.78   0.67  4.5 1.9\n",
       "Q32_11 305  0.86  0.87  0.84   0.74  4.4 1.6\n",
       "Q32_14 305  0.78  0.80  0.71   0.63  4.3 1.5\n",
       "Q32_17 305  0.67  0.65  0.44   0.40  4.2 1.8\n",
       "\n",
       "Non missing response frequency for each item\n",
       "          1    2    3    4    5    6    7 miss\n",
       "Q32_7  0.10 0.10 0.12 0.16 0.16 0.18 0.18    0\n",
       "Q32_11 0.05 0.07 0.14 0.30 0.18 0.15 0.10    0\n",
       "Q32_14 0.04 0.07 0.13 0.33 0.25 0.09 0.09    0\n",
       "Q32_17 0.10 0.10 0.13 0.26 0.13 0.14 0.14    0"
      ]
     },
     "metadata": {},
     "output_type": "display_data"
    }
   ],
   "source": [
    "alpha(MathAttPreSubset[c('Q32_7', 'Q32_11', 'Q32_14', 'Q32_17')])\n"
   ]
  },
  {
   "cell_type": "code",
   "execution_count": null,
   "metadata": {},
   "outputs": [],
   "source": []
  },
  {
   "cell_type": "code",
   "execution_count": 10,
   "metadata": {},
   "outputs": [],
   "source": [
    "MathAttPostSubset<-PostSurveyChemData[-1,c('Q32_1', 'Q32_4', 'Q32_5', 'Q32_10', 'Q32_7', 'Q32_11', 'Q32_14', 'Q32_17')]\n",
    "MathAttPostSubset<-na.omit(MathAttPostSubset)\n",
    "MathAttPostSubset<-as.data.frame(sapply(MathAttPostSubset,as.numeric))\n"
   ]
  },
  {
   "cell_type": "code",
   "execution_count": 11,
   "metadata": {},
   "outputs": [],
   "source": [
    "MathAttPostSubset[\"Q32_1\"]<-(MathAttPostSubset[\"Q32_1\"] - 8)*-1\n",
    "MathAttPostSubset[\"Q32_7\"]<-(MathAttPostSubset[\"Q32_7\"] - 8)*-1\n",
    "MathAttPostSubset[\"Q32_11\"]<-(MathAttPostSubset[\"Q32_11\"] - 8)*-1\n",
    "MathAttPostSubset[\"Q32_14\"]<-(MathAttPostSubset[\"Q32_14\"] - 8)*-1\n"
   ]
  },
  {
   "cell_type": "code",
   "execution_count": 12,
   "metadata": {},
   "outputs": [],
   "source": [
    "postmathfit.model<-'Cognition =~ Q32_1 + Q32_4 + Q32_5 + Q32_10\n",
    "                Affect =~ Q32_7 + Q32_11 + Q32_14 + Q32_17'\n"
   ]
  },
  {
   "cell_type": "code",
   "execution_count": 13,
   "metadata": {},
   "outputs": [],
   "source": [
    "postmathfit <- cfa(postmathfit.model, data=MathAttPostSubset, estimator=\"MLR\")\n"
   ]
  },
  {
   "cell_type": "code",
   "execution_count": 14,
   "metadata": {},
   "outputs": [
    {
     "name": "stdout",
     "output_type": "stream",
     "text": [
      "lavaan 0.6-6 ended normally after 35 iterations\n",
      "\n",
      "  Estimator                                         ML\n",
      "  Optimization method                           NLMINB\n",
      "  Number of free parameters                         17\n",
      "                                                      \n",
      "  Number of observations                           111\n",
      "                                                      \n",
      "Model Test User Model:\n",
      "                                               Standard      Robust\n",
      "  Test Statistic                                 86.184      80.317\n",
      "  Degrees of freedom                                 19          19\n",
      "  P-value (Chi-square)                            0.000       0.000\n",
      "  Scaling correction factor                                   1.073\n",
      "       Yuan-Bentler correction (Mplus variant)                     \n",
      "\n",
      "Model Test Baseline Model:\n",
      "\n",
      "  Test statistic                               533.738     407.991\n",
      "  Degrees of freedom                                28          28\n",
      "  P-value                                        0.000       0.000\n",
      "  Scaling correction factor                                  1.308\n",
      "\n",
      "User Model versus Baseline Model:\n",
      "\n",
      "  Comparative Fit Index (CFI)                    0.867       0.839\n",
      "  Tucker-Lewis Index (TLI)                       0.804       0.762\n",
      "                                                                  \n",
      "  Robust Comparative Fit Index (CFI)                         0.868\n",
      "  Robust Tucker-Lewis Index (TLI)                            0.805\n",
      "\n",
      "Loglikelihood and Information Criteria:\n",
      "\n",
      "  Loglikelihood user model (H0)              -1432.822   -1432.822\n",
      "  Scaling correction factor                                  1.346\n",
      "      for the MLR correction                                      \n",
      "  Loglikelihood unrestricted model (H1)      -1389.730   -1389.730\n",
      "  Scaling correction factor                                  1.202\n",
      "      for the MLR correction                                      \n",
      "                                                                  \n",
      "  Akaike (AIC)                                2899.644    2899.644\n",
      "  Bayesian (BIC)                              2945.706    2945.706\n",
      "  Sample-size adjusted Bayesian (BIC)         2891.983    2891.983\n",
      "\n",
      "Root Mean Square Error of Approximation:\n",
      "\n",
      "  RMSEA                                          0.178       0.171\n",
      "  90 Percent confidence interval - lower         0.141       0.134\n",
      "  90 Percent confidence interval - upper         0.218       0.208\n",
      "  P-value RMSEA <= 0.05                          0.000       0.000\n",
      "                                                                  \n",
      "  Robust RMSEA                                               0.177\n",
      "  90 Percent confidence interval - lower                     0.138\n",
      "  90 Percent confidence interval - upper                     0.217\n",
      "\n",
      "Standardized Root Mean Square Residual:\n",
      "\n",
      "  SRMR                                           0.090       0.090\n",
      "\n",
      "Parameter Estimates:\n",
      "\n",
      "  Standard errors                             Sandwich\n",
      "  Information bread                           Observed\n",
      "  Observed information based on                Hessian\n",
      "\n",
      "Latent Variables:\n",
      "                   Estimate  Std.Err  z-value  P(>|z|)   Std.lv  Std.all\n",
      "  Cognition =~                                                          \n",
      "    Q32_1             1.000                               1.436    0.810\n",
      "    Q32_4             0.664    0.100    6.635    0.000    0.953    0.689\n",
      "    Q32_5             1.016    0.079   12.826    0.000    1.459    0.916\n",
      "    Q32_10            0.447    0.096    4.665    0.000    0.642    0.530\n",
      "  Affect =~                                                             \n",
      "    Q32_7             1.000                               1.418    0.773\n",
      "    Q32_11            0.908    0.101    8.962    0.000    1.288    0.840\n",
      "    Q32_14            0.891    0.107    8.351    0.000    1.263    0.852\n",
      "    Q32_17            0.738    0.146    5.065    0.000    1.047    0.579\n",
      "\n",
      "Covariances:\n",
      "                   Estimate  Std.Err  z-value  P(>|z|)   Std.lv  Std.all\n",
      "  Cognition ~~                                                          \n",
      "    Affect            1.592    0.314    5.068    0.000    0.782    0.782\n",
      "\n",
      "Variances:\n",
      "                   Estimate  Std.Err  z-value  P(>|z|)   Std.lv  Std.all\n",
      "   .Q32_1             1.077    0.237    4.537    0.000    1.077    0.343\n",
      "   .Q32_4             1.004    0.231    4.339    0.000    1.004    0.525\n",
      "   .Q32_5             0.409    0.140    2.920    0.004    0.409    0.161\n",
      "   .Q32_10            1.058    0.149    7.124    0.000    1.058    0.720\n",
      "   .Q32_7             1.352    0.323    4.180    0.000    1.352    0.402\n",
      "   .Q32_11            0.689    0.238    2.897    0.004    0.689    0.294\n",
      "   .Q32_14            0.600    0.159    3.768    0.000    0.600    0.273\n",
      "   .Q32_17            2.177    0.368    5.920    0.000    2.177    0.665\n",
      "    Cognition         2.062    0.307    6.712    0.000    1.000    1.000\n",
      "    Affect            2.010    0.421    4.770    0.000    1.000    1.000\n",
      "\n",
      "R-Square:\n",
      "                   Estimate\n",
      "    Q32_1             0.657\n",
      "    Q32_4             0.475\n",
      "    Q32_5             0.839\n",
      "    Q32_10            0.280\n",
      "    Q32_7             0.598\n",
      "    Q32_11            0.706\n",
      "    Q32_14            0.727\n",
      "    Q32_17            0.335\n",
      "\n"
     ]
    }
   ],
   "source": [
    "summary(postmathfit, fit.measures=TRUE, standardized=TRUE, rsquare=TRUE)\n"
   ]
  },
  {
   "cell_type": "code",
   "execution_count": 15,
   "metadata": {},
   "outputs": [
    {
     "data": {
      "text/plain": [
       "\n",
       "Reliability analysis   \n",
       "Call: alpha(x = MathAttPostSubset[c(\"Q32_1\", \"Q32_4\", \"Q32_5\", \"Q32_10\")])\n",
       "\n",
       "  raw_alpha std.alpha G6(smc) average_r S/N   ase mean  sd median_r\n",
       "      0.84      0.85    0.84      0.58 5.5 0.024  2.9 1.2     0.59\n",
       "\n",
       " lower alpha upper     95% confidence boundaries\n",
       "0.79 0.84 0.89 \n",
       "\n",
       " Reliability if an item is dropped:\n",
       "       raw_alpha std.alpha G6(smc) average_r S/N alpha se  var.r med.r\n",
       "Q32_1       0.81      0.82    0.77      0.60 4.4    0.032 0.0150  0.62\n",
       "Q32_4       0.78      0.78    0.73      0.54 3.5    0.034 0.0295  0.46\n",
       "Q32_5       0.77      0.79    0.74      0.56 3.8    0.038 0.0205  0.55\n",
       "Q32_10      0.84      0.84    0.79      0.64 5.2    0.026 0.0085  0.62\n",
       "\n",
       " Item statistics \n",
       "         n raw.r std.r r.cor r.drop mean  sd\n",
       "Q32_1  111  0.85  0.82  0.74   0.68  3.4 1.8\n",
       "Q32_4  111  0.85  0.87  0.82   0.73  2.7 1.4\n",
       "Q32_5  111  0.87  0.85  0.80   0.74  3.3 1.6\n",
       "Q32_10 111  0.74  0.78  0.68   0.59  2.3 1.2\n",
       "\n",
       "Non missing response frequency for each item\n",
       "          1    2    3    4    5    6    7 miss\n",
       "Q32_1  0.17 0.19 0.22 0.13 0.15 0.09 0.05    0\n",
       "Q32_4  0.24 0.22 0.32 0.14 0.04 0.05 0.01    0\n",
       "Q32_5  0.15 0.14 0.33 0.16 0.11 0.06 0.05    0\n",
       "Q32_10 0.32 0.28 0.23 0.12 0.03 0.02 0.00    0"
      ]
     },
     "metadata": {},
     "output_type": "display_data"
    }
   ],
   "source": [
    "alpha(MathAttPostSubset[c('Q32_1', 'Q32_4', 'Q32_5', 'Q32_10')])\n"
   ]
  },
  {
   "cell_type": "code",
   "execution_count": 16,
   "metadata": {},
   "outputs": [
    {
     "data": {
      "text/plain": [
       "\n",
       "Reliability analysis   \n",
       "Call: alpha(x = MathAttPostSubset[c(\"Q32_7\", \"Q32_11\", \"Q32_14\", \"Q32_17\")])\n",
       "\n",
       "  raw_alpha std.alpha G6(smc) average_r S/N   ase mean  sd median_r\n",
       "      0.83      0.84    0.82      0.57 5.3 0.027  4.5 1.4     0.56\n",
       "\n",
       " lower alpha upper     95% confidence boundaries\n",
       "0.78 0.83 0.88 \n",
       "\n",
       " Reliability if an item is dropped:\n",
       "       raw_alpha std.alpha G6(smc) average_r S/N alpha se  var.r med.r\n",
       "Q32_7       0.78      0.80    0.75      0.57 3.9    0.037 0.0243  0.51\n",
       "Q32_11      0.75      0.76    0.69      0.52 3.2    0.041 0.0086  0.51\n",
       "Q32_14      0.76      0.76    0.70      0.52 3.2    0.041 0.0198  0.45\n",
       "Q32_17      0.86      0.86    0.81      0.68 6.3    0.024 0.0043  0.68\n",
       "\n",
       " Item statistics \n",
       "         n raw.r std.r r.cor r.drop mean  sd\n",
       "Q32_7  111  0.83  0.83  0.74   0.67  4.4 1.8\n",
       "Q32_11 111  0.86  0.87  0.84   0.75  4.6 1.5\n",
       "Q32_14 111  0.86  0.87  0.83   0.75  4.4 1.5\n",
       "Q32_17 111  0.74  0.72  0.56   0.52  4.4 1.8\n",
       "\n",
       "Non missing response frequency for each item\n",
       "          1    2    3    4    5    6    7 miss\n",
       "Q32_7  0.10 0.07 0.09 0.26 0.18 0.12 0.18    0\n",
       "Q32_11 0.05 0.02 0.13 0.35 0.18 0.12 0.16    0\n",
       "Q32_14 0.05 0.05 0.14 0.36 0.19 0.11 0.11    0\n",
       "Q32_17 0.09 0.05 0.13 0.30 0.11 0.14 0.18    0"
      ]
     },
     "metadata": {},
     "output_type": "display_data"
    }
   ],
   "source": [
    "alpha(MathAttPostSubset[c('Q32_7', 'Q32_11', 'Q32_14', 'Q32_17')])\n"
   ]
  },
  {
   "cell_type": "code",
   "execution_count": null,
   "metadata": {},
   "outputs": [],
   "source": []
  }
 ],
 "metadata": {
  "kernelspec": {
   "display_name": "R",
   "language": "R",
   "name": "ir"
  },
  "language_info": {
   "codemirror_mode": "r",
   "file_extension": ".r",
   "mimetype": "text/x-r-source",
   "name": "R",
   "pygments_lexer": "r",
   "version": "3.6.1"
  }
 },
 "nbformat": 4,
 "nbformat_minor": 4
}
