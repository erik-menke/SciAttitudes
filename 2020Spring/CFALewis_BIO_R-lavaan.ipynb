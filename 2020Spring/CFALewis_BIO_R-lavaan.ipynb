{
 "cells": [
  {
   "cell_type": "markdown",
   "metadata": {},
   "source": [
    "Confirmatory factor analysis on survey data given during the Fall, 2019, semester. The CFA uses the model from Jennifer Lewis's J. Chem. Ed. paper developing the ASCI V2 (https://pubs.acs.org/doi/full/10.1021/ed900071q)"
   ]
  },
  {
   "cell_type": "code",
   "execution_count": 2,
   "metadata": {},
   "outputs": [
    {
     "name": "stderr",
     "output_type": "stream",
     "text": [
      "This is lavaan 0.6-6\n",
      "lavaan is BETA software! Please report any bugs.\n",
      "\n",
      "Attaching package: ‘psych’\n",
      "\n",
      "The following object is masked from ‘package:lavaan’:\n",
      "\n",
      "    cor2cov\n",
      "\n"
     ]
    }
   ],
   "source": [
    "library(lavaan)\n",
    "library(readxl)\n",
    "library(psych)\n"
   ]
  },
  {
   "cell_type": "code",
   "execution_count": 3,
   "metadata": {},
   "outputs": [
    {
     "name": "stderr",
     "output_type": "stream",
     "text": [
      "New names:\n",
      "* Q35 -> Q35...1\n",
      "* Q35 -> Q35...96\n",
      "New names:\n",
      "* `` -> ...1\n",
      "* Q35 -> Q35...2\n",
      "* Q35 -> Q35...97\n"
     ]
    }
   ],
   "source": [
    "path = \"/Users/erikmenke/UC-Merced/Data/2019-2020/NSF HSI/Spring 2020/Survey/Postterm/\"\n",
    "PreSurveyChemDataFilename = \"Chem Attitudes_Pre-Spring 2020.xlsx\"\n",
    "PostSurveyChemDataFilename = \"Chem Attitudes_Post-Spring 2020.xlsx\"\n",
    "\n",
    "PreSurveyChemData <- read_excel(paste(path, PreSurveyChemDataFilename, sep=\"\"))\n",
    "PostSurveyChemData <- read_excel(paste(path, PostSurveyChemDataFilename, sep=\"\"))\n"
   ]
  },
  {
   "cell_type": "code",
   "execution_count": 4,
   "metadata": {},
   "outputs": [],
   "source": [
    "BioAttPreSubset<-PreSurveyChemData[-1,c('Q34_1', 'Q34_4', 'Q34_5', 'Q34_10', 'Q34_7', 'Q34_11', 'Q34_14', 'Q34_17')]\n",
    "BioAttPreSubset<-na.omit(BioAttPreSubset)\n",
    "BioAttPreSubset<-as.data.frame(sapply(BioAttPreSubset,as.numeric))\n"
   ]
  },
  {
   "cell_type": "code",
   "execution_count": 5,
   "metadata": {},
   "outputs": [],
   "source": [
    "BioAttPreSubset[\"Q34_1\"]<-(BioAttPreSubset[\"Q34_1\"] - 8)*-1\n",
    "BioAttPreSubset[\"Q34_7\"]<-(BioAttPreSubset[\"Q34_7\"] - 8)*-1\n",
    "BioAttPreSubset[\"Q34_11\"]<-(BioAttPreSubset[\"Q34_11\"] - 8)*-1\n",
    "BioAttPreSubset[\"Q34_14\"]<-(BioAttPreSubset[\"Q34_14\"] - 8)*-1\n"
   ]
  },
  {
   "cell_type": "code",
   "execution_count": 6,
   "metadata": {},
   "outputs": [],
   "source": [
    "prebiofit.model<-'Cognition =~ Q34_1 + Q34_4 + Q34_5 + Q34_10\n",
    "                Affect =~ Q34_7 + Q34_11 + Q34_14 + Q34_17'\n"
   ]
  },
  {
   "cell_type": "code",
   "execution_count": 7,
   "metadata": {},
   "outputs": [],
   "source": [
    "prebiofit <- cfa(prebiofit.model, data=BioAttPreSubset, estimator=\"MLR\")\n"
   ]
  },
  {
   "cell_type": "code",
   "execution_count": 8,
   "metadata": {},
   "outputs": [
    {
     "name": "stdout",
     "output_type": "stream",
     "text": [
      "lavaan 0.6-6 ended normally after 35 iterations\n",
      "\n",
      "  Estimator                                         ML\n",
      "  Optimization method                           NLMINB\n",
      "  Number of free parameters                         17\n",
      "                                                      \n",
      "  Number of observations                           308\n",
      "                                                      \n",
      "Model Test User Model:\n",
      "                                               Standard      Robust\n",
      "  Test Statistic                                129.602      83.977\n",
      "  Degrees of freedom                                 19          19\n",
      "  P-value (Chi-square)                            0.000       0.000\n",
      "  Scaling correction factor                                   1.543\n",
      "       Yuan-Bentler correction (Mplus variant)                     \n",
      "\n",
      "Model Test Baseline Model:\n",
      "\n",
      "  Test statistic                               896.431     562.881\n",
      "  Degrees of freedom                                28          28\n",
      "  P-value                                        0.000       0.000\n",
      "  Scaling correction factor                                  1.593\n",
      "\n",
      "User Model versus Baseline Model:\n",
      "\n",
      "  Comparative Fit Index (CFI)                    0.873       0.879\n",
      "  Tucker-Lewis Index (TLI)                       0.812       0.821\n",
      "                                                                  \n",
      "  Robust Comparative Fit Index (CFI)                         0.882\n",
      "  Robust Tucker-Lewis Index (TLI)                            0.827\n",
      "\n",
      "Loglikelihood and Information Criteria:\n",
      "\n",
      "  Loglikelihood user model (H0)              -3960.889   -3960.889\n",
      "  Scaling correction factor                                  1.316\n",
      "      for the MLR correction                                      \n",
      "  Loglikelihood unrestricted model (H1)      -3896.088   -3896.088\n",
      "  Scaling correction factor                                  1.436\n",
      "      for the MLR correction                                      \n",
      "                                                                  \n",
      "  Akaike (AIC)                                7955.779    7955.779\n",
      "  Bayesian (BIC)                              8019.190    8019.190\n",
      "  Sample-size adjusted Bayesian (BIC)         7965.274    7965.274\n",
      "\n",
      "Root Mean Square Error of Approximation:\n",
      "\n",
      "  RMSEA                                          0.137       0.105\n",
      "  90 Percent confidence interval - lower         0.116       0.087\n",
      "  90 Percent confidence interval - upper         0.160       0.124\n",
      "  P-value RMSEA <= 0.05                          0.000       0.000\n",
      "                                                                  \n",
      "  Robust RMSEA                                               0.131\n",
      "  90 Percent confidence interval - lower                     0.103\n",
      "  90 Percent confidence interval - upper                     0.160\n",
      "\n",
      "Standardized Root Mean Square Residual:\n",
      "\n",
      "  SRMR                                           0.104       0.104\n",
      "\n",
      "Parameter Estimates:\n",
      "\n",
      "  Standard errors                             Sandwich\n",
      "  Information bread                           Observed\n",
      "  Observed information based on                Hessian\n",
      "\n",
      "Latent Variables:\n",
      "                   Estimate  Std.Err  z-value  P(>|z|)   Std.lv  Std.all\n",
      "  Cognition =~                                                          \n",
      "    Q34_1             1.000                               1.021    0.631\n",
      "    Q34_4             0.994    0.135    7.373    0.000    1.015    0.715\n",
      "    Q34_5             1.151    0.134    8.583    0.000    1.175    0.803\n",
      "    Q34_10            0.718    0.109    6.603    0.000    0.733    0.584\n",
      "  Affect =~                                                             \n",
      "    Q34_7             1.000                               1.322    0.831\n",
      "    Q34_11            0.809    0.049   16.653    0.000    1.069    0.854\n",
      "    Q34_14            0.633    0.064    9.963    0.000    0.836    0.678\n",
      "    Q34_17            0.422    0.089    4.765    0.000    0.558    0.369\n",
      "\n",
      "Covariances:\n",
      "                   Estimate  Std.Err  z-value  P(>|z|)   Std.lv  Std.all\n",
      "  Cognition ~~                                                          \n",
      "    Affect            0.564    0.147    3.825    0.000    0.418    0.418\n",
      "\n",
      "Variances:\n",
      "                   Estimate  Std.Err  z-value  P(>|z|)   Std.lv  Std.all\n",
      "   .Q34_1             1.578    0.206    7.654    0.000    1.578    0.602\n",
      "   .Q34_4             0.986    0.144    6.858    0.000    0.986    0.489\n",
      "   .Q34_5             0.762    0.138    5.513    0.000    0.762    0.355\n",
      "   .Q34_10            1.037    0.128    8.098    0.000    1.037    0.659\n",
      "   .Q34_7             0.782    0.116    6.741    0.000    0.782    0.309\n",
      "   .Q34_11            0.425    0.088    4.854    0.000    0.425    0.271\n",
      "   .Q34_14            0.823    0.106    7.765    0.000    0.823    0.541\n",
      "   .Q34_17            1.976    0.188   10.496    0.000    1.976    0.864\n",
      "    Cognition         1.043    0.211    4.951    0.000    1.000    1.000\n",
      "    Affect            1.747    0.190    9.207    0.000    1.000    1.000\n",
      "\n",
      "R-Square:\n",
      "                   Estimate\n",
      "    Q34_1             0.398\n",
      "    Q34_4             0.511\n",
      "    Q34_5             0.645\n",
      "    Q34_10            0.341\n",
      "    Q34_7             0.691\n",
      "    Q34_11            0.729\n",
      "    Q34_14            0.459\n",
      "    Q34_17            0.136\n",
      "\n"
     ]
    }
   ],
   "source": [
    "summary(prebiofit, fit.measures=TRUE, standardized=TRUE, rsquare=TRUE)\n"
   ]
  },
  {
   "cell_type": "code",
   "execution_count": 9,
   "metadata": {},
   "outputs": [
    {
     "data": {
      "text/plain": [
       "\n",
       "Reliability analysis   \n",
       "Call: alpha(x = BioAttPreSubset[c(\"Q34_1\", \"Q34_4\", \"Q34_5\", \"Q34_10\")])\n",
       "\n",
       "  raw_alpha std.alpha G6(smc) average_r S/N   ase mean  sd median_r\n",
       "      0.78      0.78    0.73      0.47 3.6 0.021  3.5 1.1     0.47\n",
       "\n",
       " lower alpha upper     95% confidence boundaries\n",
       "0.74 0.78 0.82 \n",
       "\n",
       " Reliability if an item is dropped:\n",
       "       raw_alpha std.alpha G6(smc) average_r S/N alpha se  var.r med.r\n",
       "Q34_1       0.76      0.76    0.68      0.51 3.1    0.024 0.0042  0.51\n",
       "Q34_4       0.69      0.70    0.61      0.44 2.3    0.030 0.0030  0.45\n",
       "Q34_5       0.69      0.70    0.62      0.44 2.3    0.030 0.0049  0.42\n",
       "Q34_10      0.74      0.75    0.67      0.49 2.9    0.026 0.0058  0.48\n",
       "\n",
       " Item statistics \n",
       "         n raw.r std.r r.cor r.drop mean  sd\n",
       "Q34_1  308  0.76  0.74  0.59   0.52  3.9 1.6\n",
       "Q34_4  308  0.80  0.81  0.73   0.63  3.3 1.4\n",
       "Q34_5  308  0.81  0.81  0.72   0.64  4.0 1.5\n",
       "Q34_10 308  0.73  0.75  0.62   0.54  2.8 1.3\n",
       "\n",
       "Non missing response frequency for each item\n",
       "          1    2    3    4    5    6    7 miss\n",
       "Q34_1  0.07 0.13 0.25 0.17 0.21 0.11 0.06    0\n",
       "Q34_4  0.11 0.18 0.32 0.20 0.13 0.04 0.02    0\n",
       "Q34_5  0.05 0.09 0.23 0.25 0.21 0.12 0.05    0\n",
       "Q34_10 0.17 0.26 0.33 0.16 0.05 0.02 0.01    0"
      ]
     },
     "metadata": {},
     "output_type": "display_data"
    }
   ],
   "source": [
    "alpha(BioAttPreSubset[c('Q34_1', 'Q34_4', 'Q34_5', 'Q34_10')])\n"
   ]
  },
  {
   "cell_type": "code",
   "execution_count": 15,
   "metadata": {},
   "outputs": [
    {
     "data": {
      "text/plain": [
       "\n",
       "Reliability analysis   \n",
       "Call: alpha(x = BioAttPreSubset[c(\"Q34_7\", \"Q34_11\", \"Q34_14\", \"Q34_17\")])\n",
       "\n",
       "  raw_alpha std.alpha G6(smc) average_r S/N   ase mean  sd median_r\n",
       "      0.76      0.77    0.75      0.45 3.3 0.023  4.9 1.1     0.44\n",
       "\n",
       " lower alpha upper     95% confidence boundaries\n",
       "0.71 0.76 0.8 \n",
       "\n",
       " Reliability if an item is dropped:\n",
       "       raw_alpha std.alpha G6(smc) average_r S/N alpha se  var.r med.r\n",
       "Q34_7       0.65      0.66    0.59      0.39 2.0    0.036 0.0225  0.32\n",
       "Q34_11      0.63      0.65    0.57      0.38 1.8    0.037 0.0227  0.32\n",
       "Q34_14      0.68      0.69    0.67      0.43 2.2    0.033 0.0667  0.29\n",
       "Q34_17      0.82      0.83    0.77      0.61 4.8    0.017 0.0095  0.57\n",
       "\n",
       " Item statistics \n",
       "         n raw.r std.r r.cor r.drop mean  sd\n",
       "Q34_7  308  0.84  0.83  0.79   0.65  5.0 1.6\n",
       "Q34_11 308  0.83  0.84  0.81   0.69  5.0 1.3\n",
       "Q34_14 308  0.77  0.79  0.68   0.61  4.9 1.2\n",
       "Q34_17 308  0.63  0.61  0.38   0.34  4.5 1.5\n",
       "\n",
       "Non missing response frequency for each item\n",
       "          1    2    3    4    5    6    7 miss\n",
       "Q34_7  0.02 0.06 0.08 0.19 0.22 0.19 0.22    0\n",
       "Q34_11 0.01 0.02 0.05 0.25 0.33 0.19 0.14    0\n",
       "Q34_14 0.01 0.02 0.08 0.31 0.29 0.17 0.12    0\n",
       "Q34_17 0.04 0.06 0.10 0.32 0.17 0.21 0.09    0"
      ]
     },
     "metadata": {},
     "output_type": "display_data"
    }
   ],
   "source": [
    "alpha(BioAttPreSubset[c('Q34_7', 'Q34_11', 'Q34_14', 'Q34_17')])\n"
   ]
  },
  {
   "cell_type": "code",
   "execution_count": 10,
   "metadata": {},
   "outputs": [],
   "source": [
    "BioAttPostSubset<-PostSurveyChemData[-1,c('Q34_1', 'Q34_4', 'Q34_5', 'Q34_10', 'Q34_7', 'Q34_11', 'Q34_14', 'Q34_17')]\n",
    "BioAttPostSubset<-na.omit(BioAttPostSubset)\n",
    "BioAttPostSubset<-as.data.frame(sapply(BioAttPostSubset,as.numeric))\n"
   ]
  },
  {
   "cell_type": "code",
   "execution_count": 11,
   "metadata": {},
   "outputs": [],
   "source": [
    "BioAttPostSubset[\"Q34_1\"]<-(BioAttPostSubset[\"Q34_1\"] - 8)*-1\n",
    "BioAttPostSubset[\"Q34_7\"]<-(BioAttPostSubset[\"Q34_7\"] - 8)*-1\n",
    "BioAttPostSubset[\"Q34_11\"]<-(BioAttPostSubset[\"Q34_11\"] - 8)*-1\n",
    "BioAttPostSubset[\"Q34_14\"]<-(BioAttPostSubset[\"Q34_14\"] - 8)*-1\n"
   ]
  },
  {
   "cell_type": "code",
   "execution_count": 12,
   "metadata": {},
   "outputs": [],
   "source": [
    "postbiofit.model<-'Cognition =~ Q34_1 + Q34_4 + Q34_5 + Q34_10\n",
    "                Affect =~ Q34_7 + Q34_11 + Q34_14 + Q34_17'\n"
   ]
  },
  {
   "cell_type": "code",
   "execution_count": 13,
   "metadata": {},
   "outputs": [],
   "source": [
    "postbiofit <- cfa(postbiofit.model, data=BioAttPostSubset, estimator=\"MLR\")\n"
   ]
  },
  {
   "cell_type": "code",
   "execution_count": 14,
   "metadata": {},
   "outputs": [
    {
     "name": "stdout",
     "output_type": "stream",
     "text": [
      "lavaan 0.6-6 ended normally after 31 iterations\n",
      "\n",
      "  Estimator                                         ML\n",
      "  Optimization method                           NLMINB\n",
      "  Number of free parameters                         17\n",
      "                                                      \n",
      "  Number of observations                           114\n",
      "                                                      \n",
      "Model Test User Model:\n",
      "                                               Standard      Robust\n",
      "  Test Statistic                                 78.053      75.593\n",
      "  Degrees of freedom                                 19          19\n",
      "  P-value (Chi-square)                            0.000       0.000\n",
      "  Scaling correction factor                                   1.033\n",
      "       Yuan-Bentler correction (Mplus variant)                     \n",
      "\n",
      "Model Test Baseline Model:\n",
      "\n",
      "  Test statistic                               485.623     347.863\n",
      "  Degrees of freedom                                28          28\n",
      "  P-value                                        0.000       0.000\n",
      "  Scaling correction factor                                  1.396\n",
      "\n",
      "User Model versus Baseline Model:\n",
      "\n",
      "  Comparative Fit Index (CFI)                    0.871       0.823\n",
      "  Tucker-Lewis Index (TLI)                       0.810       0.739\n",
      "                                                                  \n",
      "  Robust Comparative Fit Index (CFI)                         0.869\n",
      "  Robust Tucker-Lewis Index (TLI)                            0.807\n",
      "\n",
      "Loglikelihood and Information Criteria:\n",
      "\n",
      "  Loglikelihood user model (H0)              -1436.192   -1436.192\n",
      "  Scaling correction factor                                  1.575\n",
      "      for the MLR correction                                      \n",
      "  Loglikelihood unrestricted model (H1)      -1397.166   -1397.166\n",
      "  Scaling correction factor                                  1.289\n",
      "      for the MLR correction                                      \n",
      "                                                                  \n",
      "  Akaike (AIC)                                2906.385    2906.385\n",
      "  Bayesian (BIC)                              2952.900    2952.900\n",
      "  Sample-size adjusted Bayesian (BIC)         2899.169    2899.169\n",
      "\n",
      "Root Mean Square Error of Approximation:\n",
      "\n",
      "  RMSEA                                          0.165       0.162\n",
      "  90 Percent confidence interval - lower         0.128       0.125\n",
      "  90 Percent confidence interval - upper         0.204       0.200\n",
      "  P-value RMSEA <= 0.05                          0.000       0.000\n",
      "                                                                  \n",
      "  Robust RMSEA                                               0.164\n",
      "  90 Percent confidence interval - lower                     0.126\n",
      "  90 Percent confidence interval - upper                     0.204\n",
      "\n",
      "Standardized Root Mean Square Residual:\n",
      "\n",
      "  SRMR                                           0.098       0.098\n",
      "\n",
      "Parameter Estimates:\n",
      "\n",
      "  Standard errors                             Sandwich\n",
      "  Information bread                           Observed\n",
      "  Observed information based on                Hessian\n",
      "\n",
      "Latent Variables:\n",
      "                   Estimate  Std.Err  z-value  P(>|z|)   Std.lv  Std.all\n",
      "  Cognition =~                                                          \n",
      "    Q34_1             1.000                               1.295    0.808\n",
      "    Q34_4             0.939    0.104    8.993    0.000    1.215    0.830\n",
      "    Q34_5             1.063    0.118    9.033    0.000    1.376    0.889\n",
      "    Q34_10            0.554    0.124    4.469    0.000    0.717    0.536\n",
      "  Affect =~                                                             \n",
      "    Q34_7             1.000                               1.226    0.781\n",
      "    Q34_11            0.919    0.086   10.638    0.000    1.127    0.792\n",
      "    Q34_14            0.860    0.142    6.053    0.000    1.054    0.800\n",
      "    Q34_17            0.615    0.170    3.613    0.000    0.754    0.517\n",
      "\n",
      "Covariances:\n",
      "                   Estimate  Std.Err  z-value  P(>|z|)   Std.lv  Std.all\n",
      "  Cognition ~~                                                          \n",
      "    Affect            0.882    0.238    3.706    0.000    0.556    0.556\n",
      "\n",
      "Variances:\n",
      "                   Estimate  Std.Err  z-value  P(>|z|)   Std.lv  Std.all\n",
      "   .Q34_1             0.888    0.196    4.525    0.000    0.888    0.346\n",
      "   .Q34_4             0.666    0.176    3.789    0.000    0.666    0.311\n",
      "   .Q34_5             0.501    0.192    2.610    0.009    0.501    0.209\n",
      "   .Q34_10            1.277    0.320    3.983    0.000    1.277    0.713\n",
      "   .Q34_7             0.958    0.295    3.245    0.001    0.958    0.389\n",
      "   .Q34_11            0.752    0.221    3.408    0.001    0.752    0.372\n",
      "   .Q34_14            0.625    0.203    3.083    0.002    0.625    0.360\n",
      "   .Q34_17            1.558    0.285    5.461    0.000    1.558    0.733\n",
      "    Cognition         1.676    0.306    5.469    0.000    1.000    1.000\n",
      "    Affect            1.502    0.368    4.076    0.000    1.000    1.000\n",
      "\n",
      "R-Square:\n",
      "                   Estimate\n",
      "    Q34_1             0.654\n",
      "    Q34_4             0.689\n",
      "    Q34_5             0.791\n",
      "    Q34_10            0.287\n",
      "    Q34_7             0.611\n",
      "    Q34_11            0.628\n",
      "    Q34_14            0.640\n",
      "    Q34_17            0.267\n",
      "\n"
     ]
    }
   ],
   "source": [
    "summary(postbiofit, fit.measures=TRUE, standardized=TRUE, rsquare=TRUE)\n"
   ]
  },
  {
   "cell_type": "code",
   "execution_count": 16,
   "metadata": {},
   "outputs": [
    {
     "data": {
      "text/plain": [
       "\n",
       "Reliability analysis   \n",
       "Call: alpha(x = BioAttPostSubset[c(\"Q34_1\", \"Q34_4\", \"Q34_5\", \"Q34_10\")])\n",
       "\n",
       "  raw_alpha std.alpha G6(smc) average_r S/N   ase mean  sd median_r\n",
       "      0.86      0.85    0.84      0.59 5.9 0.022  3.3 1.3      0.6\n",
       "\n",
       " lower alpha upper     95% confidence boundaries\n",
       "0.81 0.86 0.9 \n",
       "\n",
       " Reliability if an item is dropped:\n",
       "       raw_alpha std.alpha G6(smc) average_r S/N alpha se  var.r med.r\n",
       "Q34_1       0.80      0.80    0.76      0.57 3.9    0.033 0.0301  0.54\n",
       "Q34_4       0.78      0.78    0.73      0.54 3.5    0.035 0.0233  0.51\n",
       "Q34_5       0.80      0.80    0.73      0.57 4.0    0.032 0.0060  0.54\n",
       "Q34_10      0.88      0.88    0.83      0.70 7.1    0.020 0.0022  0.71\n",
       "\n",
       " Item statistics \n",
       "         n raw.r std.r r.cor r.drop mean  sd\n",
       "Q34_1  114  0.87  0.86  0.80   0.74  3.5 1.6\n",
       "Q34_4  114  0.88  0.88  0.85   0.78  3.1 1.5\n",
       "Q34_5  114  0.87  0.86  0.82   0.74  3.7 1.6\n",
       "Q34_10 114  0.72  0.74  0.59   0.54  2.8 1.3\n",
       "\n",
       "Non missing response frequency for each item\n",
       "          1    2    3    4    5    6    7 miss\n",
       "Q34_1  0.13 0.17 0.22 0.23 0.12 0.11 0.03    0\n",
       "Q34_4  0.18 0.12 0.32 0.23 0.08 0.05 0.02    0\n",
       "Q34_5  0.11 0.09 0.29 0.26 0.08 0.15 0.03    0\n",
       "Q34_10 0.18 0.30 0.25 0.17 0.08 0.01 0.02    0"
      ]
     },
     "metadata": {},
     "output_type": "display_data"
    }
   ],
   "source": [
    "alpha(BioAttPostSubset[c('Q34_1', 'Q34_4', 'Q34_5', 'Q34_10')])\n"
   ]
  },
  {
   "cell_type": "code",
   "execution_count": 17,
   "metadata": {},
   "outputs": [
    {
     "data": {
      "text/plain": [
       "\n",
       "Reliability analysis   \n",
       "Call: alpha(x = BioAttPostSubset[c(\"Q34_7\", \"Q34_11\", \"Q34_14\", \"Q34_17\")])\n",
       "\n",
       "  raw_alpha std.alpha G6(smc) average_r S/N  ase mean  sd median_r\n",
       "       0.8      0.81    0.78      0.51 4.2 0.03  4.3 1.2     0.53\n",
       "\n",
       " lower alpha upper     95% confidence boundaries\n",
       "0.75 0.8 0.86 \n",
       "\n",
       " Reliability if an item is dropped:\n",
       "       raw_alpha std.alpha G6(smc) average_r S/N alpha se  var.r med.r\n",
       "Q34_7       0.73      0.74    0.67      0.48 2.8    0.044 0.0146  0.47\n",
       "Q34_11      0.72      0.72    0.66      0.47 2.6    0.046 0.0171  0.47\n",
       "Q34_14      0.72      0.72    0.68      0.47 2.6    0.046 0.0383  0.37\n",
       "Q34_17      0.84      0.84    0.78      0.63 5.2    0.026 0.0026  0.61\n",
       "\n",
       " Item statistics \n",
       "         n raw.r std.r r.cor r.drop mean  sd\n",
       "Q34_7  114  0.83  0.82  0.76   0.67  4.5 1.6\n",
       "Q34_11 114  0.84  0.84  0.79   0.70  4.5 1.4\n",
       "Q34_14 114  0.83  0.84  0.77   0.70  4.3 1.3\n",
       "Q34_17 114  0.68  0.68  0.50   0.45  4.1 1.5\n",
       "\n",
       "Non missing response frequency for each item\n",
       "          1    2    3    4    5    6    7 miss\n",
       "Q34_7  0.05 0.05 0.11 0.36 0.13 0.18 0.11    0\n",
       "Q34_11 0.04 0.04 0.08 0.38 0.22 0.15 0.10    0\n",
       "Q34_14 0.03 0.08 0.08 0.42 0.25 0.08 0.07    0\n",
       "Q34_17 0.07 0.09 0.11 0.38 0.18 0.16 0.03    0"
      ]
     },
     "metadata": {},
     "output_type": "display_data"
    }
   ],
   "source": [
    "alpha(BioAttPostSubset[c('Q34_7', 'Q34_11', 'Q34_14', 'Q34_17')])\n"
   ]
  },
  {
   "cell_type": "code",
   "execution_count": null,
   "metadata": {},
   "outputs": [],
   "source": []
  }
 ],
 "metadata": {
  "kernelspec": {
   "display_name": "R",
   "language": "R",
   "name": "ir"
  },
  "language_info": {
   "codemirror_mode": "r",
   "file_extension": ".r",
   "mimetype": "text/x-r-source",
   "name": "R",
   "pygments_lexer": "r",
   "version": "3.6.1"
  }
 },
 "nbformat": 4,
 "nbformat_minor": 4
}
