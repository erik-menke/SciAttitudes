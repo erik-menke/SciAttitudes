{
 "cells": [
  {
   "cell_type": "markdown",
   "metadata": {},
   "source": [
    "Confirmatory factor analysis on survey data given during the Fall, 2019, semester. The CFA uses the model from Jennifer Lewis's J. Chem. Ed. paper developing the ASCI V2 (https://pubs.acs.org/doi/full/10.1021/ed900071q)"
   ]
  },
  {
   "cell_type": "code",
   "execution_count": 1,
   "metadata": {},
   "outputs": [
    {
     "name": "stderr",
     "output_type": "stream",
     "text": [
      "This is lavaan 0.6-6\n",
      "lavaan is BETA software! Please report any bugs.\n",
      "\n",
      "Attaching package: ‘psych’\n",
      "\n",
      "The following object is masked from ‘package:lavaan’:\n",
      "\n",
      "    cor2cov\n",
      "\n"
     ]
    }
   ],
   "source": [
    "library(lavaan)\n",
    "library(readxl)\n",
    "library(psych)\n"
   ]
  },
  {
   "cell_type": "code",
   "execution_count": 2,
   "metadata": {},
   "outputs": [
    {
     "name": "stderr",
     "output_type": "stream",
     "text": [
      "New names:\n",
      "* Q35 -> Q35...1\n",
      "* Q35 -> Q35...96\n",
      "New names:\n",
      "* `` -> ...1\n",
      "* Q35 -> Q35...2\n",
      "* Q35 -> Q35...97\n"
     ]
    }
   ],
   "source": [
    "path = \"/Users/erikmenke/UC-Merced/Data/2019-2020/NSF HSI/Spring 2020/Survey/Postterm/\"\n",
    "PreSurveyChemDataFilename = \"Chem Attitudes_Pre-Spring 2020.xlsx\"\n",
    "PostSurveyChemDataFilename = \"Chem Attitudes_Post-Spring 2020.xlsx\"\n",
    "\n",
    "PreSurveyChemData <- read_excel(paste(path, PreSurveyChemDataFilename, sep=\"\"))\n",
    "PostSurveyChemData <- read_excel(paste(path, PostSurveyChemDataFilename, sep=\"\"))\n"
   ]
  },
  {
   "cell_type": "code",
   "execution_count": 3,
   "metadata": {},
   "outputs": [],
   "source": [
    "ChemAttPreSubset<-PreSurveyChemData[-1,c('Q1_1', 'Q1_4', 'Q1_5', 'Q1_10', 'Q1_7', 'Q1_11', 'Q1_14', 'Q1_17')]\n",
    "ChemAttPreSubset<-na.omit(ChemAttPreSubset)\n",
    "ChemAttPreSubset<-as.data.frame(sapply(ChemAttPreSubset,as.numeric))\n"
   ]
  },
  {
   "cell_type": "code",
   "execution_count": 4,
   "metadata": {},
   "outputs": [],
   "source": [
    "ChemAttPreSubset[\"Q1_1\"]<-(ChemAttPreSubset[\"Q1_1\"] - 8)*-1\n",
    "ChemAttPreSubset[\"Q1_7\"]<-(ChemAttPreSubset[\"Q1_7\"] - 8)*-1\n",
    "ChemAttPreSubset[\"Q1_11\"]<-(ChemAttPreSubset[\"Q1_11\"] - 8)*-1\n",
    "ChemAttPreSubset[\"Q1_14\"]<-(ChemAttPreSubset[\"Q1_14\"] - 8)*-1\n"
   ]
  },
  {
   "cell_type": "code",
   "execution_count": 5,
   "metadata": {},
   "outputs": [],
   "source": [
    "prechemfit.model<-'Cognition =~ Q1_1 + Q1_4 + Q1_5 + Q1_10\n",
    "                Affect =~ Q1_7 + Q1_11 + Q1_14 + Q1_17'\n"
   ]
  },
  {
   "cell_type": "code",
   "execution_count": 6,
   "metadata": {},
   "outputs": [],
   "source": [
    "prechemfit <- cfa(prechemfit.model, data=ChemAttPreSubset, estimator=\"MLR\")\n"
   ]
  },
  {
   "cell_type": "code",
   "execution_count": 7,
   "metadata": {},
   "outputs": [
    {
     "name": "stdout",
     "output_type": "stream",
     "text": [
      "lavaan 0.6-6 ended normally after 31 iterations\n",
      "\n",
      "  Estimator                                         ML\n",
      "  Optimization method                           NLMINB\n",
      "  Number of free parameters                         17\n",
      "                                                      \n",
      "  Number of observations                           317\n",
      "                                                      \n",
      "Model Test User Model:\n",
      "                                               Standard      Robust\n",
      "  Test Statistic                                107.071      93.283\n",
      "  Degrees of freedom                                 19          19\n",
      "  P-value (Chi-square)                            0.000       0.000\n",
      "  Scaling correction factor                                   1.148\n",
      "       Yuan-Bentler correction (Mplus variant)                     \n",
      "\n",
      "Model Test Baseline Model:\n",
      "\n",
      "  Test statistic                               959.521     711.899\n",
      "  Degrees of freedom                                28          28\n",
      "  P-value                                        0.000       0.000\n",
      "  Scaling correction factor                                  1.348\n",
      "\n",
      "User Model versus Baseline Model:\n",
      "\n",
      "  Comparative Fit Index (CFI)                    0.905       0.891\n",
      "  Tucker-Lewis Index (TLI)                       0.861       0.840\n",
      "                                                                  \n",
      "  Robust Comparative Fit Index (CFI)                         0.908\n",
      "  Robust Tucker-Lewis Index (TLI)                            0.864\n",
      "\n",
      "Loglikelihood and Information Criteria:\n",
      "\n",
      "  Loglikelihood user model (H0)              -3881.998   -3881.998\n",
      "  Scaling correction factor                                  1.407\n",
      "      for the MLR correction                                      \n",
      "  Loglikelihood unrestricted model (H1)      -3828.462   -3828.462\n",
      "  Scaling correction factor                                  1.270\n",
      "      for the MLR correction                                      \n",
      "                                                                  \n",
      "  Akaike (AIC)                                7797.996    7797.996\n",
      "  Bayesian (BIC)                              7861.897    7861.897\n",
      "  Sample-size adjusted Bayesian (BIC)         7807.977    7807.977\n",
      "\n",
      "Root Mean Square Error of Approximation:\n",
      "\n",
      "  RMSEA                                          0.121       0.111\n",
      "  90 Percent confidence interval - lower         0.099       0.091\n",
      "  90 Percent confidence interval - upper         0.144       0.132\n",
      "  P-value RMSEA <= 0.05                          0.000       0.000\n",
      "                                                                  \n",
      "  Robust RMSEA                                               0.119\n",
      "  90 Percent confidence interval - lower                     0.095\n",
      "  90 Percent confidence interval - upper                     0.144\n",
      "\n",
      "Standardized Root Mean Square Residual:\n",
      "\n",
      "  SRMR                                           0.080       0.080\n",
      "\n",
      "Parameter Estimates:\n",
      "\n",
      "  Standard errors                             Sandwich\n",
      "  Information bread                           Observed\n",
      "  Observed information based on                Hessian\n",
      "\n",
      "Latent Variables:\n",
      "                   Estimate  Std.Err  z-value  P(>|z|)   Std.lv  Std.all\n",
      "  Cognition =~                                                          \n",
      "    Q1_1              1.000                               0.917    0.664\n",
      "    Q1_4              1.069    0.124    8.601    0.000    0.980    0.790\n",
      "    Q1_5              1.198    0.129    9.279    0.000    1.098    0.845\n",
      "    Q1_10             0.573    0.105    5.444    0.000    0.526    0.502\n",
      "  Affect =~                                                             \n",
      "    Q1_7              1.000                               1.170    0.758\n",
      "    Q1_11             0.839    0.069   12.166    0.000    0.981    0.765\n",
      "    Q1_14             0.846    0.083   10.241    0.000    0.989    0.765\n",
      "    Q1_17             0.586    0.099    5.940    0.000    0.685    0.435\n",
      "\n",
      "Covariances:\n",
      "                   Estimate  Std.Err  z-value  P(>|z|)   Std.lv  Std.all\n",
      "  Cognition ~~                                                          \n",
      "    Affect            0.647    0.129    5.019    0.000    0.603    0.603\n",
      "\n",
      "Variances:\n",
      "                   Estimate  Std.Err  z-value  P(>|z|)   Std.lv  Std.all\n",
      "   .Q1_1              1.065    0.178    5.990    0.000    1.065    0.559\n",
      "   .Q1_4              0.580    0.118    4.923    0.000    0.580    0.376\n",
      "   .Q1_5              0.483    0.079    6.088    0.000    0.483    0.286\n",
      "   .Q1_10             0.818    0.087    9.443    0.000    0.818    0.748\n",
      "   .Q1_7              1.015    0.138    7.338    0.000    1.015    0.426\n",
      "   .Q1_11             0.681    0.091    7.494    0.000    0.681    0.414\n",
      "   .Q1_14             0.692    0.092    7.524    0.000    0.692    0.414\n",
      "   .Q1_17             2.011    0.170   11.805    0.000    2.011    0.811\n",
      "    Cognition         0.841    0.168    5.005    0.000    1.000    1.000\n",
      "    Affect            1.368    0.181    7.548    0.000    1.000    1.000\n",
      "\n",
      "R-Square:\n",
      "                   Estimate\n",
      "    Q1_1              0.441\n",
      "    Q1_4              0.624\n",
      "    Q1_5              0.714\n",
      "    Q1_10             0.252\n",
      "    Q1_7              0.574\n",
      "    Q1_11             0.586\n",
      "    Q1_14             0.586\n",
      "    Q1_17             0.189\n",
      "\n"
     ]
    }
   ],
   "source": [
    "summary(prechemfit, fit.measures=TRUE, standardized=TRUE, rsquare=TRUE)\n"
   ]
  },
  {
   "cell_type": "code",
   "execution_count": 8,
   "metadata": {
    "scrolled": true
   },
   "outputs": [
    {
     "data": {
      "text/html": [
       "<dl>\n",
       "\t<dt>$type</dt>\n",
       "\t\t<dd>'raw'</dd>\n",
       "\t<dt>$cov</dt>\n",
       "\t\t<dd><table>\n",
       "<thead><tr><th></th><th scope=col>Q1_1</th><th scope=col>Q1_4</th><th scope=col>Q1_5</th><th scope=col>Q1_10</th><th scope=col>Q1_7</th><th scope=col>Q1_11</th><th scope=col>Q1_14</th><th scope=col>Q1_17</th></tr></thead>\n",
       "<tbody>\n",
       "\t<tr><th scope=row>Q1_1</th><td> 5.836777e-07</td><td>-4.055150e-02</td><td>-4.574654e-02</td><td>-3.668858e-02</td><td> 3.867771e-01</td><td> 2.321866e-01</td><td> 3.056159e-01</td><td> 6.376827e-02</td></tr>\n",
       "\t<tr><th scope=row>Q1_4</th><td>-4.055150e-02</td><td> 4.446562e-07</td><td> 1.382008e-02</td><td> 1.095985e-01</td><td>-1.143101e-01</td><td>-1.725596e-01</td><td>-1.437891e-02</td><td>-6.387685e-02</td></tr>\n",
       "\t<tr><th scope=row>Q1_5</th><td>-4.574654e-02</td><td> 1.382008e-02</td><td> 4.764076e-07</td><td>-2.284173e-03</td><td> 1.683837e-02</td><td>-6.444553e-02</td><td> 5.712686e-02</td><td> 2.996791e-01</td></tr>\n",
       "\t<tr><th scope=row>Q1_10</th><td>-3.668858e-02</td><td> 1.095985e-01</td><td>-2.284173e-03</td><td> 1.959996e-07</td><td>-2.781820e-01</td><td>-3.243592e-01</td><td>-7.447000e-02</td><td>-1.277789e-01</td></tr>\n",
       "\t<tr><th scope=row>Q1_7</th><td> 3.867771e-01</td><td>-1.143101e-01</td><td> 1.683837e-02</td><td>-2.781820e-01</td><td> 1.581038e-06</td><td> 6.897897e-02</td><td>-5.354068e-02</td><td>-6.671866e-02</td></tr>\n",
       "\t<tr><th scope=row>Q1_11</th><td> 2.321866e-01</td><td>-1.725596e-01</td><td>-6.444553e-02</td><td>-3.243592e-01</td><td> 6.897897e-02</td><td> 8.389812e-07</td><td>-2.810550e-04</td><td>-5.081038e-02</td></tr>\n",
       "\t<tr><th scope=row>Q1_14</th><td> 3.056159e-01</td><td>-1.437891e-02</td><td> 5.712686e-02</td><td>-7.447000e-02</td><td>-5.354068e-02</td><td>-2.810550e-04</td><td> 7.342018e-07</td><td> 5.213833e-02</td></tr>\n",
       "\t<tr><th scope=row>Q1_17</th><td> 6.376827e-02</td><td>-6.387685e-02</td><td> 2.996791e-01</td><td>-1.277789e-01</td><td>-6.671866e-02</td><td>-5.081038e-02</td><td> 5.213833e-02</td><td> 1.356281e-06</td></tr>\n",
       "</tbody>\n",
       "</table>\n",
       "</dd>\n",
       "</dl>\n"
      ],
      "text/latex": [
       "\\begin{description}\n",
       "\\item[\\$type] 'raw'\n",
       "\\item[\\$cov] \\begin{tabular}{r|llllllll}\n",
       "  & Q1\\_1 & Q1\\_4 & Q1\\_5 & Q1\\_10 & Q1\\_7 & Q1\\_11 & Q1\\_14 & Q1\\_17\\\\\n",
       "\\hline\n",
       "\tQ1\\_1 &  5.836777e-07 & -4.055150e-02 & -4.574654e-02 & -3.668858e-02 &  3.867771e-01 &  2.321866e-01 &  3.056159e-01 &  6.376827e-02\\\\\n",
       "\tQ1\\_4 & -4.055150e-02 &  4.446562e-07 &  1.382008e-02 &  1.095985e-01 & -1.143101e-01 & -1.725596e-01 & -1.437891e-02 & -6.387685e-02\\\\\n",
       "\tQ1\\_5 & -4.574654e-02 &  1.382008e-02 &  4.764076e-07 & -2.284173e-03 &  1.683837e-02 & -6.444553e-02 &  5.712686e-02 &  2.996791e-01\\\\\n",
       "\tQ1\\_10 & -3.668858e-02 &  1.095985e-01 & -2.284173e-03 &  1.959996e-07 & -2.781820e-01 & -3.243592e-01 & -7.447000e-02 & -1.277789e-01\\\\\n",
       "\tQ1\\_7 &  3.867771e-01 & -1.143101e-01 &  1.683837e-02 & -2.781820e-01 &  1.581038e-06 &  6.897897e-02 & -5.354068e-02 & -6.671866e-02\\\\\n",
       "\tQ1\\_11 &  2.321866e-01 & -1.725596e-01 & -6.444553e-02 & -3.243592e-01 &  6.897897e-02 &  8.389812e-07 & -2.810550e-04 & -5.081038e-02\\\\\n",
       "\tQ1\\_14 &  3.056159e-01 & -1.437891e-02 &  5.712686e-02 & -7.447000e-02 & -5.354068e-02 & -2.810550e-04 &  7.342018e-07 &  5.213833e-02\\\\\n",
       "\tQ1\\_17 &  6.376827e-02 & -6.387685e-02 &  2.996791e-01 & -1.277789e-01 & -6.671866e-02 & -5.081038e-02 &  5.213833e-02 &  1.356281e-06\\\\\n",
       "\\end{tabular}\n",
       "\n",
       "\\end{description}\n"
      ],
      "text/markdown": [
       "$type\n",
       ":   'raw'\n",
       "$cov\n",
       ":   \n",
       "| <!--/--> | Q1_1 | Q1_4 | Q1_5 | Q1_10 | Q1_7 | Q1_11 | Q1_14 | Q1_17 |\n",
       "|---|---|---|---|---|---|---|---|---|\n",
       "| Q1_1 |  5.836777e-07 | -4.055150e-02 | -4.574654e-02 | -3.668858e-02 |  3.867771e-01 |  2.321866e-01 |  3.056159e-01 |  6.376827e-02 |\n",
       "| Q1_4 | -4.055150e-02 |  4.446562e-07 |  1.382008e-02 |  1.095985e-01 | -1.143101e-01 | -1.725596e-01 | -1.437891e-02 | -6.387685e-02 |\n",
       "| Q1_5 | -4.574654e-02 |  1.382008e-02 |  4.764076e-07 | -2.284173e-03 |  1.683837e-02 | -6.444553e-02 |  5.712686e-02 |  2.996791e-01 |\n",
       "| Q1_10 | -3.668858e-02 |  1.095985e-01 | -2.284173e-03 |  1.959996e-07 | -2.781820e-01 | -3.243592e-01 | -7.447000e-02 | -1.277789e-01 |\n",
       "| Q1_7 |  3.867771e-01 | -1.143101e-01 |  1.683837e-02 | -2.781820e-01 |  1.581038e-06 |  6.897897e-02 | -5.354068e-02 | -6.671866e-02 |\n",
       "| Q1_11 |  2.321866e-01 | -1.725596e-01 | -6.444553e-02 | -3.243592e-01 |  6.897897e-02 |  8.389812e-07 | -2.810550e-04 | -5.081038e-02 |\n",
       "| Q1_14 |  3.056159e-01 | -1.437891e-02 |  5.712686e-02 | -7.447000e-02 | -5.354068e-02 | -2.810550e-04 |  7.342018e-07 |  5.213833e-02 |\n",
       "| Q1_17 |  6.376827e-02 | -6.387685e-02 |  2.996791e-01 | -1.277789e-01 | -6.671866e-02 | -5.081038e-02 |  5.213833e-02 |  1.356281e-06 |\n",
       "\n",
       "\n",
       "\n",
       "\n"
      ],
      "text/plain": [
       "$type\n",
       "[1] \"raw\"\n",
       "\n",
       "$cov\n",
       "      Q1_1   Q1_4   Q1_5   Q1_10  Q1_7   Q1_11  Q1_14  Q1_17 \n",
       "Q1_1   0.000                                                 \n",
       "Q1_4  -0.041  0.000                                          \n",
       "Q1_5  -0.046  0.014  0.000                                   \n",
       "Q1_10 -0.037  0.110 -0.002  0.000                            \n",
       "Q1_7   0.387 -0.114  0.017 -0.278  0.000                     \n",
       "Q1_11  0.232 -0.173 -0.064 -0.324  0.069  0.000              \n",
       "Q1_14  0.306 -0.014  0.057 -0.074 -0.054  0.000  0.000       \n",
       "Q1_17  0.064 -0.064  0.300 -0.128 -0.067 -0.051  0.052  0.000\n"
      ]
     },
     "metadata": {},
     "output_type": "display_data"
    }
   ],
   "source": [
    "resid(prechemfit)\n"
   ]
  },
  {
   "cell_type": "code",
   "execution_count": 9,
   "metadata": {},
   "outputs": [
    {
     "data": {
      "text/plain": [
       "\n",
       "Reliability analysis   \n",
       "Call: alpha(x = ChemAttPreSubset[c(\"Q1_1\", \"Q1_4\", \"Q1_5\", \"Q1_10\")])\n",
       "\n",
       "  raw_alpha std.alpha G6(smc) average_r S/N   ase mean   sd median_r\n",
       "      0.79      0.79    0.76      0.49 3.8 0.019  2.9 0.98     0.49\n",
       "\n",
       " lower alpha upper     95% confidence boundaries\n",
       "0.76 0.79 0.83 \n",
       "\n",
       " Reliability if an item is dropped:\n",
       "      raw_alpha std.alpha G6(smc) average_r S/N alpha se  var.r med.r\n",
       "Q1_1       0.77      0.77    0.71      0.53 3.3    0.022 0.0176  0.48\n",
       "Q1_4       0.69      0.69    0.61      0.42 2.2    0.029 0.0129  0.42\n",
       "Q1_5       0.69      0.69    0.62      0.43 2.3    0.030 0.0112  0.48\n",
       "Q1_10      0.80      0.80    0.74      0.57 4.0    0.020 0.0086  0.54\n",
       "\n",
       " Item statistics \n",
       "        n raw.r std.r r.cor r.drop mean  sd\n",
       "Q1_1  317  0.77  0.75  0.61   0.55  3.2 1.4\n",
       "Q1_4  317  0.85  0.85  0.80   0.70  2.8 1.2\n",
       "Q1_5  317  0.85  0.84  0.79   0.70  3.3 1.3\n",
       "Q1_10 317  0.67  0.70  0.54   0.48  2.3 1.0\n",
       "\n",
       "Non missing response frequency for each item\n",
       "         1    2    3    4    5    6    7 miss\n",
       "Q1_1  0.12 0.18 0.34 0.20 0.09 0.04 0.02    0\n",
       "Q1_4  0.16 0.25 0.32 0.21 0.03 0.03 0.01    0\n",
       "Q1_5  0.09 0.16 0.29 0.28 0.12 0.05 0.00    0\n",
       "Q1_10 0.23 0.38 0.28 0.09 0.02 0.01 0.00    0"
      ]
     },
     "metadata": {},
     "output_type": "display_data"
    }
   ],
   "source": [
    "alpha(ChemAttPreSubset[c('Q1_1', 'Q1_4', 'Q1_5', 'Q1_10')])\n"
   ]
  },
  {
   "cell_type": "code",
   "execution_count": 10,
   "metadata": {},
   "outputs": [
    {
     "data": {
      "text/plain": [
       "\n",
       "Reliability analysis   \n",
       "Call: alpha(x = ChemAttPreSubset[c(\"Q1_7\", \"Q1_11\", \"Q1_14\", \"Q1_17\")])\n",
       "\n",
       "  raw_alpha std.alpha G6(smc) average_r S/N   ase mean  sd median_r\n",
       "      0.76      0.77    0.73      0.45 3.3 0.023  4.4 1.1     0.46\n",
       "\n",
       " lower alpha upper     95% confidence boundaries\n",
       "0.71 0.76 0.8 \n",
       "\n",
       " Reliability if an item is dropped:\n",
       "      raw_alpha std.alpha G6(smc) average_r S/N alpha se   var.r med.r\n",
       "Q1_7       0.67      0.68    0.61      0.42 2.1    0.033 0.02190  0.36\n",
       "Q1_11      0.66      0.67    0.60      0.40 2.0    0.034 0.01734  0.36\n",
       "Q1_14      0.66      0.67    0.61      0.41 2.1    0.033 0.03201  0.31\n",
       "Q1_17      0.80      0.81    0.74      0.58 4.2    0.019 0.00095  0.59\n",
       "\n",
       " Item statistics \n",
       "        n raw.r std.r r.cor r.drop mean  sd\n",
       "Q1_7  317  0.81  0.80  0.73   0.61  4.4 1.5\n",
       "Q1_11 317  0.80  0.82  0.75   0.64  4.5 1.3\n",
       "Q1_14 317  0.80  0.81  0.73   0.64  4.2 1.3\n",
       "Q1_17 317  0.67  0.64  0.42   0.38  4.6 1.6\n",
       "\n",
       "Non missing response frequency for each item\n",
       "         1    2    3    4    5    6    7 miss\n",
       "Q1_7  0.03 0.07 0.19 0.24 0.19 0.17 0.11    0\n",
       "Q1_11 0.02 0.04 0.13 0.34 0.28 0.13 0.08    0\n",
       "Q1_14 0.03 0.06 0.14 0.38 0.25 0.08 0.06    0\n",
       "Q1_17 0.04 0.07 0.12 0.27 0.20 0.19 0.12    0"
      ]
     },
     "metadata": {},
     "output_type": "display_data"
    }
   ],
   "source": [
    "alpha(ChemAttPreSubset[c('Q1_7', 'Q1_11', 'Q1_14', 'Q1_17')])\n"
   ]
  },
  {
   "cell_type": "code",
   "execution_count": null,
   "metadata": {},
   "outputs": [],
   "source": []
  },
  {
   "cell_type": "code",
   "execution_count": 11,
   "metadata": {},
   "outputs": [],
   "source": [
    "ChemAttPostSubset<-PostSurveyChemData[-1,c('Q1_1', 'Q1_4', 'Q1_5', 'Q1_10', 'Q1_7', 'Q1_11', 'Q1_14', 'Q1_17')]\n",
    "ChemAttPostSubset<-na.omit(ChemAttPostSubset)\n",
    "ChemAttPostSubset<-as.data.frame(sapply(ChemAttPostSubset,as.numeric))\n"
   ]
  },
  {
   "cell_type": "code",
   "execution_count": 12,
   "metadata": {},
   "outputs": [],
   "source": [
    "ChemAttPostSubset[\"Q1_1\"]<-(ChemAttPostSubset[\"Q1_1\"] - 8)*-1\n",
    "ChemAttPostSubset[\"Q1_7\"]<-(ChemAttPostSubset[\"Q1_7\"] - 8)*-1\n",
    "ChemAttPostSubset[\"Q1_11\"]<-(ChemAttPostSubset[\"Q1_11\"] - 8)*-1\n",
    "ChemAttPostSubset[\"Q1_14\"]<-(ChemAttPostSubset[\"Q1_14\"] - 8)*-1\n"
   ]
  },
  {
   "cell_type": "code",
   "execution_count": 13,
   "metadata": {},
   "outputs": [],
   "source": [
    "postchemfit.model<-'Cognition =~ Q1_1 + Q1_4 + Q1_5 + Q1_10\n",
    "                Affect =~ Q1_7 + Q1_11 + Q1_14 + Q1_17'\n"
   ]
  },
  {
   "cell_type": "code",
   "execution_count": 14,
   "metadata": {},
   "outputs": [],
   "source": [
    "postchemfit <- cfa(postchemfit.model, data=ChemAttPostSubset, estimator=\"MLR\")\n"
   ]
  },
  {
   "cell_type": "code",
   "execution_count": 15,
   "metadata": {},
   "outputs": [
    {
     "name": "stdout",
     "output_type": "stream",
     "text": [
      "lavaan 0.6-6 ended normally after 34 iterations\n",
      "\n",
      "  Estimator                                         ML\n",
      "  Optimization method                           NLMINB\n",
      "  Number of free parameters                         17\n",
      "                                                      \n",
      "  Number of observations                           120\n",
      "                                                      \n",
      "Model Test User Model:\n",
      "                                               Standard      Robust\n",
      "  Test Statistic                                 50.679      41.766\n",
      "  Degrees of freedom                                 19          19\n",
      "  P-value (Chi-square)                            0.000       0.002\n",
      "  Scaling correction factor                                   1.213\n",
      "       Yuan-Bentler correction (Mplus variant)                     \n",
      "\n",
      "Model Test Baseline Model:\n",
      "\n",
      "  Test statistic                               433.842     334.238\n",
      "  Degrees of freedom                                28          28\n",
      "  P-value                                        0.000       0.000\n",
      "  Scaling correction factor                                  1.298\n",
      "\n",
      "User Model versus Baseline Model:\n",
      "\n",
      "  Comparative Fit Index (CFI)                    0.922       0.926\n",
      "  Tucker-Lewis Index (TLI)                       0.885       0.890\n",
      "                                                                  \n",
      "  Robust Comparative Fit Index (CFI)                         0.931\n",
      "  Robust Tucker-Lewis Index (TLI)                            0.898\n",
      "\n",
      "Loglikelihood and Information Criteria:\n",
      "\n",
      "  Loglikelihood user model (H0)              -1472.296   -1472.296\n",
      "  Scaling correction factor                                  1.264\n",
      "      for the MLR correction                                      \n",
      "  Loglikelihood unrestricted model (H1)      -1446.956   -1446.956\n",
      "  Scaling correction factor                                  1.237\n",
      "      for the MLR correction                                      \n",
      "                                                                  \n",
      "  Akaike (AIC)                                2978.591    2978.591\n",
      "  Bayesian (BIC)                              3025.978    3025.978\n",
      "  Sample-size adjusted Bayesian (BIC)         2972.233    2972.233\n",
      "\n",
      "Root Mean Square Error of Approximation:\n",
      "\n",
      "  RMSEA                                          0.118       0.100\n",
      "  90 Percent confidence interval - lower         0.079       0.062\n",
      "  90 Percent confidence interval - upper         0.158       0.137\n",
      "  P-value RMSEA <= 0.05                          0.003       0.018\n",
      "                                                                  \n",
      "  Robust RMSEA                                               0.110\n",
      "  90 Percent confidence interval - lower                     0.065\n",
      "  90 Percent confidence interval - upper                     0.156\n",
      "\n",
      "Standardized Root Mean Square Residual:\n",
      "\n",
      "  SRMR                                           0.083       0.083\n",
      "\n",
      "Parameter Estimates:\n",
      "\n",
      "  Standard errors                             Sandwich\n",
      "  Information bread                           Observed\n",
      "  Observed information based on                Hessian\n",
      "\n",
      "Latent Variables:\n",
      "                   Estimate  Std.Err  z-value  P(>|z|)   Std.lv  Std.all\n",
      "  Cognition =~                                                          \n",
      "    Q1_1              1.000                               1.025    0.689\n",
      "    Q1_4              0.825    0.165    4.999    0.000    0.846    0.630\n",
      "    Q1_5              1.032    0.181    5.693    0.000    1.058    0.857\n",
      "    Q1_10             0.714    0.140    5.090    0.000    0.731    0.579\n",
      "  Affect =~                                                             \n",
      "    Q1_7              1.000                               1.296    0.795\n",
      "    Q1_11             0.919    0.069   13.255    0.000    1.192    0.884\n",
      "    Q1_14             0.796    0.087    9.188    0.000    1.032    0.825\n",
      "    Q1_17             0.348    0.124    2.807    0.005    0.451    0.313\n",
      "\n",
      "Covariances:\n",
      "                   Estimate  Std.Err  z-value  P(>|z|)   Std.lv  Std.all\n",
      "  Cognition ~~                                                          \n",
      "    Affect            0.937    0.253    3.700    0.000    0.705    0.705\n",
      "\n",
      "Variances:\n",
      "                   Estimate  Std.Err  z-value  P(>|z|)   Std.lv  Std.all\n",
      "   .Q1_1              1.165    0.208    5.593    0.000    1.165    0.526\n",
      "   .Q1_4              1.087    0.258    4.211    0.000    1.087    0.603\n",
      "   .Q1_5              0.405    0.137    2.965    0.003    0.405    0.266\n",
      "   .Q1_10             1.063    0.180    5.920    0.000    1.063    0.665\n",
      "   .Q1_7              0.981    0.171    5.726    0.000    0.981    0.369\n",
      "   .Q1_11             0.395    0.106    3.719    0.000    0.395    0.218\n",
      "   .Q1_14             0.500    0.129    3.864    0.000    0.500    0.320\n",
      "   .Q1_17             1.871    0.248    7.538    0.000    1.871    0.902\n",
      "    Cognition         1.051    0.296    3.552    0.000    1.000    1.000\n",
      "    Affect            1.680    0.282    5.955    0.000    1.000    1.000\n",
      "\n",
      "R-Square:\n",
      "                   Estimate\n",
      "    Q1_1              0.474\n",
      "    Q1_4              0.397\n",
      "    Q1_5              0.734\n",
      "    Q1_10             0.335\n",
      "    Q1_7              0.631\n",
      "    Q1_11             0.782\n",
      "    Q1_14             0.680\n",
      "    Q1_17             0.098\n",
      "\n"
     ]
    }
   ],
   "source": [
    "summary(postchemfit, fit.measures=TRUE, standardized=TRUE, rsquare=TRUE)\n"
   ]
  },
  {
   "cell_type": "code",
   "execution_count": 16,
   "metadata": {},
   "outputs": [
    {
     "data": {
      "text/plain": [
       "\n",
       "Reliability analysis   \n",
       "Call: alpha(x = ChemAttPostSubset[c(\"Q1_1\", \"Q1_4\", \"Q1_5\", \"Q1_10\")])\n",
       "\n",
       "  raw_alpha std.alpha G6(smc) average_r S/N   ase mean sd median_r\n",
       "      0.79      0.79    0.75      0.49 3.8 0.032  3.1  1      0.5\n",
       "\n",
       " lower alpha upper     95% confidence boundaries\n",
       "0.73 0.79 0.85 \n",
       "\n",
       " Reliability if an item is dropped:\n",
       "      raw_alpha std.alpha G6(smc) average_r S/N alpha se  var.r med.r\n",
       "Q1_1       0.76      0.76    0.69      0.52 3.2    0.037 0.0020  0.52\n",
       "Q1_4       0.74      0.74    0.66      0.49 2.9    0.040 0.0038  0.47\n",
       "Q1_5       0.70      0.71    0.62      0.45 2.4    0.048 0.0054  0.44\n",
       "Q1_10      0.74      0.75    0.68      0.50 3.0    0.041 0.0117  0.56\n",
       "\n",
       " Item statistics \n",
       "        n raw.r std.r r.cor r.drop mean  sd\n",
       "Q1_1  120  0.78  0.76  0.64   0.55  3.4 1.5\n",
       "Q1_4  120  0.78  0.78  0.68   0.59  3.1 1.3\n",
       "Q1_5  120  0.82  0.83  0.76   0.67  3.6 1.2\n",
       "Q1_10 120  0.77  0.78  0.66   0.59  2.5 1.3\n",
       "\n",
       "Non missing response frequency for each item\n",
       "         1    2    3    4    5    6    7 miss\n",
       "Q1_1  0.12 0.14 0.34 0.18 0.12 0.06 0.03    0\n",
       "Q1_4  0.11 0.27 0.27 0.22 0.10 0.02 0.02    0\n",
       "Q1_5  0.04 0.15 0.28 0.29 0.17 0.07 0.00    0\n",
       "Q1_10 0.21 0.35 0.24 0.12 0.06 0.00 0.02    0"
      ]
     },
     "metadata": {},
     "output_type": "display_data"
    }
   ],
   "source": [
    "alpha(ChemAttPostSubset[c('Q1_1', 'Q1_4', 'Q1_5', 'Q1_10')])\n"
   ]
  },
  {
   "cell_type": "code",
   "execution_count": 17,
   "metadata": {},
   "outputs": [
    {
     "data": {
      "text/plain": [
       "\n",
       "Reliability analysis   \n",
       "Call: alpha(x = ChemAttPostSubset[c(\"Q1_7\", \"Q1_11\", \"Q1_14\", \"Q1_17\")])\n",
       "\n",
       "  raw_alpha std.alpha G6(smc) average_r S/N   ase mean  sd median_r\n",
       "      0.77      0.77    0.77      0.46 3.4 0.035  4.4 1.1     0.45\n",
       "\n",
       " lower alpha upper     95% confidence boundaries\n",
       "0.7 0.77 0.84 \n",
       "\n",
       " Reliability if an item is dropped:\n",
       "      raw_alpha std.alpha G6(smc) average_r S/N alpha se  var.r med.r\n",
       "Q1_7       0.67      0.68    0.67      0.41 2.1    0.055 0.0782  0.27\n",
       "Q1_11      0.61      0.62    0.59      0.35 1.6    0.062 0.0626  0.23\n",
       "Q1_14      0.65      0.66    0.65      0.39 1.9    0.056 0.0819  0.27\n",
       "Q1_17      0.87      0.87    0.83      0.70 6.9    0.021 0.0025  0.72\n",
       "\n",
       " Item statistics \n",
       "        n raw.r std.r r.cor r.drop mean  sd\n",
       "Q1_7  120  0.84  0.82  0.76   0.65  4.4 1.6\n",
       "Q1_11 120  0.87  0.88  0.87   0.76  4.5 1.4\n",
       "Q1_14 120  0.83  0.84  0.80   0.70  4.5 1.3\n",
       "Q1_17 120  0.55  0.55  0.28   0.25  4.2 1.4\n",
       "\n",
       "Non missing response frequency for each item\n",
       "         1    2    3    4    5    6    7 miss\n",
       "Q1_7  0.05 0.07 0.17 0.27 0.14 0.19 0.12    0\n",
       "Q1_11 0.02 0.05 0.08 0.38 0.24 0.13 0.09    0\n",
       "Q1_14 0.04 0.02 0.10 0.34 0.32 0.13 0.04    0\n",
       "Q1_17 0.04 0.09 0.12 0.33 0.21 0.15 0.05    0"
      ]
     },
     "metadata": {},
     "output_type": "display_data"
    }
   ],
   "source": [
    "alpha(ChemAttPostSubset[c('Q1_7', 'Q1_11', 'Q1_14', 'Q1_17')])\n"
   ]
  },
  {
   "cell_type": "code",
   "execution_count": null,
   "metadata": {},
   "outputs": [],
   "source": []
  }
 ],
 "metadata": {
  "kernelspec": {
   "display_name": "R",
   "language": "R",
   "name": "ir"
  },
  "language_info": {
   "codemirror_mode": "r",
   "file_extension": ".r",
   "mimetype": "text/x-r-source",
   "name": "R",
   "pygments_lexer": "r",
   "version": "3.6.1"
  }
 },
 "nbformat": 4,
 "nbformat_minor": 4
}
