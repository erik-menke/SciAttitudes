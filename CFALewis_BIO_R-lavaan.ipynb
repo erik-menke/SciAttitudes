{
 "cells": [
  {
   "cell_type": "markdown",
   "metadata": {},
   "source": [
    "Confirmatory factor analysis on survey data given during the Fall, 2019, semester. The CFA uses the model from Jennifer Lewis's J. Chem. Ed. paper developing the ASCI V2 (https://pubs.acs.org/doi/full/10.1021/ed900071q)"
   ]
  },
  {
   "cell_type": "code",
   "execution_count": 1,
   "metadata": {},
   "outputs": [
    {
     "name": "stderr",
     "output_type": "stream",
     "text": [
      "This is lavaan 0.6-6\n",
      "lavaan is BETA software! Please report any bugs.\n",
      "\n",
      "Attaching package: ‘psych’\n",
      "\n",
      "The following object is masked from ‘package:lavaan’:\n",
      "\n",
      "    cor2cov\n",
      "\n"
     ]
    }
   ],
   "source": [
    "library(lavaan)\n",
    "library(readxl)\n",
    "library(psych)\n"
   ]
  },
  {
   "cell_type": "code",
   "execution_count": 2,
   "metadata": {},
   "outputs": [
    {
     "name": "stderr",
     "output_type": "stream",
     "text": [
      "New names:\n",
      "* Q35 -> Q35...1\n",
      "* Q35 -> Q35...96\n",
      "New names:\n",
      "* Q35 -> Q35...1\n",
      "* Q35 -> Q35...96\n"
     ]
    }
   ],
   "source": [
    "path = \"/Users/erikmenke/UC-Merced/Data/2018-2019/NSF HSI/2018-2019StudentData/2019Spring/Survey/\"\n",
    "PreSurveyChemDataFilename = \"Presurvey.xlsx\"\n",
    "PostSurveyChemDataFilename = \"Postsurvey.xlsx\"\n",
    "\n",
    "PreSurveyChemData <- read_excel(paste(path, PreSurveyChemDataFilename, sep=\"\"))\n",
    "PostSurveyChemData <- read_excel(paste(path, PostSurveyChemDataFilename, sep=\"\"))\n"
   ]
  },
  {
   "cell_type": "code",
   "execution_count": 3,
   "metadata": {},
   "outputs": [],
   "source": [
    "BioAttPreSubset<-PreSurveyChemData[-1,c('Q34_1', 'Q34_4', 'Q34_5', 'Q34_10', 'Q34_7', 'Q34_11', 'Q34_14', 'Q34_17')]\n",
    "BioAttPreSubset<-na.omit(BioAttPreSubset)\n",
    "BioAttPreSubset<-as.data.frame(sapply(BioAttPreSubset,as.numeric))\n"
   ]
  },
  {
   "cell_type": "code",
   "execution_count": 4,
   "metadata": {},
   "outputs": [],
   "source": [
    "BioAttPreSubset[\"Q34_1\"]<-(BioAttPreSubset[\"Q34_1\"] - 8)*-1\n",
    "BioAttPreSubset[\"Q34_7\"]<-(BioAttPreSubset[\"Q34_7\"] - 8)*-1\n",
    "BioAttPreSubset[\"Q34_11\"]<-(BioAttPreSubset[\"Q34_11\"] - 8)*-1\n",
    "BioAttPreSubset[\"Q34_14\"]<-(BioAttPreSubset[\"Q34_14\"] - 8)*-1\n"
   ]
  },
  {
   "cell_type": "code",
   "execution_count": 5,
   "metadata": {},
   "outputs": [],
   "source": [
    "prebiofit.model<-'Cognition =~ Q34_1 + Q34_4 + Q34_5 + Q34_10\n",
    "                Affect =~ Q34_7 + Q34_11 + Q34_14 + Q34_17'\n"
   ]
  },
  {
   "cell_type": "code",
   "execution_count": 6,
   "metadata": {},
   "outputs": [],
   "source": [
    "prebiofit <- cfa(prebiofit.model, data=BioAttPreSubset, estimator=\"MLR\")\n"
   ]
  },
  {
   "cell_type": "code",
   "execution_count": 7,
   "metadata": {},
   "outputs": [
    {
     "name": "stdout",
     "output_type": "stream",
     "text": [
      "lavaan 0.6-6 ended normally after 32 iterations\n",
      "\n",
      "  Estimator                                         ML\n",
      "  Optimization method                           NLMINB\n",
      "  Number of free parameters                         17\n",
      "                                                      \n",
      "  Number of observations                           690\n",
      "                                                      \n",
      "Model Test User Model:\n",
      "                                               Standard      Robust\n",
      "  Test Statistic                                225.315     170.252\n",
      "  Degrees of freedom                                 19          19\n",
      "  P-value (Chi-square)                            0.000       0.000\n",
      "  Scaling correction factor                                   1.323\n",
      "       Yuan-Bentler correction (Mplus variant)                     \n",
      "\n",
      "Model Test Baseline Model:\n",
      "\n",
      "  Test statistic                              1791.833    1189.518\n",
      "  Degrees of freedom                                28          28\n",
      "  P-value                                        0.000       0.000\n",
      "  Scaling correction factor                                  1.506\n",
      "\n",
      "User Model versus Baseline Model:\n",
      "\n",
      "  Comparative Fit Index (CFI)                    0.883       0.870\n",
      "  Tucker-Lewis Index (TLI)                       0.828       0.808\n",
      "                                                                  \n",
      "  Robust Comparative Fit Index (CFI)                         0.886\n",
      "  Robust Tucker-Lewis Index (TLI)                            0.831\n",
      "\n",
      "Loglikelihood and Information Criteria:\n",
      "\n",
      "  Loglikelihood user model (H0)              -8886.437   -8886.437\n",
      "  Scaling correction factor                                  1.422\n",
      "      for the MLR correction                                      \n",
      "  Loglikelihood unrestricted model (H1)      -8773.780   -8773.780\n",
      "  Scaling correction factor                                  1.370\n",
      "      for the MLR correction                                      \n",
      "                                                                  \n",
      "  Akaike (AIC)                               17806.875   17806.875\n",
      "  Bayesian (BIC)                             17883.999   17883.999\n",
      "  Sample-size adjusted Bayesian (BIC)        17830.021   17830.021\n",
      "\n",
      "Root Mean Square Error of Approximation:\n",
      "\n",
      "  RMSEA                                          0.125       0.107\n",
      "  90 Percent confidence interval - lower         0.111       0.095\n",
      "  90 Percent confidence interval - upper         0.140       0.121\n",
      "  P-value RMSEA <= 0.05                          0.000       0.000\n",
      "                                                                  \n",
      "  Robust RMSEA                                               0.124\n",
      "  90 Percent confidence interval - lower                     0.107\n",
      "  90 Percent confidence interval - upper                     0.141\n",
      "\n",
      "Standardized Root Mean Square Residual:\n",
      "\n",
      "  SRMR                                           0.093       0.093\n",
      "\n",
      "Parameter Estimates:\n",
      "\n",
      "  Standard errors                             Sandwich\n",
      "  Information bread                           Observed\n",
      "  Observed information based on                Hessian\n",
      "\n",
      "Latent Variables:\n",
      "                   Estimate  Std.Err  z-value  P(>|z|)   Std.lv  Std.all\n",
      "  Cognition =~                                                          \n",
      "    Q34_1             1.000                               1.163    0.692\n",
      "    Q34_4             0.916    0.078   11.728    0.000    1.065    0.730\n",
      "    Q34_5             0.950    0.067   14.222    0.000    1.105    0.789\n",
      "    Q34_10            0.552    0.067    8.225    0.000    0.642    0.516\n",
      "  Affect =~                                                             \n",
      "    Q34_7             1.000                               1.111    0.766\n",
      "    Q34_11            0.887    0.054   16.447    0.000    0.985    0.772\n",
      "    Q34_14            0.781    0.059   13.287    0.000    0.868    0.711\n",
      "    Q34_17            0.579    0.072    8.039    0.000    0.643    0.433\n",
      "\n",
      "Covariances:\n",
      "                   Estimate  Std.Err  z-value  P(>|z|)   Std.lv  Std.all\n",
      "  Cognition ~~                                                          \n",
      "    Affect            0.570    0.108    5.293    0.000    0.441    0.441\n",
      "\n",
      "Variances:\n",
      "                   Estimate  Std.Err  z-value  P(>|z|)   Std.lv  Std.all\n",
      "   .Q34_1             1.472    0.145   10.164    0.000    1.472    0.521\n",
      "   .Q34_4             0.992    0.111    8.921    0.000    0.992    0.467\n",
      "   .Q34_5             0.742    0.086    8.664    0.000    0.742    0.378\n",
      "   .Q34_10            1.133    0.083   13.596    0.000    1.133    0.733\n",
      "   .Q34_7             0.870    0.104    8.330    0.000    0.870    0.414\n",
      "   .Q34_11            0.659    0.074    8.864    0.000    0.659    0.404\n",
      "   .Q34_14            0.736    0.078    9.485    0.000    0.736    0.494\n",
      "   .Q34_17            1.796    0.124   14.454    0.000    1.796    0.813\n",
      "    Cognition         1.353    0.157    8.598    0.000    1.000    1.000\n",
      "    Affect            1.234    0.129    9.544    0.000    1.000    1.000\n",
      "\n",
      "R-Square:\n",
      "                   Estimate\n",
      "    Q34_1             0.479\n",
      "    Q34_4             0.533\n",
      "    Q34_5             0.622\n",
      "    Q34_10            0.267\n",
      "    Q34_7             0.586\n",
      "    Q34_11            0.596\n",
      "    Q34_14            0.506\n",
      "    Q34_17            0.187\n",
      "\n"
     ]
    }
   ],
   "source": [
    "summary(prebiofit, fit.measures=TRUE, standardized=TRUE, rsquare=TRUE)\n"
   ]
  },
  {
   "cell_type": "code",
   "execution_count": 8,
   "metadata": {},
   "outputs": [
    {
     "data": {
      "text/plain": [
       "\n",
       "Reliability analysis   \n",
       "Call: alpha(x = BioAttPreSubset[c(\"Q34_1\", \"Q34_4\", \"Q34_5\", \"Q34_10\")])\n",
       "\n",
       "  raw_alpha std.alpha G6(smc) average_r S/N   ase mean  sd median_r\n",
       "      0.78      0.78    0.74      0.47 3.5 0.014  3.5 1.1     0.49\n",
       "\n",
       " lower alpha upper     95% confidence boundaries\n",
       "0.75 0.78 0.8 \n",
       "\n",
       " Reliability if an item is dropped:\n",
       "       raw_alpha std.alpha G6(smc) average_r S/N alpha se  var.r med.r\n",
       "Q34_1       0.74      0.74    0.66      0.48 2.8    0.017 0.0113  0.49\n",
       "Q34_4       0.68      0.69    0.60      0.42 2.2    0.020 0.0088  0.37\n",
       "Q34_5       0.70      0.71    0.62      0.45 2.4    0.019 0.0047  0.48\n",
       "Q34_10      0.77      0.77    0.70      0.53 3.4    0.015 0.0025  0.53\n",
       "\n",
       " Item statistics \n",
       "         n raw.r std.r r.cor r.drop mean  sd\n",
       "Q34_1  690  0.79  0.77  0.64   0.57  3.8 1.7\n",
       "Q34_4  690  0.82  0.82  0.75   0.65  3.4 1.5\n",
       "Q34_5  690  0.80  0.80  0.71   0.63  4.0 1.4\n",
       "Q34_10 690  0.69  0.72  0.56   0.49  2.8 1.2\n",
       "\n",
       "Non missing response frequency for each item\n",
       "          1    2    3    4    5    6    7 miss\n",
       "Q34_1  0.08 0.15 0.22 0.17 0.19 0.10 0.07    0\n",
       "Q34_4  0.10 0.19 0.29 0.21 0.12 0.06 0.03    0\n",
       "Q34_5  0.04 0.10 0.24 0.27 0.22 0.09 0.04    0\n",
       "Q34_10 0.16 0.27 0.31 0.18 0.06 0.02 0.00    0"
      ]
     },
     "metadata": {},
     "output_type": "display_data"
    }
   ],
   "source": [
    "alpha(BioAttPreSubset[c('Q34_1', 'Q34_4', 'Q34_5', 'Q34_10')])\n"
   ]
  },
  {
   "cell_type": "code",
   "execution_count": 9,
   "metadata": {},
   "outputs": [
    {
     "data": {
      "text/plain": [
       "\n",
       "Reliability analysis   \n",
       "Call: alpha(x = BioAttPreSubset[c(\"Q34_7\", \"Q34_11\", \"Q34_14\", \"Q34_17\")])\n",
       "\n",
       "  raw_alpha std.alpha G6(smc) average_r S/N   ase mean sd median_r\n",
       "      0.75      0.76    0.72      0.44 3.1 0.016  4.7  1     0.44\n",
       "\n",
       " lower alpha upper     95% confidence boundaries\n",
       "0.72 0.75 0.78 \n",
       "\n",
       " Reliability if an item is dropped:\n",
       "       raw_alpha std.alpha G6(smc) average_r S/N alpha se  var.r med.r\n",
       "Q34_7       0.66      0.67    0.59      0.40 2.0    0.023 0.0142  0.34\n",
       "Q34_11      0.64      0.65    0.57      0.38 1.8    0.024 0.0178  0.33\n",
       "Q34_14      0.67      0.68    0.62      0.41 2.1    0.022 0.0320  0.34\n",
       "Q34_17      0.79      0.79    0.72      0.56 3.9    0.014 0.0022  0.54\n",
       "\n",
       " Item statistics \n",
       "         n raw.r std.r r.cor r.drop mean  sd\n",
       "Q34_7  690  0.80  0.80  0.72   0.60  4.9 1.5\n",
       "Q34_11 690  0.81  0.82  0.76   0.65  4.8 1.3\n",
       "Q34_14 690  0.77  0.79  0.68   0.59  4.7 1.2\n",
       "Q34_17 690  0.66  0.64  0.42   0.37  4.6 1.5\n",
       "\n",
       "Non missing response frequency for each item\n",
       "          1    2    3    4    5    6    7 miss\n",
       "Q34_7  0.01 0.05 0.09 0.25 0.26 0.17 0.17    0\n",
       "Q34_11 0.01 0.03 0.06 0.31 0.29 0.19 0.11    0\n",
       "Q34_14 0.01 0.03 0.07 0.39 0.27 0.15 0.09    0\n",
       "Q34_17 0.04 0.06 0.10 0.31 0.22 0.18 0.10    0"
      ]
     },
     "metadata": {},
     "output_type": "display_data"
    }
   ],
   "source": [
    "alpha(BioAttPreSubset[c('Q34_7', 'Q34_11', 'Q34_14', 'Q34_17')])\n"
   ]
  },
  {
   "cell_type": "code",
   "execution_count": 10,
   "metadata": {},
   "outputs": [],
   "source": [
    "BioAttPostSubset<-PostSurveyChemData[-1,c('Q34_1', 'Q34_4', 'Q34_5', 'Q34_10', 'Q34_7', 'Q34_11', 'Q34_14', 'Q34_17')]\n",
    "BioAttPostSubset<-na.omit(BioAttPostSubset)\n",
    "BioAttPostSubset<-as.data.frame(sapply(BioAttPostSubset,as.numeric))\n"
   ]
  },
  {
   "cell_type": "code",
   "execution_count": 11,
   "metadata": {},
   "outputs": [],
   "source": [
    "BioAttPostSubset[\"Q34_1\"]<-(BioAttPostSubset[\"Q34_1\"] - 8)*-1\n",
    "BioAttPostSubset[\"Q34_7\"]<-(BioAttPostSubset[\"Q34_7\"] - 8)*-1\n",
    "BioAttPostSubset[\"Q34_11\"]<-(BioAttPostSubset[\"Q34_11\"] - 8)*-1\n",
    "BioAttPostSubset[\"Q34_14\"]<-(BioAttPostSubset[\"Q34_14\"] - 8)*-1\n"
   ]
  },
  {
   "cell_type": "code",
   "execution_count": 12,
   "metadata": {},
   "outputs": [],
   "source": [
    "postbiofit.model<-'Cognition =~ Q34_1 + Q34_4 + Q34_5 + Q34_10\n",
    "                Affect =~ Q34_7 + Q34_11 + Q34_14 + Q34_17'\n"
   ]
  },
  {
   "cell_type": "code",
   "execution_count": 13,
   "metadata": {},
   "outputs": [],
   "source": [
    "postbiofit <- cfa(postbiofit.model, data=BioAttPostSubset, estimator=\"MLR\")\n"
   ]
  },
  {
   "cell_type": "code",
   "execution_count": 14,
   "metadata": {},
   "outputs": [
    {
     "name": "stdout",
     "output_type": "stream",
     "text": [
      "lavaan 0.6-6 ended normally after 35 iterations\n",
      "\n",
      "  Estimator                                         ML\n",
      "  Optimization method                           NLMINB\n",
      "  Number of free parameters                         17\n",
      "                                                      \n",
      "  Number of observations                           178\n",
      "                                                      \n",
      "Model Test User Model:\n",
      "                                               Standard      Robust\n",
      "  Test Statistic                                124.046     106.425\n",
      "  Degrees of freedom                                 19          19\n",
      "  P-value (Chi-square)                            0.000       0.000\n",
      "  Scaling correction factor                                   1.166\n",
      "       Yuan-Bentler correction (Mplus variant)                     \n",
      "\n",
      "Model Test Baseline Model:\n",
      "\n",
      "  Test statistic                               725.807     523.450\n",
      "  Degrees of freedom                                28          28\n",
      "  P-value                                        0.000       0.000\n",
      "  Scaling correction factor                                  1.387\n",
      "\n",
      "User Model versus Baseline Model:\n",
      "\n",
      "  Comparative Fit Index (CFI)                    0.849       0.824\n",
      "  Tucker-Lewis Index (TLI)                       0.778       0.740\n",
      "                                                                  \n",
      "  Robust Comparative Fit Index (CFI)                         0.852\n",
      "  Robust Tucker-Lewis Index (TLI)                            0.781\n",
      "\n",
      "Loglikelihood and Information Criteria:\n",
      "\n",
      "  Loglikelihood user model (H0)              -2292.911   -2292.911\n",
      "  Scaling correction factor                                  1.434\n",
      "      for the MLR correction                                      \n",
      "  Loglikelihood unrestricted model (H1)      -2230.888   -2230.888\n",
      "  Scaling correction factor                                  1.292\n",
      "      for the MLR correction                                      \n",
      "                                                                  \n",
      "  Akaike (AIC)                                4619.822    4619.822\n",
      "  Bayesian (BIC)                              4673.913    4673.913\n",
      "  Sample-size adjusted Bayesian (BIC)         4620.076    4620.076\n",
      "\n",
      "Root Mean Square Error of Approximation:\n",
      "\n",
      "  RMSEA                                          0.176       0.161\n",
      "  90 Percent confidence interval - lower         0.147       0.134\n",
      "  90 Percent confidence interval - upper         0.206       0.189\n",
      "  P-value RMSEA <= 0.05                          0.000       0.000\n",
      "                                                                  \n",
      "  Robust RMSEA                                               0.174\n",
      "  90 Percent confidence interval - lower                     0.142\n",
      "  90 Percent confidence interval - upper                     0.206\n",
      "\n",
      "Standardized Root Mean Square Residual:\n",
      "\n",
      "  SRMR                                           0.133       0.133\n",
      "\n",
      "Parameter Estimates:\n",
      "\n",
      "  Standard errors                             Sandwich\n",
      "  Information bread                           Observed\n",
      "  Observed information based on                Hessian\n",
      "\n",
      "Latent Variables:\n",
      "                   Estimate  Std.Err  z-value  P(>|z|)   Std.lv  Std.all\n",
      "  Cognition =~                                                          \n",
      "    Q34_1             1.000                               1.206    0.689\n",
      "    Q34_4             0.992    0.186    5.331    0.000    1.197    0.765\n",
      "    Q34_5             1.005    0.129    7.819    0.000    1.212    0.800\n",
      "    Q34_10            0.771    0.158    4.891    0.000    0.929    0.687\n",
      "  Affect =~                                                             \n",
      "    Q34_7             1.000                               1.370    0.822\n",
      "    Q34_11            0.923    0.055   16.817    0.000    1.264    0.889\n",
      "    Q34_14            0.767    0.066   11.629    0.000    1.051    0.832\n",
      "    Q34_17            0.399    0.121    3.298    0.001    0.546    0.367\n",
      "\n",
      "Covariances:\n",
      "                   Estimate  Std.Err  z-value  P(>|z|)   Std.lv  Std.all\n",
      "  Cognition ~~                                                          \n",
      "    Affect            0.819    0.322    2.548    0.011    0.496    0.496\n",
      "\n",
      "Variances:\n",
      "                   Estimate  Std.Err  z-value  P(>|z|)   Std.lv  Std.all\n",
      "   .Q34_1             1.611    0.328    4.911    0.000    1.611    0.526\n",
      "   .Q34_4             1.018    0.273    3.726    0.000    1.018    0.415\n",
      "   .Q34_5             0.828    0.210    3.946    0.000    0.828    0.361\n",
      "   .Q34_10            0.965    0.170    5.664    0.000    0.965    0.528\n",
      "   .Q34_7             0.898    0.143    6.270    0.000    0.898    0.324\n",
      "   .Q34_11            0.426    0.111    3.847    0.000    0.426    0.210\n",
      "   .Q34_14            0.490    0.099    4.944    0.000    0.490    0.307\n",
      "   .Q34_17            1.919    0.260    7.383    0.000    1.919    0.865\n",
      "    Cognition         1.454    0.370    3.932    0.000    1.000    1.000\n",
      "    Affect            1.878    0.245    7.665    0.000    1.000    1.000\n",
      "\n",
      "R-Square:\n",
      "                   Estimate\n",
      "    Q34_1             0.474\n",
      "    Q34_4             0.585\n",
      "    Q34_5             0.639\n",
      "    Q34_10            0.472\n",
      "    Q34_7             0.676\n",
      "    Q34_11            0.790\n",
      "    Q34_14            0.693\n",
      "    Q34_17            0.135\n",
      "\n"
     ]
    }
   ],
   "source": [
    "summary(postbiofit, fit.measures=TRUE, standardized=TRUE, rsquare=TRUE)\n"
   ]
  },
  {
   "cell_type": "code",
   "execution_count": 15,
   "metadata": {},
   "outputs": [
    {
     "data": {
      "text/plain": [
       "\n",
       "Reliability analysis   \n",
       "Call: alpha(x = BioAttPostSubset[c(\"Q34_1\", \"Q34_4\", \"Q34_5\", \"Q34_10\")])\n",
       "\n",
       "  raw_alpha std.alpha G6(smc) average_r S/N   ase mean  sd median_r\n",
       "      0.82      0.82    0.79      0.54 4.7 0.022  3.3 1.3     0.52\n",
       "\n",
       " lower alpha upper     95% confidence boundaries\n",
       "0.78 0.82 0.86 \n",
       "\n",
       " Reliability if an item is dropped:\n",
       "       raw_alpha std.alpha G6(smc) average_r S/N alpha se  var.r med.r\n",
       "Q34_1       0.81      0.81    0.75      0.59 4.3    0.024 0.0052  0.61\n",
       "Q34_4       0.75      0.75    0.67      0.50 3.0    0.032 0.0016  0.51\n",
       "Q34_5       0.76      0.77    0.70      0.53 3.4    0.031 0.0103  0.48\n",
       "Q34_10      0.78      0.78    0.71      0.54 3.6    0.029 0.0044  0.54\n",
       "\n",
       " Item statistics \n",
       "         n raw.r std.r r.cor r.drop mean  sd\n",
       "Q34_1  178  0.79  0.77  0.64   0.58  3.7 1.8\n",
       "Q34_4  178  0.84  0.84  0.79   0.70  3.2 1.6\n",
       "Q34_5  178  0.82  0.82  0.74   0.67  3.7 1.5\n",
       "Q34_10 178  0.79  0.81  0.72   0.64  2.8 1.4\n",
       "\n",
       "Non missing response frequency for each item\n",
       "          1    2    3    4    5    6    7 miss\n",
       "Q34_1  0.11 0.16 0.22 0.19 0.15 0.08 0.09    0\n",
       "Q34_4  0.15 0.24 0.19 0.25 0.10 0.04 0.04    0\n",
       "Q34_5  0.06 0.17 0.26 0.21 0.17 0.08 0.05    0\n",
       "Q34_10 0.17 0.30 0.27 0.17 0.04 0.01 0.03    0"
      ]
     },
     "metadata": {},
     "output_type": "display_data"
    }
   ],
   "source": [
    "alpha(BioAttPostSubset[c('Q34_1', 'Q34_4', 'Q34_5', 'Q34_10')])\n"
   ]
  },
  {
   "cell_type": "code",
   "execution_count": 16,
   "metadata": {},
   "outputs": [
    {
     "data": {
      "text/plain": [
       "\n",
       "Reliability analysis   \n",
       "Call: alpha(x = BioAttPostSubset[c(\"Q34_7\", \"Q34_11\", \"Q34_14\", \"Q34_17\")])\n",
       "\n",
       "  raw_alpha std.alpha G6(smc) average_r S/N   ase mean  sd median_r\n",
       "      0.79       0.8     0.8       0.5 4.1 0.026  4.5 1.2      0.5\n",
       "\n",
       " lower alpha upper     95% confidence boundaries\n",
       "0.74 0.79 0.84 \n",
       "\n",
       " Reliability if an item is dropped:\n",
       "       raw_alpha std.alpha G6(smc) average_r S/N alpha se  var.r med.r\n",
       "Q34_7       0.71      0.72    0.69      0.46 2.5    0.040 0.0592  0.33\n",
       "Q34_11      0.66      0.68    0.64      0.41 2.1    0.045 0.0529  0.33\n",
       "Q34_14      0.69      0.69    0.68      0.43 2.3    0.041 0.0783  0.31\n",
       "Q34_17      0.88      0.88    0.84      0.72 7.7    0.015 0.0019  0.74\n",
       "\n",
       " Item statistics \n",
       "         n raw.r std.r r.cor r.drop mean  sd\n",
       "Q34_7  178  0.85  0.84  0.79   0.68  4.4 1.7\n",
       "Q34_11 178  0.88  0.88  0.87   0.77  4.6 1.4\n",
       "Q34_14 178  0.85  0.86  0.82   0.74  4.6 1.3\n",
       "Q34_17 178  0.59  0.59  0.35   0.31  4.2 1.5\n",
       "\n",
       "Non missing response frequency for each item\n",
       "          1    2    3    4    5    6    7 miss\n",
       "Q34_7  0.04 0.11 0.10 0.29 0.16 0.17 0.13    0\n",
       "Q34_11 0.04 0.02 0.10 0.35 0.24 0.14 0.12    0\n",
       "Q34_14 0.03 0.03 0.06 0.41 0.26 0.14 0.07    0\n",
       "Q34_17 0.07 0.06 0.12 0.38 0.20 0.10 0.08    0"
      ]
     },
     "metadata": {},
     "output_type": "display_data"
    }
   ],
   "source": [
    "alpha(BioAttPostSubset[c('Q34_7', 'Q34_11', 'Q34_14', 'Q34_17')])\n"
   ]
  },
  {
   "cell_type": "code",
   "execution_count": null,
   "metadata": {},
   "outputs": [],
   "source": []
  }
 ],
 "metadata": {
  "kernelspec": {
   "display_name": "R",
   "language": "R",
   "name": "ir"
  },
  "language_info": {
   "codemirror_mode": "r",
   "file_extension": ".r",
   "mimetype": "text/x-r-source",
   "name": "R",
   "pygments_lexer": "r",
   "version": "3.6.1"
  }
 },
 "nbformat": 4,
 "nbformat_minor": 4
}
